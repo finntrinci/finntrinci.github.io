{
  "nbformat": 4,
  "nbformat_minor": 0,
  "metadata": {
    "colab": {
      "provenance": [],
      "authorship_tag": "ABX9TyM94tUCKm4qBittp6RMmFm1",
      "include_colab_link": true
    },
    "kernelspec": {
      "name": "python3",
      "display_name": "Python 3"
    },
    "language_info": {
      "name": "python"
    }
  },
  "cells": [
    {
      "cell_type": "markdown",
      "metadata": {
        "id": "view-in-github",
        "colab_type": "text"
      },
      "source": [
        "<a href=\"https://colab.research.google.com/github/finntrinci/finntrinci.github.io/blob/main/Python/EPI_Analysis.ipynb\" target=\"_parent\"><img src=\"https://colab.research.google.com/assets/colab-badge.svg\" alt=\"Open In Colab\"/></a>"
      ]
    },
    {
      "cell_type": "code",
      "execution_count": 1,
      "metadata": {
        "id": "1zwNM6CWK95Q"
      },
      "outputs": [],
      "source": [
        "import pandas as pd\n",
        "import requests\n",
        "import json\n",
        "import numpy as np"
      ]
    },
    {
      "cell_type": "code",
      "source": [
        "df = pd.read_csv('https://raw.githubusercontent.com/finntrinci/finntrinci.github.io/main/data/epi2022results.csv')\n",
        "df.head(2) "
      ],
      "metadata": {
        "id": "1Ss3lE2_LJX1",
        "colab": {
          "base_uri": "https://localhost:8080/",
          "height": 258
        },
        "outputId": "8b66f1f0-cfd5-4199-b41c-cab498b826ee"
      },
      "execution_count": 2,
      "outputs": [
        {
          "output_type": "execute_result",
          "data": {
            "text/plain": [
              "   code  iso      country              region  EPI.new  HLT.new  AIR.new  \\\n",
              "0     4  AFG  Afghanistan       Southern Asia     43.6     16.0     15.5   \n",
              "1    24  AGO       Angola  Sub-Saharan Africa     30.5     20.5     23.1   \n",
              "\n",
              "   HAD.new  PMD.new  OZD.new  ...  CCH.rnk.old  CDA.rnk.old  CHA.rnk.old  \\\n",
              "0      7.4     16.0     18.4  ...          159          161          164   \n",
              "1     17.9     24.0     36.8  ...           81           29           35   \n",
              "\n",
              "   FGA.rnk.old  NDA.rnk.old  BCA.rnk.old  GHN.rnk.old  LCB.rnk.old  \\\n",
              "0          NaN          141          142          112         12.0   \n",
              "1         77.0          132          105          119        135.0   \n",
              "\n",
              "   GIB.rnk.old  GHP.rnk.old  \n",
              "0          129            1  \n",
              "1            1           87  \n",
              "\n",
              "[2 rows x 279 columns]"
            ],
            "text/html": [
              "\n",
              "  <div id=\"df-2b7fc606-ecc6-42f8-b67c-2dfe9b5128fc\">\n",
              "    <div class=\"colab-df-container\">\n",
              "      <div>\n",
              "<style scoped>\n",
              "    .dataframe tbody tr th:only-of-type {\n",
              "        vertical-align: middle;\n",
              "    }\n",
              "\n",
              "    .dataframe tbody tr th {\n",
              "        vertical-align: top;\n",
              "    }\n",
              "\n",
              "    .dataframe thead th {\n",
              "        text-align: right;\n",
              "    }\n",
              "</style>\n",
              "<table border=\"1\" class=\"dataframe\">\n",
              "  <thead>\n",
              "    <tr style=\"text-align: right;\">\n",
              "      <th></th>\n",
              "      <th>code</th>\n",
              "      <th>iso</th>\n",
              "      <th>country</th>\n",
              "      <th>region</th>\n",
              "      <th>EPI.new</th>\n",
              "      <th>HLT.new</th>\n",
              "      <th>AIR.new</th>\n",
              "      <th>HAD.new</th>\n",
              "      <th>PMD.new</th>\n",
              "      <th>OZD.new</th>\n",
              "      <th>...</th>\n",
              "      <th>CCH.rnk.old</th>\n",
              "      <th>CDA.rnk.old</th>\n",
              "      <th>CHA.rnk.old</th>\n",
              "      <th>FGA.rnk.old</th>\n",
              "      <th>NDA.rnk.old</th>\n",
              "      <th>BCA.rnk.old</th>\n",
              "      <th>GHN.rnk.old</th>\n",
              "      <th>LCB.rnk.old</th>\n",
              "      <th>GIB.rnk.old</th>\n",
              "      <th>GHP.rnk.old</th>\n",
              "    </tr>\n",
              "  </thead>\n",
              "  <tbody>\n",
              "    <tr>\n",
              "      <th>0</th>\n",
              "      <td>4</td>\n",
              "      <td>AFG</td>\n",
              "      <td>Afghanistan</td>\n",
              "      <td>Southern Asia</td>\n",
              "      <td>43.6</td>\n",
              "      <td>16.0</td>\n",
              "      <td>15.5</td>\n",
              "      <td>7.4</td>\n",
              "      <td>16.0</td>\n",
              "      <td>18.4</td>\n",
              "      <td>...</td>\n",
              "      <td>159</td>\n",
              "      <td>161</td>\n",
              "      <td>164</td>\n",
              "      <td>NaN</td>\n",
              "      <td>141</td>\n",
              "      <td>142</td>\n",
              "      <td>112</td>\n",
              "      <td>12.0</td>\n",
              "      <td>129</td>\n",
              "      <td>1</td>\n",
              "    </tr>\n",
              "    <tr>\n",
              "      <th>1</th>\n",
              "      <td>24</td>\n",
              "      <td>AGO</td>\n",
              "      <td>Angola</td>\n",
              "      <td>Sub-Saharan Africa</td>\n",
              "      <td>30.5</td>\n",
              "      <td>20.5</td>\n",
              "      <td>23.1</td>\n",
              "      <td>17.9</td>\n",
              "      <td>24.0</td>\n",
              "      <td>36.8</td>\n",
              "      <td>...</td>\n",
              "      <td>81</td>\n",
              "      <td>29</td>\n",
              "      <td>35</td>\n",
              "      <td>77.0</td>\n",
              "      <td>132</td>\n",
              "      <td>105</td>\n",
              "      <td>119</td>\n",
              "      <td>135.0</td>\n",
              "      <td>1</td>\n",
              "      <td>87</td>\n",
              "    </tr>\n",
              "  </tbody>\n",
              "</table>\n",
              "<p>2 rows × 279 columns</p>\n",
              "</div>\n",
              "      <button class=\"colab-df-convert\" onclick=\"convertToInteractive('df-2b7fc606-ecc6-42f8-b67c-2dfe9b5128fc')\"\n",
              "              title=\"Convert this dataframe to an interactive table.\"\n",
              "              style=\"display:none;\">\n",
              "        \n",
              "  <svg xmlns=\"http://www.w3.org/2000/svg\" height=\"24px\"viewBox=\"0 0 24 24\"\n",
              "       width=\"24px\">\n",
              "    <path d=\"M0 0h24v24H0V0z\" fill=\"none\"/>\n",
              "    <path d=\"M18.56 5.44l.94 2.06.94-2.06 2.06-.94-2.06-.94-.94-2.06-.94 2.06-2.06.94zm-11 1L8.5 8.5l.94-2.06 2.06-.94-2.06-.94L8.5 2.5l-.94 2.06-2.06.94zm10 10l.94 2.06.94-2.06 2.06-.94-2.06-.94-.94-2.06-.94 2.06-2.06.94z\"/><path d=\"M17.41 7.96l-1.37-1.37c-.4-.4-.92-.59-1.43-.59-.52 0-1.04.2-1.43.59L10.3 9.45l-7.72 7.72c-.78.78-.78 2.05 0 2.83L4 21.41c.39.39.9.59 1.41.59.51 0 1.02-.2 1.41-.59l7.78-7.78 2.81-2.81c.8-.78.8-2.07 0-2.86zM5.41 20L4 18.59l7.72-7.72 1.47 1.35L5.41 20z\"/>\n",
              "  </svg>\n",
              "      </button>\n",
              "      \n",
              "  <style>\n",
              "    .colab-df-container {\n",
              "      display:flex;\n",
              "      flex-wrap:wrap;\n",
              "      gap: 12px;\n",
              "    }\n",
              "\n",
              "    .colab-df-convert {\n",
              "      background-color: #E8F0FE;\n",
              "      border: none;\n",
              "      border-radius: 50%;\n",
              "      cursor: pointer;\n",
              "      display: none;\n",
              "      fill: #1967D2;\n",
              "      height: 32px;\n",
              "      padding: 0 0 0 0;\n",
              "      width: 32px;\n",
              "    }\n",
              "\n",
              "    .colab-df-convert:hover {\n",
              "      background-color: #E2EBFA;\n",
              "      box-shadow: 0px 1px 2px rgba(60, 64, 67, 0.3), 0px 1px 3px 1px rgba(60, 64, 67, 0.15);\n",
              "      fill: #174EA6;\n",
              "    }\n",
              "\n",
              "    [theme=dark] .colab-df-convert {\n",
              "      background-color: #3B4455;\n",
              "      fill: #D2E3FC;\n",
              "    }\n",
              "\n",
              "    [theme=dark] .colab-df-convert:hover {\n",
              "      background-color: #434B5C;\n",
              "      box-shadow: 0px 1px 3px 1px rgba(0, 0, 0, 0.15);\n",
              "      filter: drop-shadow(0px 1px 2px rgba(0, 0, 0, 0.3));\n",
              "      fill: #FFFFFF;\n",
              "    }\n",
              "  </style>\n",
              "\n",
              "      <script>\n",
              "        const buttonEl =\n",
              "          document.querySelector('#df-2b7fc606-ecc6-42f8-b67c-2dfe9b5128fc button.colab-df-convert');\n",
              "        buttonEl.style.display =\n",
              "          google.colab.kernel.accessAllowed ? 'block' : 'none';\n",
              "\n",
              "        async function convertToInteractive(key) {\n",
              "          const element = document.querySelector('#df-2b7fc606-ecc6-42f8-b67c-2dfe9b5128fc');\n",
              "          const dataTable =\n",
              "            await google.colab.kernel.invokeFunction('convertToInteractive',\n",
              "                                                     [key], {});\n",
              "          if (!dataTable) return;\n",
              "\n",
              "          const docLinkHtml = 'Like what you see? Visit the ' +\n",
              "            '<a target=\"_blank\" href=https://colab.research.google.com/notebooks/data_table.ipynb>data table notebook</a>'\n",
              "            + ' to learn more about interactive tables.';\n",
              "          element.innerHTML = '';\n",
              "          dataTable['output_type'] = 'display_data';\n",
              "          await google.colab.output.renderOutput(dataTable, element);\n",
              "          const docLink = document.createElement('div');\n",
              "          docLink.innerHTML = docLinkHtml;\n",
              "          element.appendChild(docLink);\n",
              "        }\n",
              "      </script>\n",
              "    </div>\n",
              "  </div>\n",
              "  "
            ]
          },
          "metadata": {},
          "execution_count": 2
        }
      ]
    },
    {
      "cell_type": "code",
      "source": [
        "#Now from this dataset we want to only take the relevant variables. Here, I'm taking the 2022 (new) and 2012 (old) \n",
        "#values for the overall EPI, the CCH component (climate change measure), and then the indicators which make up the CCH\n",
        "#measure.\n",
        "varlist = ['code', 'iso', 'country', 'EPI.new', 'EPI.old', 'CCH.new', 'CCH.old', 'GHN.new', 'GHN.old', 'CDA.new', 'CDA.old', 'CHA.new', 'CHA.old', 'LCB.new', 'LCB.old', 'GIB.new', 'GIB.old', 'FGA.new', 'FGA.old', 'BCA.new', 'BCA.old', 'GHP.new', 'GHP.old', 'NDA.new', 'NDA.old', 'AIR.new', 'AIR.old', 'ACD.new', 'ACD.old' ]\n",
        "df = df[varlist]\n",
        "df.head(2)"
      ],
      "metadata": {
        "id": "F5zuhuHyMIiS",
        "colab": {
          "base_uri": "https://localhost:8080/",
          "height": 205
        },
        "outputId": "d5219896-360e-4573-c64f-25b0ce161aaa"
      },
      "execution_count": 4,
      "outputs": [
        {
          "output_type": "execute_result",
          "data": {
            "text/plain": [
              "   code  iso      country  EPI.new  EPI.old  CCH.new  CCH.old  GHN.new  \\\n",
              "0     4  AFG  Afghanistan     43.6     19.7     65.6     21.0     45.3   \n",
              "1    24  AGO       Angola     30.5     30.3     37.7     41.5     26.4   \n",
              "\n",
              "   GHN.old  CDA.new  ...  BCA.new  BCA.old  GHP.new  GHP.old  NDA.new  \\\n",
              "0     29.3     83.9  ...     42.9     37.7    100.0    100.0     63.7   \n",
              "1     26.5     39.0  ...     51.8     56.6     62.3     55.5     70.4   \n",
              "\n",
              "   NDA.old  AIR.new  AIR.old  ACD.new  ACD.old  \n",
              "0     31.3     15.5     19.8     35.5      0.0  \n",
              "1     35.1     23.1     24.9     50.5      8.8  \n",
              "\n",
              "[2 rows x 29 columns]"
            ],
            "text/html": [
              "\n",
              "  <div id=\"df-64784883-4ea0-4f79-ad80-ef712af1a963\">\n",
              "    <div class=\"colab-df-container\">\n",
              "      <div>\n",
              "<style scoped>\n",
              "    .dataframe tbody tr th:only-of-type {\n",
              "        vertical-align: middle;\n",
              "    }\n",
              "\n",
              "    .dataframe tbody tr th {\n",
              "        vertical-align: top;\n",
              "    }\n",
              "\n",
              "    .dataframe thead th {\n",
              "        text-align: right;\n",
              "    }\n",
              "</style>\n",
              "<table border=\"1\" class=\"dataframe\">\n",
              "  <thead>\n",
              "    <tr style=\"text-align: right;\">\n",
              "      <th></th>\n",
              "      <th>code</th>\n",
              "      <th>iso</th>\n",
              "      <th>country</th>\n",
              "      <th>EPI.new</th>\n",
              "      <th>EPI.old</th>\n",
              "      <th>CCH.new</th>\n",
              "      <th>CCH.old</th>\n",
              "      <th>GHN.new</th>\n",
              "      <th>GHN.old</th>\n",
              "      <th>CDA.new</th>\n",
              "      <th>...</th>\n",
              "      <th>BCA.new</th>\n",
              "      <th>BCA.old</th>\n",
              "      <th>GHP.new</th>\n",
              "      <th>GHP.old</th>\n",
              "      <th>NDA.new</th>\n",
              "      <th>NDA.old</th>\n",
              "      <th>AIR.new</th>\n",
              "      <th>AIR.old</th>\n",
              "      <th>ACD.new</th>\n",
              "      <th>ACD.old</th>\n",
              "    </tr>\n",
              "  </thead>\n",
              "  <tbody>\n",
              "    <tr>\n",
              "      <th>0</th>\n",
              "      <td>4</td>\n",
              "      <td>AFG</td>\n",
              "      <td>Afghanistan</td>\n",
              "      <td>43.6</td>\n",
              "      <td>19.7</td>\n",
              "      <td>65.6</td>\n",
              "      <td>21.0</td>\n",
              "      <td>45.3</td>\n",
              "      <td>29.3</td>\n",
              "      <td>83.9</td>\n",
              "      <td>...</td>\n",
              "      <td>42.9</td>\n",
              "      <td>37.7</td>\n",
              "      <td>100.0</td>\n",
              "      <td>100.0</td>\n",
              "      <td>63.7</td>\n",
              "      <td>31.3</td>\n",
              "      <td>15.5</td>\n",
              "      <td>19.8</td>\n",
              "      <td>35.5</td>\n",
              "      <td>0.0</td>\n",
              "    </tr>\n",
              "    <tr>\n",
              "      <th>1</th>\n",
              "      <td>24</td>\n",
              "      <td>AGO</td>\n",
              "      <td>Angola</td>\n",
              "      <td>30.5</td>\n",
              "      <td>30.3</td>\n",
              "      <td>37.7</td>\n",
              "      <td>41.5</td>\n",
              "      <td>26.4</td>\n",
              "      <td>26.5</td>\n",
              "      <td>39.0</td>\n",
              "      <td>...</td>\n",
              "      <td>51.8</td>\n",
              "      <td>56.6</td>\n",
              "      <td>62.3</td>\n",
              "      <td>55.5</td>\n",
              "      <td>70.4</td>\n",
              "      <td>35.1</td>\n",
              "      <td>23.1</td>\n",
              "      <td>24.9</td>\n",
              "      <td>50.5</td>\n",
              "      <td>8.8</td>\n",
              "    </tr>\n",
              "  </tbody>\n",
              "</table>\n",
              "<p>2 rows × 29 columns</p>\n",
              "</div>\n",
              "      <button class=\"colab-df-convert\" onclick=\"convertToInteractive('df-64784883-4ea0-4f79-ad80-ef712af1a963')\"\n",
              "              title=\"Convert this dataframe to an interactive table.\"\n",
              "              style=\"display:none;\">\n",
              "        \n",
              "  <svg xmlns=\"http://www.w3.org/2000/svg\" height=\"24px\"viewBox=\"0 0 24 24\"\n",
              "       width=\"24px\">\n",
              "    <path d=\"M0 0h24v24H0V0z\" fill=\"none\"/>\n",
              "    <path d=\"M18.56 5.44l.94 2.06.94-2.06 2.06-.94-2.06-.94-.94-2.06-.94 2.06-2.06.94zm-11 1L8.5 8.5l.94-2.06 2.06-.94-2.06-.94L8.5 2.5l-.94 2.06-2.06.94zm10 10l.94 2.06.94-2.06 2.06-.94-2.06-.94-.94-2.06-.94 2.06-2.06.94z\"/><path d=\"M17.41 7.96l-1.37-1.37c-.4-.4-.92-.59-1.43-.59-.52 0-1.04.2-1.43.59L10.3 9.45l-7.72 7.72c-.78.78-.78 2.05 0 2.83L4 21.41c.39.39.9.59 1.41.59.51 0 1.02-.2 1.41-.59l7.78-7.78 2.81-2.81c.8-.78.8-2.07 0-2.86zM5.41 20L4 18.59l7.72-7.72 1.47 1.35L5.41 20z\"/>\n",
              "  </svg>\n",
              "      </button>\n",
              "      \n",
              "  <style>\n",
              "    .colab-df-container {\n",
              "      display:flex;\n",
              "      flex-wrap:wrap;\n",
              "      gap: 12px;\n",
              "    }\n",
              "\n",
              "    .colab-df-convert {\n",
              "      background-color: #E8F0FE;\n",
              "      border: none;\n",
              "      border-radius: 50%;\n",
              "      cursor: pointer;\n",
              "      display: none;\n",
              "      fill: #1967D2;\n",
              "      height: 32px;\n",
              "      padding: 0 0 0 0;\n",
              "      width: 32px;\n",
              "    }\n",
              "\n",
              "    .colab-df-convert:hover {\n",
              "      background-color: #E2EBFA;\n",
              "      box-shadow: 0px 1px 2px rgba(60, 64, 67, 0.3), 0px 1px 3px 1px rgba(60, 64, 67, 0.15);\n",
              "      fill: #174EA6;\n",
              "    }\n",
              "\n",
              "    [theme=dark] .colab-df-convert {\n",
              "      background-color: #3B4455;\n",
              "      fill: #D2E3FC;\n",
              "    }\n",
              "\n",
              "    [theme=dark] .colab-df-convert:hover {\n",
              "      background-color: #434B5C;\n",
              "      box-shadow: 0px 1px 3px 1px rgba(0, 0, 0, 0.15);\n",
              "      filter: drop-shadow(0px 1px 2px rgba(0, 0, 0, 0.3));\n",
              "      fill: #FFFFFF;\n",
              "    }\n",
              "  </style>\n",
              "\n",
              "      <script>\n",
              "        const buttonEl =\n",
              "          document.querySelector('#df-64784883-4ea0-4f79-ad80-ef712af1a963 button.colab-df-convert');\n",
              "        buttonEl.style.display =\n",
              "          google.colab.kernel.accessAllowed ? 'block' : 'none';\n",
              "\n",
              "        async function convertToInteractive(key) {\n",
              "          const element = document.querySelector('#df-64784883-4ea0-4f79-ad80-ef712af1a963');\n",
              "          const dataTable =\n",
              "            await google.colab.kernel.invokeFunction('convertToInteractive',\n",
              "                                                     [key], {});\n",
              "          if (!dataTable) return;\n",
              "\n",
              "          const docLinkHtml = 'Like what you see? Visit the ' +\n",
              "            '<a target=\"_blank\" href=https://colab.research.google.com/notebooks/data_table.ipynb>data table notebook</a>'\n",
              "            + ' to learn more about interactive tables.';\n",
              "          element.innerHTML = '';\n",
              "          dataTable['output_type'] = 'display_data';\n",
              "          await google.colab.output.renderOutput(dataTable, element);\n",
              "          const docLink = document.createElement('div');\n",
              "          docLink.innerHTML = docLinkHtml;\n",
              "          element.appendChild(docLink);\n",
              "        }\n",
              "      </script>\n",
              "    </div>\n",
              "  </div>\n",
              "  "
            ]
          },
          "metadata": {},
          "execution_count": 4
        }
      ]
    },
    {
      "cell_type": "code",
      "source": [
        "#renaming the columns so that my wide_to_long function works properly and returns a year column.\n",
        "df.columns = ['code', 'iso', 'country', 'EPI_2022', 'EPI_2012', 'CCH_2022', 'CCH_2012', 'GHN_2022', 'GHN_2012', 'CDA_2022', 'CDA_2012', 'CHA_2022', 'CHA_2012', 'LCB_2022', 'LCB_2012', 'GIB_2022', 'GIB_2012', 'FGA_2022', 'FGA_2012', 'BCA_2022', 'BCA_2012', 'GHP_2022', 'GHP_2012', 'NDA_2022', 'NDA_2012', 'AIR_2022', 'AIR_2012', 'ACD_2022', 'ACD_2012']\n",
        "df.head(2)"
      ],
      "metadata": {
        "id": "kamTMhfm5qjy",
        "colab": {
          "base_uri": "https://localhost:8080/",
          "height": 205
        },
        "outputId": "45c8a6a8-27b4-4a4d-e14d-36879557a121"
      },
      "execution_count": 5,
      "outputs": [
        {
          "output_type": "execute_result",
          "data": {
            "text/plain": [
              "   code  iso      country  EPI_2022  EPI_2012  CCH_2022  CCH_2012  GHN_2022  \\\n",
              "0     4  AFG  Afghanistan      43.6      19.7      65.6      21.0      45.3   \n",
              "1    24  AGO       Angola      30.5      30.3      37.7      41.5      26.4   \n",
              "\n",
              "   GHN_2012  CDA_2022  ...  BCA_2022  BCA_2012  GHP_2022  GHP_2012  NDA_2022  \\\n",
              "0      29.3      83.9  ...      42.9      37.7     100.0     100.0      63.7   \n",
              "1      26.5      39.0  ...      51.8      56.6      62.3      55.5      70.4   \n",
              "\n",
              "   NDA_2012  AIR_2022  AIR_2012  ACD_2022  ACD_2012  \n",
              "0      31.3      15.5      19.8      35.5       0.0  \n",
              "1      35.1      23.1      24.9      50.5       8.8  \n",
              "\n",
              "[2 rows x 29 columns]"
            ],
            "text/html": [
              "\n",
              "  <div id=\"df-dcbfe8ed-e6a9-4c4f-a10c-817b7e9915ce\">\n",
              "    <div class=\"colab-df-container\">\n",
              "      <div>\n",
              "<style scoped>\n",
              "    .dataframe tbody tr th:only-of-type {\n",
              "        vertical-align: middle;\n",
              "    }\n",
              "\n",
              "    .dataframe tbody tr th {\n",
              "        vertical-align: top;\n",
              "    }\n",
              "\n",
              "    .dataframe thead th {\n",
              "        text-align: right;\n",
              "    }\n",
              "</style>\n",
              "<table border=\"1\" class=\"dataframe\">\n",
              "  <thead>\n",
              "    <tr style=\"text-align: right;\">\n",
              "      <th></th>\n",
              "      <th>code</th>\n",
              "      <th>iso</th>\n",
              "      <th>country</th>\n",
              "      <th>EPI_2022</th>\n",
              "      <th>EPI_2012</th>\n",
              "      <th>CCH_2022</th>\n",
              "      <th>CCH_2012</th>\n",
              "      <th>GHN_2022</th>\n",
              "      <th>GHN_2012</th>\n",
              "      <th>CDA_2022</th>\n",
              "      <th>...</th>\n",
              "      <th>BCA_2022</th>\n",
              "      <th>BCA_2012</th>\n",
              "      <th>GHP_2022</th>\n",
              "      <th>GHP_2012</th>\n",
              "      <th>NDA_2022</th>\n",
              "      <th>NDA_2012</th>\n",
              "      <th>AIR_2022</th>\n",
              "      <th>AIR_2012</th>\n",
              "      <th>ACD_2022</th>\n",
              "      <th>ACD_2012</th>\n",
              "    </tr>\n",
              "  </thead>\n",
              "  <tbody>\n",
              "    <tr>\n",
              "      <th>0</th>\n",
              "      <td>4</td>\n",
              "      <td>AFG</td>\n",
              "      <td>Afghanistan</td>\n",
              "      <td>43.6</td>\n",
              "      <td>19.7</td>\n",
              "      <td>65.6</td>\n",
              "      <td>21.0</td>\n",
              "      <td>45.3</td>\n",
              "      <td>29.3</td>\n",
              "      <td>83.9</td>\n",
              "      <td>...</td>\n",
              "      <td>42.9</td>\n",
              "      <td>37.7</td>\n",
              "      <td>100.0</td>\n",
              "      <td>100.0</td>\n",
              "      <td>63.7</td>\n",
              "      <td>31.3</td>\n",
              "      <td>15.5</td>\n",
              "      <td>19.8</td>\n",
              "      <td>35.5</td>\n",
              "      <td>0.0</td>\n",
              "    </tr>\n",
              "    <tr>\n",
              "      <th>1</th>\n",
              "      <td>24</td>\n",
              "      <td>AGO</td>\n",
              "      <td>Angola</td>\n",
              "      <td>30.5</td>\n",
              "      <td>30.3</td>\n",
              "      <td>37.7</td>\n",
              "      <td>41.5</td>\n",
              "      <td>26.4</td>\n",
              "      <td>26.5</td>\n",
              "      <td>39.0</td>\n",
              "      <td>...</td>\n",
              "      <td>51.8</td>\n",
              "      <td>56.6</td>\n",
              "      <td>62.3</td>\n",
              "      <td>55.5</td>\n",
              "      <td>70.4</td>\n",
              "      <td>35.1</td>\n",
              "      <td>23.1</td>\n",
              "      <td>24.9</td>\n",
              "      <td>50.5</td>\n",
              "      <td>8.8</td>\n",
              "    </tr>\n",
              "  </tbody>\n",
              "</table>\n",
              "<p>2 rows × 29 columns</p>\n",
              "</div>\n",
              "      <button class=\"colab-df-convert\" onclick=\"convertToInteractive('df-dcbfe8ed-e6a9-4c4f-a10c-817b7e9915ce')\"\n",
              "              title=\"Convert this dataframe to an interactive table.\"\n",
              "              style=\"display:none;\">\n",
              "        \n",
              "  <svg xmlns=\"http://www.w3.org/2000/svg\" height=\"24px\"viewBox=\"0 0 24 24\"\n",
              "       width=\"24px\">\n",
              "    <path d=\"M0 0h24v24H0V0z\" fill=\"none\"/>\n",
              "    <path d=\"M18.56 5.44l.94 2.06.94-2.06 2.06-.94-2.06-.94-.94-2.06-.94 2.06-2.06.94zm-11 1L8.5 8.5l.94-2.06 2.06-.94-2.06-.94L8.5 2.5l-.94 2.06-2.06.94zm10 10l.94 2.06.94-2.06 2.06-.94-2.06-.94-.94-2.06-.94 2.06-2.06.94z\"/><path d=\"M17.41 7.96l-1.37-1.37c-.4-.4-.92-.59-1.43-.59-.52 0-1.04.2-1.43.59L10.3 9.45l-7.72 7.72c-.78.78-.78 2.05 0 2.83L4 21.41c.39.39.9.59 1.41.59.51 0 1.02-.2 1.41-.59l7.78-7.78 2.81-2.81c.8-.78.8-2.07 0-2.86zM5.41 20L4 18.59l7.72-7.72 1.47 1.35L5.41 20z\"/>\n",
              "  </svg>\n",
              "      </button>\n",
              "      \n",
              "  <style>\n",
              "    .colab-df-container {\n",
              "      display:flex;\n",
              "      flex-wrap:wrap;\n",
              "      gap: 12px;\n",
              "    }\n",
              "\n",
              "    .colab-df-convert {\n",
              "      background-color: #E8F0FE;\n",
              "      border: none;\n",
              "      border-radius: 50%;\n",
              "      cursor: pointer;\n",
              "      display: none;\n",
              "      fill: #1967D2;\n",
              "      height: 32px;\n",
              "      padding: 0 0 0 0;\n",
              "      width: 32px;\n",
              "    }\n",
              "\n",
              "    .colab-df-convert:hover {\n",
              "      background-color: #E2EBFA;\n",
              "      box-shadow: 0px 1px 2px rgba(60, 64, 67, 0.3), 0px 1px 3px 1px rgba(60, 64, 67, 0.15);\n",
              "      fill: #174EA6;\n",
              "    }\n",
              "\n",
              "    [theme=dark] .colab-df-convert {\n",
              "      background-color: #3B4455;\n",
              "      fill: #D2E3FC;\n",
              "    }\n",
              "\n",
              "    [theme=dark] .colab-df-convert:hover {\n",
              "      background-color: #434B5C;\n",
              "      box-shadow: 0px 1px 3px 1px rgba(0, 0, 0, 0.15);\n",
              "      filter: drop-shadow(0px 1px 2px rgba(0, 0, 0, 0.3));\n",
              "      fill: #FFFFFF;\n",
              "    }\n",
              "  </style>\n",
              "\n",
              "      <script>\n",
              "        const buttonEl =\n",
              "          document.querySelector('#df-dcbfe8ed-e6a9-4c4f-a10c-817b7e9915ce button.colab-df-convert');\n",
              "        buttonEl.style.display =\n",
              "          google.colab.kernel.accessAllowed ? 'block' : 'none';\n",
              "\n",
              "        async function convertToInteractive(key) {\n",
              "          const element = document.querySelector('#df-dcbfe8ed-e6a9-4c4f-a10c-817b7e9915ce');\n",
              "          const dataTable =\n",
              "            await google.colab.kernel.invokeFunction('convertToInteractive',\n",
              "                                                     [key], {});\n",
              "          if (!dataTable) return;\n",
              "\n",
              "          const docLinkHtml = 'Like what you see? Visit the ' +\n",
              "            '<a target=\"_blank\" href=https://colab.research.google.com/notebooks/data_table.ipynb>data table notebook</a>'\n",
              "            + ' to learn more about interactive tables.';\n",
              "          element.innerHTML = '';\n",
              "          dataTable['output_type'] = 'display_data';\n",
              "          await google.colab.output.renderOutput(dataTable, element);\n",
              "          const docLink = document.createElement('div');\n",
              "          docLink.innerHTML = docLinkHtml;\n",
              "          element.appendChild(docLink);\n",
              "        }\n",
              "      </script>\n",
              "    </div>\n",
              "  </div>\n",
              "  "
            ]
          },
          "metadata": {},
          "execution_count": 5
        }
      ]
    },
    {
      "cell_type": "code",
      "source": [
        "#Needto convert the data into TIDY format, should have 2 years for each country. YES IT WORKED\n",
        "#each column with a stubname in the list is now split into 2, i being the stub and j being the year. \n",
        "#i is separated by j with \"_\" and the suffix is digits. \n",
        "df_t = pd.wide_to_long(df, stubnames=['EPI', 'CCH', 'GHN', 'CDA', 'CHA', 'LCB', 'GIB', 'FGA', 'BCA', 'GHP', 'NDA', 'AIR', 'ACD'], \n",
        "                i='code', j='year', suffix='(\\d+)', sep='_').reset_index()\n",
        "df_t.head(2)"
      ],
      "metadata": {
        "id": "5HoyYBpH34n3",
        "colab": {
          "base_uri": "https://localhost:8080/",
          "height": 112
        },
        "outputId": "7946bf51-697f-4c43-e344-c59c5d157a18"
      },
      "execution_count": 6,
      "outputs": [
        {
          "output_type": "execute_result",
          "data": {
            "text/plain": [
              "   code  year  iso      country   EPI   CCH   GHN   CDA   CHA    LCB   GIB  \\\n",
              "0     4  2022  AFG  Afghanistan  43.6  65.6  45.3  83.9  50.2  100.0  77.5   \n",
              "1    24  2022  AGO       Angola  30.5  37.7  26.4  39.0  49.7   37.9  45.2   \n",
              "\n",
              "    FGA   BCA    GHP   NDA   AIR   ACD  \n",
              "0   NaN  42.9  100.0  63.7  15.5  35.5  \n",
              "1  57.7  51.8   62.3  70.4  23.1  50.5  "
            ],
            "text/html": [
              "\n",
              "  <div id=\"df-dd6371e9-5673-49d2-ad4d-cfee5ce5275f\">\n",
              "    <div class=\"colab-df-container\">\n",
              "      <div>\n",
              "<style scoped>\n",
              "    .dataframe tbody tr th:only-of-type {\n",
              "        vertical-align: middle;\n",
              "    }\n",
              "\n",
              "    .dataframe tbody tr th {\n",
              "        vertical-align: top;\n",
              "    }\n",
              "\n",
              "    .dataframe thead th {\n",
              "        text-align: right;\n",
              "    }\n",
              "</style>\n",
              "<table border=\"1\" class=\"dataframe\">\n",
              "  <thead>\n",
              "    <tr style=\"text-align: right;\">\n",
              "      <th></th>\n",
              "      <th>code</th>\n",
              "      <th>year</th>\n",
              "      <th>iso</th>\n",
              "      <th>country</th>\n",
              "      <th>EPI</th>\n",
              "      <th>CCH</th>\n",
              "      <th>GHN</th>\n",
              "      <th>CDA</th>\n",
              "      <th>CHA</th>\n",
              "      <th>LCB</th>\n",
              "      <th>GIB</th>\n",
              "      <th>FGA</th>\n",
              "      <th>BCA</th>\n",
              "      <th>GHP</th>\n",
              "      <th>NDA</th>\n",
              "      <th>AIR</th>\n",
              "      <th>ACD</th>\n",
              "    </tr>\n",
              "  </thead>\n",
              "  <tbody>\n",
              "    <tr>\n",
              "      <th>0</th>\n",
              "      <td>4</td>\n",
              "      <td>2022</td>\n",
              "      <td>AFG</td>\n",
              "      <td>Afghanistan</td>\n",
              "      <td>43.6</td>\n",
              "      <td>65.6</td>\n",
              "      <td>45.3</td>\n",
              "      <td>83.9</td>\n",
              "      <td>50.2</td>\n",
              "      <td>100.0</td>\n",
              "      <td>77.5</td>\n",
              "      <td>NaN</td>\n",
              "      <td>42.9</td>\n",
              "      <td>100.0</td>\n",
              "      <td>63.7</td>\n",
              "      <td>15.5</td>\n",
              "      <td>35.5</td>\n",
              "    </tr>\n",
              "    <tr>\n",
              "      <th>1</th>\n",
              "      <td>24</td>\n",
              "      <td>2022</td>\n",
              "      <td>AGO</td>\n",
              "      <td>Angola</td>\n",
              "      <td>30.5</td>\n",
              "      <td>37.7</td>\n",
              "      <td>26.4</td>\n",
              "      <td>39.0</td>\n",
              "      <td>49.7</td>\n",
              "      <td>37.9</td>\n",
              "      <td>45.2</td>\n",
              "      <td>57.7</td>\n",
              "      <td>51.8</td>\n",
              "      <td>62.3</td>\n",
              "      <td>70.4</td>\n",
              "      <td>23.1</td>\n",
              "      <td>50.5</td>\n",
              "    </tr>\n",
              "  </tbody>\n",
              "</table>\n",
              "</div>\n",
              "      <button class=\"colab-df-convert\" onclick=\"convertToInteractive('df-dd6371e9-5673-49d2-ad4d-cfee5ce5275f')\"\n",
              "              title=\"Convert this dataframe to an interactive table.\"\n",
              "              style=\"display:none;\">\n",
              "        \n",
              "  <svg xmlns=\"http://www.w3.org/2000/svg\" height=\"24px\"viewBox=\"0 0 24 24\"\n",
              "       width=\"24px\">\n",
              "    <path d=\"M0 0h24v24H0V0z\" fill=\"none\"/>\n",
              "    <path d=\"M18.56 5.44l.94 2.06.94-2.06 2.06-.94-2.06-.94-.94-2.06-.94 2.06-2.06.94zm-11 1L8.5 8.5l.94-2.06 2.06-.94-2.06-.94L8.5 2.5l-.94 2.06-2.06.94zm10 10l.94 2.06.94-2.06 2.06-.94-2.06-.94-.94-2.06-.94 2.06-2.06.94z\"/><path d=\"M17.41 7.96l-1.37-1.37c-.4-.4-.92-.59-1.43-.59-.52 0-1.04.2-1.43.59L10.3 9.45l-7.72 7.72c-.78.78-.78 2.05 0 2.83L4 21.41c.39.39.9.59 1.41.59.51 0 1.02-.2 1.41-.59l7.78-7.78 2.81-2.81c.8-.78.8-2.07 0-2.86zM5.41 20L4 18.59l7.72-7.72 1.47 1.35L5.41 20z\"/>\n",
              "  </svg>\n",
              "      </button>\n",
              "      \n",
              "  <style>\n",
              "    .colab-df-container {\n",
              "      display:flex;\n",
              "      flex-wrap:wrap;\n",
              "      gap: 12px;\n",
              "    }\n",
              "\n",
              "    .colab-df-convert {\n",
              "      background-color: #E8F0FE;\n",
              "      border: none;\n",
              "      border-radius: 50%;\n",
              "      cursor: pointer;\n",
              "      display: none;\n",
              "      fill: #1967D2;\n",
              "      height: 32px;\n",
              "      padding: 0 0 0 0;\n",
              "      width: 32px;\n",
              "    }\n",
              "\n",
              "    .colab-df-convert:hover {\n",
              "      background-color: #E2EBFA;\n",
              "      box-shadow: 0px 1px 2px rgba(60, 64, 67, 0.3), 0px 1px 3px 1px rgba(60, 64, 67, 0.15);\n",
              "      fill: #174EA6;\n",
              "    }\n",
              "\n",
              "    [theme=dark] .colab-df-convert {\n",
              "      background-color: #3B4455;\n",
              "      fill: #D2E3FC;\n",
              "    }\n",
              "\n",
              "    [theme=dark] .colab-df-convert:hover {\n",
              "      background-color: #434B5C;\n",
              "      box-shadow: 0px 1px 3px 1px rgba(0, 0, 0, 0.15);\n",
              "      filter: drop-shadow(0px 1px 2px rgba(0, 0, 0, 0.3));\n",
              "      fill: #FFFFFF;\n",
              "    }\n",
              "  </style>\n",
              "\n",
              "      <script>\n",
              "        const buttonEl =\n",
              "          document.querySelector('#df-dd6371e9-5673-49d2-ad4d-cfee5ce5275f button.colab-df-convert');\n",
              "        buttonEl.style.display =\n",
              "          google.colab.kernel.accessAllowed ? 'block' : 'none';\n",
              "\n",
              "        async function convertToInteractive(key) {\n",
              "          const element = document.querySelector('#df-dd6371e9-5673-49d2-ad4d-cfee5ce5275f');\n",
              "          const dataTable =\n",
              "            await google.colab.kernel.invokeFunction('convertToInteractive',\n",
              "                                                     [key], {});\n",
              "          if (!dataTable) return;\n",
              "\n",
              "          const docLinkHtml = 'Like what you see? Visit the ' +\n",
              "            '<a target=\"_blank\" href=https://colab.research.google.com/notebooks/data_table.ipynb>data table notebook</a>'\n",
              "            + ' to learn more about interactive tables.';\n",
              "          element.innerHTML = '';\n",
              "          dataTable['output_type'] = 'display_data';\n",
              "          await google.colab.output.renderOutput(dataTable, element);\n",
              "          const docLink = document.createElement('div');\n",
              "          docLink.innerHTML = docLinkHtml;\n",
              "          element.appendChild(docLink);\n",
              "        }\n",
              "      </script>\n",
              "    </div>\n",
              "  </div>\n",
              "  "
            ]
          },
          "metadata": {},
          "execution_count": 6
        }
      ]
    },
    {
      "cell_type": "code",
      "source": [
        "#we have missing values coded as NaN which Vega doesn't seem to like, going to change them to just an empty string.\n",
        "#can't change to 0 since this isn't accurate and would influence the grouping.\n",
        "\n",
        "df_t2 = df_t.fillna(\"\")\n",
        "df_t2"
      ],
      "metadata": {
        "id": "jcFzcCTByqTg",
        "colab": {
          "base_uri": "https://localhost:8080/",
          "height": 424
        },
        "outputId": "863f8507-bdde-480e-bdf3-574f32e1c03c"
      },
      "execution_count": 7,
      "outputs": [
        {
          "output_type": "execute_result",
          "data": {
            "text/plain": [
              "     code  year  iso               country   EPI   CCH   GHN   CDA   CHA  \\\n",
              "0       4  2022  AFG           Afghanistan  43.6  65.6  45.3  83.9  50.2   \n",
              "1      24  2022  AGO                Angola  30.5  37.7  26.4  39.0  49.7   \n",
              "2       8  2022  ALB               Albania  47.1  52.5  53.9  42.3  50.1   \n",
              "3     784  2022  ARE  United Arab Emirates  52.4  34.0  13.3  42.0  20.8   \n",
              "4      32  2022  ARG             Argentina  41.1  35.5  11.7  51.8  40.2   \n",
              "..    ...   ...  ...                   ...   ...   ...   ...   ...   ...   \n",
              "355   548  2012  VUT               Vanuatu  46.1  67.4  79.5  71.0  35.8   \n",
              "356   882  2012  WSM                 Samoa  43.8  59.0  88.9  31.8  37.8   \n",
              "357   710  2012  ZAF          South Africa  27.1  25.3   0.0  32.2  38.4   \n",
              "358   894  2012  ZMB                Zambia  45.3  39.9  38.0  44.4  28.1   \n",
              "359   716  2012  ZWE              Zimbabwe  46.9  49.6  45.8  53.8  53.2   \n",
              "\n",
              "       LCB   GIB   FGA    BCA    GHP   NDA   AIR   ACD  \n",
              "0    100.0  77.5         42.9  100.0  63.7  15.5  35.5  \n",
              "1     37.9  45.2  57.7   51.8   62.3  70.4  23.1  50.5  \n",
              "2     87.3  49.6  59.4  100.0   61.5  76.9  37.5  90.2  \n",
              "3    100.0  54.7  70.8  100.0    0.0  39.0  41.7  59.2  \n",
              "4     86.7  29.2  10.6   83.1   33.4  47.7  52.0  85.4  \n",
              "..     ...   ...   ...    ...    ...   ...   ...   ...  \n",
              "355   30.8  36.7         63.6   66.2  59.2  32.1  72.3  \n",
              "356         52.8         88.1   74.5  55.1  35.5  75.7  \n",
              "357   69.9  42.3  49.4   77.0   17.3  85.9  14.7  55.3  \n",
              "358    7.9  87.8   0.0   36.5   72.8  49.7  24.3  75.1  \n",
              "359   41.4   0.0         68.2   79.5  80.0  22.2  73.4  \n",
              "\n",
              "[360 rows x 17 columns]"
            ],
            "text/html": [
              "\n",
              "  <div id=\"df-4cb9e3c7-4b85-4567-a5c3-161194acd38a\">\n",
              "    <div class=\"colab-df-container\">\n",
              "      <div>\n",
              "<style scoped>\n",
              "    .dataframe tbody tr th:only-of-type {\n",
              "        vertical-align: middle;\n",
              "    }\n",
              "\n",
              "    .dataframe tbody tr th {\n",
              "        vertical-align: top;\n",
              "    }\n",
              "\n",
              "    .dataframe thead th {\n",
              "        text-align: right;\n",
              "    }\n",
              "</style>\n",
              "<table border=\"1\" class=\"dataframe\">\n",
              "  <thead>\n",
              "    <tr style=\"text-align: right;\">\n",
              "      <th></th>\n",
              "      <th>code</th>\n",
              "      <th>year</th>\n",
              "      <th>iso</th>\n",
              "      <th>country</th>\n",
              "      <th>EPI</th>\n",
              "      <th>CCH</th>\n",
              "      <th>GHN</th>\n",
              "      <th>CDA</th>\n",
              "      <th>CHA</th>\n",
              "      <th>LCB</th>\n",
              "      <th>GIB</th>\n",
              "      <th>FGA</th>\n",
              "      <th>BCA</th>\n",
              "      <th>GHP</th>\n",
              "      <th>NDA</th>\n",
              "      <th>AIR</th>\n",
              "      <th>ACD</th>\n",
              "    </tr>\n",
              "  </thead>\n",
              "  <tbody>\n",
              "    <tr>\n",
              "      <th>0</th>\n",
              "      <td>4</td>\n",
              "      <td>2022</td>\n",
              "      <td>AFG</td>\n",
              "      <td>Afghanistan</td>\n",
              "      <td>43.6</td>\n",
              "      <td>65.6</td>\n",
              "      <td>45.3</td>\n",
              "      <td>83.9</td>\n",
              "      <td>50.2</td>\n",
              "      <td>100.0</td>\n",
              "      <td>77.5</td>\n",
              "      <td></td>\n",
              "      <td>42.9</td>\n",
              "      <td>100.0</td>\n",
              "      <td>63.7</td>\n",
              "      <td>15.5</td>\n",
              "      <td>35.5</td>\n",
              "    </tr>\n",
              "    <tr>\n",
              "      <th>1</th>\n",
              "      <td>24</td>\n",
              "      <td>2022</td>\n",
              "      <td>AGO</td>\n",
              "      <td>Angola</td>\n",
              "      <td>30.5</td>\n",
              "      <td>37.7</td>\n",
              "      <td>26.4</td>\n",
              "      <td>39.0</td>\n",
              "      <td>49.7</td>\n",
              "      <td>37.9</td>\n",
              "      <td>45.2</td>\n",
              "      <td>57.7</td>\n",
              "      <td>51.8</td>\n",
              "      <td>62.3</td>\n",
              "      <td>70.4</td>\n",
              "      <td>23.1</td>\n",
              "      <td>50.5</td>\n",
              "    </tr>\n",
              "    <tr>\n",
              "      <th>2</th>\n",
              "      <td>8</td>\n",
              "      <td>2022</td>\n",
              "      <td>ALB</td>\n",
              "      <td>Albania</td>\n",
              "      <td>47.1</td>\n",
              "      <td>52.5</td>\n",
              "      <td>53.9</td>\n",
              "      <td>42.3</td>\n",
              "      <td>50.1</td>\n",
              "      <td>87.3</td>\n",
              "      <td>49.6</td>\n",
              "      <td>59.4</td>\n",
              "      <td>100.0</td>\n",
              "      <td>61.5</td>\n",
              "      <td>76.9</td>\n",
              "      <td>37.5</td>\n",
              "      <td>90.2</td>\n",
              "    </tr>\n",
              "    <tr>\n",
              "      <th>3</th>\n",
              "      <td>784</td>\n",
              "      <td>2022</td>\n",
              "      <td>ARE</td>\n",
              "      <td>United Arab Emirates</td>\n",
              "      <td>52.4</td>\n",
              "      <td>34.0</td>\n",
              "      <td>13.3</td>\n",
              "      <td>42.0</td>\n",
              "      <td>20.8</td>\n",
              "      <td>100.0</td>\n",
              "      <td>54.7</td>\n",
              "      <td>70.8</td>\n",
              "      <td>100.0</td>\n",
              "      <td>0.0</td>\n",
              "      <td>39.0</td>\n",
              "      <td>41.7</td>\n",
              "      <td>59.2</td>\n",
              "    </tr>\n",
              "    <tr>\n",
              "      <th>4</th>\n",
              "      <td>32</td>\n",
              "      <td>2022</td>\n",
              "      <td>ARG</td>\n",
              "      <td>Argentina</td>\n",
              "      <td>41.1</td>\n",
              "      <td>35.5</td>\n",
              "      <td>11.7</td>\n",
              "      <td>51.8</td>\n",
              "      <td>40.2</td>\n",
              "      <td>86.7</td>\n",
              "      <td>29.2</td>\n",
              "      <td>10.6</td>\n",
              "      <td>83.1</td>\n",
              "      <td>33.4</td>\n",
              "      <td>47.7</td>\n",
              "      <td>52.0</td>\n",
              "      <td>85.4</td>\n",
              "    </tr>\n",
              "    <tr>\n",
              "      <th>...</th>\n",
              "      <td>...</td>\n",
              "      <td>...</td>\n",
              "      <td>...</td>\n",
              "      <td>...</td>\n",
              "      <td>...</td>\n",
              "      <td>...</td>\n",
              "      <td>...</td>\n",
              "      <td>...</td>\n",
              "      <td>...</td>\n",
              "      <td>...</td>\n",
              "      <td>...</td>\n",
              "      <td>...</td>\n",
              "      <td>...</td>\n",
              "      <td>...</td>\n",
              "      <td>...</td>\n",
              "      <td>...</td>\n",
              "      <td>...</td>\n",
              "    </tr>\n",
              "    <tr>\n",
              "      <th>355</th>\n",
              "      <td>548</td>\n",
              "      <td>2012</td>\n",
              "      <td>VUT</td>\n",
              "      <td>Vanuatu</td>\n",
              "      <td>46.1</td>\n",
              "      <td>67.4</td>\n",
              "      <td>79.5</td>\n",
              "      <td>71.0</td>\n",
              "      <td>35.8</td>\n",
              "      <td>30.8</td>\n",
              "      <td>36.7</td>\n",
              "      <td></td>\n",
              "      <td>63.6</td>\n",
              "      <td>66.2</td>\n",
              "      <td>59.2</td>\n",
              "      <td>32.1</td>\n",
              "      <td>72.3</td>\n",
              "    </tr>\n",
              "    <tr>\n",
              "      <th>356</th>\n",
              "      <td>882</td>\n",
              "      <td>2012</td>\n",
              "      <td>WSM</td>\n",
              "      <td>Samoa</td>\n",
              "      <td>43.8</td>\n",
              "      <td>59.0</td>\n",
              "      <td>88.9</td>\n",
              "      <td>31.8</td>\n",
              "      <td>37.8</td>\n",
              "      <td></td>\n",
              "      <td>52.8</td>\n",
              "      <td></td>\n",
              "      <td>88.1</td>\n",
              "      <td>74.5</td>\n",
              "      <td>55.1</td>\n",
              "      <td>35.5</td>\n",
              "      <td>75.7</td>\n",
              "    </tr>\n",
              "    <tr>\n",
              "      <th>357</th>\n",
              "      <td>710</td>\n",
              "      <td>2012</td>\n",
              "      <td>ZAF</td>\n",
              "      <td>South Africa</td>\n",
              "      <td>27.1</td>\n",
              "      <td>25.3</td>\n",
              "      <td>0.0</td>\n",
              "      <td>32.2</td>\n",
              "      <td>38.4</td>\n",
              "      <td>69.9</td>\n",
              "      <td>42.3</td>\n",
              "      <td>49.4</td>\n",
              "      <td>77.0</td>\n",
              "      <td>17.3</td>\n",
              "      <td>85.9</td>\n",
              "      <td>14.7</td>\n",
              "      <td>55.3</td>\n",
              "    </tr>\n",
              "    <tr>\n",
              "      <th>358</th>\n",
              "      <td>894</td>\n",
              "      <td>2012</td>\n",
              "      <td>ZMB</td>\n",
              "      <td>Zambia</td>\n",
              "      <td>45.3</td>\n",
              "      <td>39.9</td>\n",
              "      <td>38.0</td>\n",
              "      <td>44.4</td>\n",
              "      <td>28.1</td>\n",
              "      <td>7.9</td>\n",
              "      <td>87.8</td>\n",
              "      <td>0.0</td>\n",
              "      <td>36.5</td>\n",
              "      <td>72.8</td>\n",
              "      <td>49.7</td>\n",
              "      <td>24.3</td>\n",
              "      <td>75.1</td>\n",
              "    </tr>\n",
              "    <tr>\n",
              "      <th>359</th>\n",
              "      <td>716</td>\n",
              "      <td>2012</td>\n",
              "      <td>ZWE</td>\n",
              "      <td>Zimbabwe</td>\n",
              "      <td>46.9</td>\n",
              "      <td>49.6</td>\n",
              "      <td>45.8</td>\n",
              "      <td>53.8</td>\n",
              "      <td>53.2</td>\n",
              "      <td>41.4</td>\n",
              "      <td>0.0</td>\n",
              "      <td></td>\n",
              "      <td>68.2</td>\n",
              "      <td>79.5</td>\n",
              "      <td>80.0</td>\n",
              "      <td>22.2</td>\n",
              "      <td>73.4</td>\n",
              "    </tr>\n",
              "  </tbody>\n",
              "</table>\n",
              "<p>360 rows × 17 columns</p>\n",
              "</div>\n",
              "      <button class=\"colab-df-convert\" onclick=\"convertToInteractive('df-4cb9e3c7-4b85-4567-a5c3-161194acd38a')\"\n",
              "              title=\"Convert this dataframe to an interactive table.\"\n",
              "              style=\"display:none;\">\n",
              "        \n",
              "  <svg xmlns=\"http://www.w3.org/2000/svg\" height=\"24px\"viewBox=\"0 0 24 24\"\n",
              "       width=\"24px\">\n",
              "    <path d=\"M0 0h24v24H0V0z\" fill=\"none\"/>\n",
              "    <path d=\"M18.56 5.44l.94 2.06.94-2.06 2.06-.94-2.06-.94-.94-2.06-.94 2.06-2.06.94zm-11 1L8.5 8.5l.94-2.06 2.06-.94-2.06-.94L8.5 2.5l-.94 2.06-2.06.94zm10 10l.94 2.06.94-2.06 2.06-.94-2.06-.94-.94-2.06-.94 2.06-2.06.94z\"/><path d=\"M17.41 7.96l-1.37-1.37c-.4-.4-.92-.59-1.43-.59-.52 0-1.04.2-1.43.59L10.3 9.45l-7.72 7.72c-.78.78-.78 2.05 0 2.83L4 21.41c.39.39.9.59 1.41.59.51 0 1.02-.2 1.41-.59l7.78-7.78 2.81-2.81c.8-.78.8-2.07 0-2.86zM5.41 20L4 18.59l7.72-7.72 1.47 1.35L5.41 20z\"/>\n",
              "  </svg>\n",
              "      </button>\n",
              "      \n",
              "  <style>\n",
              "    .colab-df-container {\n",
              "      display:flex;\n",
              "      flex-wrap:wrap;\n",
              "      gap: 12px;\n",
              "    }\n",
              "\n",
              "    .colab-df-convert {\n",
              "      background-color: #E8F0FE;\n",
              "      border: none;\n",
              "      border-radius: 50%;\n",
              "      cursor: pointer;\n",
              "      display: none;\n",
              "      fill: #1967D2;\n",
              "      height: 32px;\n",
              "      padding: 0 0 0 0;\n",
              "      width: 32px;\n",
              "    }\n",
              "\n",
              "    .colab-df-convert:hover {\n",
              "      background-color: #E2EBFA;\n",
              "      box-shadow: 0px 1px 2px rgba(60, 64, 67, 0.3), 0px 1px 3px 1px rgba(60, 64, 67, 0.15);\n",
              "      fill: #174EA6;\n",
              "    }\n",
              "\n",
              "    [theme=dark] .colab-df-convert {\n",
              "      background-color: #3B4455;\n",
              "      fill: #D2E3FC;\n",
              "    }\n",
              "\n",
              "    [theme=dark] .colab-df-convert:hover {\n",
              "      background-color: #434B5C;\n",
              "      box-shadow: 0px 1px 3px 1px rgba(0, 0, 0, 0.15);\n",
              "      filter: drop-shadow(0px 1px 2px rgba(0, 0, 0, 0.3));\n",
              "      fill: #FFFFFF;\n",
              "    }\n",
              "  </style>\n",
              "\n",
              "      <script>\n",
              "        const buttonEl =\n",
              "          document.querySelector('#df-4cb9e3c7-4b85-4567-a5c3-161194acd38a button.colab-df-convert');\n",
              "        buttonEl.style.display =\n",
              "          google.colab.kernel.accessAllowed ? 'block' : 'none';\n",
              "\n",
              "        async function convertToInteractive(key) {\n",
              "          const element = document.querySelector('#df-4cb9e3c7-4b85-4567-a5c3-161194acd38a');\n",
              "          const dataTable =\n",
              "            await google.colab.kernel.invokeFunction('convertToInteractive',\n",
              "                                                     [key], {});\n",
              "          if (!dataTable) return;\n",
              "\n",
              "          const docLinkHtml = 'Like what you see? Visit the ' +\n",
              "            '<a target=\"_blank\" href=https://colab.research.google.com/notebooks/data_table.ipynb>data table notebook</a>'\n",
              "            + ' to learn more about interactive tables.';\n",
              "          element.innerHTML = '';\n",
              "          dataTable['output_type'] = 'display_data';\n",
              "          await google.colab.output.renderOutput(dataTable, element);\n",
              "          const docLink = document.createElement('div');\n",
              "          docLink.innerHTML = docLinkHtml;\n",
              "          element.appendChild(docLink);\n",
              "        }\n",
              "      </script>\n",
              "    </div>\n",
              "  </div>\n",
              "  "
            ]
          },
          "metadata": {},
          "execution_count": 7
        }
      ]
    },
    {
      "cell_type": "code",
      "source": [
        "df_t.head(2)"
      ],
      "metadata": {
        "colab": {
          "base_uri": "https://localhost:8080/",
          "height": 112
        },
        "id": "bEniPxKraAgt",
        "outputId": "6ea88ad1-71a7-42cc-f807-751241d25cb1"
      },
      "execution_count": 8,
      "outputs": [
        {
          "output_type": "execute_result",
          "data": {
            "text/plain": [
              "   code  year  iso      country   EPI   CCH   GHN   CDA   CHA    LCB   GIB  \\\n",
              "0     4  2022  AFG  Afghanistan  43.6  65.6  45.3  83.9  50.2  100.0  77.5   \n",
              "1    24  2022  AGO       Angola  30.5  37.7  26.4  39.0  49.7   37.9  45.2   \n",
              "\n",
              "    FGA   BCA    GHP   NDA   AIR   ACD  \n",
              "0   NaN  42.9  100.0  63.7  15.5  35.5  \n",
              "1  57.7  51.8   62.3  70.4  23.1  50.5  "
            ],
            "text/html": [
              "\n",
              "  <div id=\"df-7bf521c5-969d-4ff7-8eb8-d5442188b78b\">\n",
              "    <div class=\"colab-df-container\">\n",
              "      <div>\n",
              "<style scoped>\n",
              "    .dataframe tbody tr th:only-of-type {\n",
              "        vertical-align: middle;\n",
              "    }\n",
              "\n",
              "    .dataframe tbody tr th {\n",
              "        vertical-align: top;\n",
              "    }\n",
              "\n",
              "    .dataframe thead th {\n",
              "        text-align: right;\n",
              "    }\n",
              "</style>\n",
              "<table border=\"1\" class=\"dataframe\">\n",
              "  <thead>\n",
              "    <tr style=\"text-align: right;\">\n",
              "      <th></th>\n",
              "      <th>code</th>\n",
              "      <th>year</th>\n",
              "      <th>iso</th>\n",
              "      <th>country</th>\n",
              "      <th>EPI</th>\n",
              "      <th>CCH</th>\n",
              "      <th>GHN</th>\n",
              "      <th>CDA</th>\n",
              "      <th>CHA</th>\n",
              "      <th>LCB</th>\n",
              "      <th>GIB</th>\n",
              "      <th>FGA</th>\n",
              "      <th>BCA</th>\n",
              "      <th>GHP</th>\n",
              "      <th>NDA</th>\n",
              "      <th>AIR</th>\n",
              "      <th>ACD</th>\n",
              "    </tr>\n",
              "  </thead>\n",
              "  <tbody>\n",
              "    <tr>\n",
              "      <th>0</th>\n",
              "      <td>4</td>\n",
              "      <td>2022</td>\n",
              "      <td>AFG</td>\n",
              "      <td>Afghanistan</td>\n",
              "      <td>43.6</td>\n",
              "      <td>65.6</td>\n",
              "      <td>45.3</td>\n",
              "      <td>83.9</td>\n",
              "      <td>50.2</td>\n",
              "      <td>100.0</td>\n",
              "      <td>77.5</td>\n",
              "      <td>NaN</td>\n",
              "      <td>42.9</td>\n",
              "      <td>100.0</td>\n",
              "      <td>63.7</td>\n",
              "      <td>15.5</td>\n",
              "      <td>35.5</td>\n",
              "    </tr>\n",
              "    <tr>\n",
              "      <th>1</th>\n",
              "      <td>24</td>\n",
              "      <td>2022</td>\n",
              "      <td>AGO</td>\n",
              "      <td>Angola</td>\n",
              "      <td>30.5</td>\n",
              "      <td>37.7</td>\n",
              "      <td>26.4</td>\n",
              "      <td>39.0</td>\n",
              "      <td>49.7</td>\n",
              "      <td>37.9</td>\n",
              "      <td>45.2</td>\n",
              "      <td>57.7</td>\n",
              "      <td>51.8</td>\n",
              "      <td>62.3</td>\n",
              "      <td>70.4</td>\n",
              "      <td>23.1</td>\n",
              "      <td>50.5</td>\n",
              "    </tr>\n",
              "  </tbody>\n",
              "</table>\n",
              "</div>\n",
              "      <button class=\"colab-df-convert\" onclick=\"convertToInteractive('df-7bf521c5-969d-4ff7-8eb8-d5442188b78b')\"\n",
              "              title=\"Convert this dataframe to an interactive table.\"\n",
              "              style=\"display:none;\">\n",
              "        \n",
              "  <svg xmlns=\"http://www.w3.org/2000/svg\" height=\"24px\"viewBox=\"0 0 24 24\"\n",
              "       width=\"24px\">\n",
              "    <path d=\"M0 0h24v24H0V0z\" fill=\"none\"/>\n",
              "    <path d=\"M18.56 5.44l.94 2.06.94-2.06 2.06-.94-2.06-.94-.94-2.06-.94 2.06-2.06.94zm-11 1L8.5 8.5l.94-2.06 2.06-.94-2.06-.94L8.5 2.5l-.94 2.06-2.06.94zm10 10l.94 2.06.94-2.06 2.06-.94-2.06-.94-.94-2.06-.94 2.06-2.06.94z\"/><path d=\"M17.41 7.96l-1.37-1.37c-.4-.4-.92-.59-1.43-.59-.52 0-1.04.2-1.43.59L10.3 9.45l-7.72 7.72c-.78.78-.78 2.05 0 2.83L4 21.41c.39.39.9.59 1.41.59.51 0 1.02-.2 1.41-.59l7.78-7.78 2.81-2.81c.8-.78.8-2.07 0-2.86zM5.41 20L4 18.59l7.72-7.72 1.47 1.35L5.41 20z\"/>\n",
              "  </svg>\n",
              "      </button>\n",
              "      \n",
              "  <style>\n",
              "    .colab-df-container {\n",
              "      display:flex;\n",
              "      flex-wrap:wrap;\n",
              "      gap: 12px;\n",
              "    }\n",
              "\n",
              "    .colab-df-convert {\n",
              "      background-color: #E8F0FE;\n",
              "      border: none;\n",
              "      border-radius: 50%;\n",
              "      cursor: pointer;\n",
              "      display: none;\n",
              "      fill: #1967D2;\n",
              "      height: 32px;\n",
              "      padding: 0 0 0 0;\n",
              "      width: 32px;\n",
              "    }\n",
              "\n",
              "    .colab-df-convert:hover {\n",
              "      background-color: #E2EBFA;\n",
              "      box-shadow: 0px 1px 2px rgba(60, 64, 67, 0.3), 0px 1px 3px 1px rgba(60, 64, 67, 0.15);\n",
              "      fill: #174EA6;\n",
              "    }\n",
              "\n",
              "    [theme=dark] .colab-df-convert {\n",
              "      background-color: #3B4455;\n",
              "      fill: #D2E3FC;\n",
              "    }\n",
              "\n",
              "    [theme=dark] .colab-df-convert:hover {\n",
              "      background-color: #434B5C;\n",
              "      box-shadow: 0px 1px 3px 1px rgba(0, 0, 0, 0.15);\n",
              "      filter: drop-shadow(0px 1px 2px rgba(0, 0, 0, 0.3));\n",
              "      fill: #FFFFFF;\n",
              "    }\n",
              "  </style>\n",
              "\n",
              "      <script>\n",
              "        const buttonEl =\n",
              "          document.querySelector('#df-7bf521c5-969d-4ff7-8eb8-d5442188b78b button.colab-df-convert');\n",
              "        buttonEl.style.display =\n",
              "          google.colab.kernel.accessAllowed ? 'block' : 'none';\n",
              "\n",
              "        async function convertToInteractive(key) {\n",
              "          const element = document.querySelector('#df-7bf521c5-969d-4ff7-8eb8-d5442188b78b');\n",
              "          const dataTable =\n",
              "            await google.colab.kernel.invokeFunction('convertToInteractive',\n",
              "                                                     [key], {});\n",
              "          if (!dataTable) return;\n",
              "\n",
              "          const docLinkHtml = 'Like what you see? Visit the ' +\n",
              "            '<a target=\"_blank\" href=https://colab.research.google.com/notebooks/data_table.ipynb>data table notebook</a>'\n",
              "            + ' to learn more about interactive tables.';\n",
              "          element.innerHTML = '';\n",
              "          dataTable['output_type'] = 'display_data';\n",
              "          await google.colab.output.renderOutput(dataTable, element);\n",
              "          const docLink = document.createElement('div');\n",
              "          docLink.innerHTML = docLinkHtml;\n",
              "          element.appendChild(docLink);\n",
              "        }\n",
              "      </script>\n",
              "    </div>\n",
              "  </div>\n",
              "  "
            ]
          },
          "metadata": {},
          "execution_count": 8
        }
      ]
    },
    {
      "cell_type": "markdown",
      "source": [
        "## Machine Learning"
      ],
      "metadata": {
        "id": "zUdOTRBUTed-"
      }
    },
    {
      "cell_type": "code",
      "source": [
        "#ML time:\n",
        "\n",
        "#From the scikit-learn flow chart, i should be using Mean Shift or VB-GMM (?)\n",
        "\n",
        "from sklearn.cluster import KMeans\n"
      ],
      "metadata": {
        "id": "bJl4LDHqBL6X"
      },
      "execution_count": 10,
      "outputs": []
    },
    {
      "cell_type": "code",
      "source": [
        "#For future comparison with clustering, we want to add each country's continent as a var\n",
        "#can do this using 'pycountry'\n",
        "!pip install pycountry_convert\n",
        "import pycountry_convert as pc"
      ],
      "metadata": {
        "id": "rAn548whz92d"
      },
      "execution_count": null,
      "outputs": []
    },
    {
      "cell_type": "code",
      "source": [
        "!pip install pycountry\n",
        "import pycountry"
      ],
      "metadata": {
        "colab": {
          "base_uri": "https://localhost:8080/"
        },
        "id": "S9WXn7uy3A6V",
        "outputId": "5fbc35d4-092e-444d-d1e2-11acb6c00481"
      },
      "execution_count": 12,
      "outputs": [
        {
          "output_type": "stream",
          "name": "stdout",
          "text": [
            "Looking in indexes: https://pypi.org/simple, https://us-python.pkg.dev/colab-wheels/public/simple/\n",
            "Requirement already satisfied: pycountry in /usr/local/lib/python3.8/dist-packages (22.3.5)\n",
            "Requirement already satisfied: setuptools in /usr/local/lib/python3.8/dist-packages (from pycountry) (57.4.0)\n"
          ]
        }
      ]
    },
    {
      "cell_type": "code",
      "source": [
        "#strangely, from looking at the pycountry_convert directory, can only convert to continent codes from alpha2/3, not\n",
        "#country numerics, so need to add country alpha2 to properly get continent codes, and then continent names.\n",
        "dir(pc)"
      ],
      "metadata": {
        "id": "k2Rtfcwa2Y1Q"
      },
      "execution_count": null,
      "outputs": []
    },
    {
      "cell_type": "code",
      "source": [
        "#converting country codes to 3 digits with leading 0s so alpha2 can be matched properly\n",
        "df_t['code'] = df_t['code'].astype(str).str.zfill(3)"
      ],
      "metadata": {
        "id": "f8isBCUZ6vTL"
      },
      "execution_count": 15,
      "outputs": []
    },
    {
      "cell_type": "code",
      "source": [
        "#now we get the country alpha2 from their numeric code.\n",
        "def find_alpha2(country_numeric):\n",
        "    try:\n",
        "        return pycountry.countries.get(numeric=str(country_numeric)).alpha_2\n",
        "    except:\n",
        "        return (\"not founded\")\n",
        "df_t['alpha2'] = df_t.apply(lambda row: find_alpha2(row.code) , axis = 1)"
      ],
      "metadata": {
        "id": "hvMqCyK126WW"
      },
      "execution_count": 17,
      "outputs": []
    },
    {
      "cell_type": "code",
      "source": [
        "#now define a function which returns a continent name from a country alpha2.\n",
        "\n",
        "def code_to_continent(country_alpha2):\n",
        "  try:\n",
        "        #from available commands in pc, need to convert to continent code and then conntinent name.\n",
        "        return pc.convert_continent_code_to_continent_name(pc.country_alpha2_to_continent_code(country_alpha2))\n",
        "  except:\n",
        "    return (\"not founded\")\n",
        "\n",
        "df_t['continent'] = df_t.apply(lambda row: code_to_continent(row.alpha2) , axis = 1)\n",
        "\n",
        "#One country which was not founded, Timor-Leste, which is in Asia\n",
        "#Correctly defined Alpha2 but pycountry couldn't convert the code into a continent, need to rename manually:\n",
        "df_t['continent'] = df_t['continent'].replace([\"not founded\"], \"Asia\")\n",
        "\n"
      ],
      "metadata": {
        "id": "xUcgcR250UtQ"
      },
      "execution_count": 18,
      "outputs": []
    },
    {
      "cell_type": "code",
      "source": [
        "df_t"
      ],
      "metadata": {
        "id": "A4BPjVriT31D"
      },
      "execution_count": null,
      "outputs": []
    },
    {
      "cell_type": "code",
      "source": [
        "#Now we want these continents in encoded form, can use sklearn for this\n",
        "\n",
        "from sklearn.preprocessing import LabelEncoder  \n",
        "\n",
        "le = LabelEncoder()\n",
        "df_t['continent_code'] = le.fit_transform(df_t['continent'])"
      ],
      "metadata": {
        "id": "My5Ncmi0CqYH"
      },
      "execution_count": 21,
      "outputs": []
    },
    {
      "cell_type": "code",
      "source": [
        "#Exporting this dataset to use for other ML applications:\n",
        "import json\n",
        "exported_values = list(df_t.T.to_dict().values())\n",
        "open('EPI2022_for_ML.json', \"w\").write(json.dumps(exported_values))"
      ],
      "metadata": {
        "id": "zBGF_Q25vy6p"
      },
      "execution_count": null,
      "outputs": []
    },
    {
      "cell_type": "code",
      "source": [
        "#Need just the X matrix from our data, first create df_t3 which only contains 2022 data:\n",
        "df_t3 = df_t[df_t['year'] == 2022]\n",
        "df_t3"
      ],
      "metadata": {
        "id": "OYm7m7o0D3Nz"
      },
      "execution_count": null,
      "outputs": []
    },
    {
      "cell_type": "code",
      "source": [
        "#now for our KMeans clustering, we want only our indicators as columns, no string vars.\n",
        "varlist = ['EPI', 'CCH', 'GHN', 'CDA', 'CHA', 'GIB', 'BCA', 'GHP', 'NDA', 'AIR', 'ACD']\n",
        "df_X22 = df_t3[varlist]"
      ],
      "metadata": {
        "id": "G1BLCwBrD5vI"
      },
      "execution_count": 23,
      "outputs": []
    },
    {
      "cell_type": "code",
      "source": [
        "df_X22"
      ],
      "metadata": {
        "id": "SoJg8CHrGvvw"
      },
      "execution_count": null,
      "outputs": []
    },
    {
      "cell_type": "code",
      "source": [
        "#PROBLEM: our FGA and LCB vars include NaN values.\n",
        "# I think excluding those variables will work, but it means we lose 2 dimensions to match on :("
      ],
      "metadata": {
        "id": "SuqPLerpGUDO"
      },
      "execution_count": null,
      "outputs": []
    },
    {
      "cell_type": "code",
      "source": [
        "from sklearn.utils.validation import column_or_1d\n",
        "\n",
        "k_means = KMeans(n_clusters=6, random_state=0) # Fixing the RNG in Kmeans\n",
        "cluster = k_means.fit_predict(df_X22)\n",
        "\n",
        "\n",
        "cluster"
      ],
      "metadata": {
        "id": "cgEcLfDyBMPt"
      },
      "execution_count": null,
      "outputs": []
    },
    {
      "cell_type": "code",
      "source": [
        "#In vega, when selecting clusters, 0 wouldn't work, so we are changing cluster 0 to be cluster 6 (0+6)\n",
        "#and leaving the rest of the clusters as they are.\n",
        "cluster = np.where((cluster==0), cluster+6, cluster)"
      ],
      "metadata": {
        "id": "NlZNj9-ZD_h5"
      },
      "execution_count": 26,
      "outputs": []
    },
    {
      "cell_type": "code",
      "source": [
        "df_t3['cluster'] = cluster"
      ],
      "metadata": {
        "id": "ad9mD-1BDNwA"
      },
      "execution_count": null,
      "outputs": []
    },
    {
      "cell_type": "code",
      "source": [
        "df_t3"
      ],
      "metadata": {
        "id": "FOYMRFcFDN_K"
      },
      "execution_count": null,
      "outputs": []
    },
    {
      "cell_type": "code",
      "source": [
        "#Export this clustered version of countries\n",
        "import json\n",
        "exported_values = list(df_t3.T.to_dict().values())\n",
        "open('EPI2022_clustered(c_6).json', \"w\").write(json.dumps(exported_values))"
      ],
      "metadata": {
        "id": "vZGJWCF254lA"
      },
      "execution_count": null,
      "outputs": []
    },
    {
      "cell_type": "markdown",
      "source": [
        "## Dimensionality Reduction"
      ],
      "metadata": {
        "id": "hwUFPxdPJxtE"
      }
    },
    {
      "cell_type": "code",
      "source": [
        "#Dimensionality Reduction to visualise these groups.\n",
        "from sklearn.decomposition import PCA\n",
        "import matplotlib.pyplot as plt\n",
        "\n",
        "W = PCA(2).fit_transform(df_X22)"
      ],
      "metadata": {
        "id": "99HQouWarWLt"
      },
      "execution_count": null,
      "outputs": []
    },
    {
      "cell_type": "code",
      "source": [
        "kwargs = dict(cmap=plt.cm.get_cmap(\"rainbow\", 10), edgecolor=\"none\", alpha=0.6)\n",
        "fig, ax = plt.subplots(1, 2, figsize=(8, 4))\n",
        "ax[0].scatter(W[:, 0], W[:, 1], c=cluster, **kwargs)\n",
        "ax[0].set_title(\"learned cluster labels\")\n",
        "ax[1].scatter(W[:, 0], W[:, 1], c=df_t3['continent_code'], **kwargs)\n",
        "ax[1].set_title(\"clusters = continents\")\n",
        "\n"
      ],
      "metadata": {
        "colab": {
          "base_uri": "https://localhost:8080/"
        },
        "id": "TGIlATYwsKMw",
        "outputId": "2dd7296d-b9de-4c2f-96df-1a62b0da42fe"
      },
      "execution_count": null,
      "outputs": [
        {
          "output_type": "execute_result",
          "data": {
            "text/plain": [
              "Text(0.5, 1.0, 'clusters = continents')"
            ]
          },
          "metadata": {},
          "execution_count": 22
        },
        {
          "output_type": "display_data",
          "data": {
            "text/plain": [
              "<Figure size 576x288 with 2 Axes>"
            ],
            "image/png": "[encoded data removed]"
          },
          "metadata": {
            "needs_background": "light"
          }
        }
      ]
    },
    {
      "cell_type": "code",
      "source": [
        "\n",
        "\n",
        "\n",
        "\n",
        "\n",
        "\n",
        "\n",
        "\n",
        "\n",
        "#now I want to make this same graph in vega-lite so that i can show country names on the tooltip, \n",
        "#need to create a dataset with country codes, names, continents, clusters, and the 2 dimensions from our dimensionality reduction."
      ],
      "metadata": {
        "id": "TbQOpCueEtOk"
      },
      "execution_count": null,
      "outputs": []
    },
    {
      "cell_type": "code",
      "source": [
        "columns = ['code', 'country', 'continent', 'continent_code', 'cluster']\n",
        "df_d2 = df_t3[columns]\n"
      ],
      "metadata": {
        "id": "lD_uSH7JHup9"
      },
      "execution_count": null,
      "outputs": []
    },
    {
      "cell_type": "code",
      "source": [
        "df_d2"
      ],
      "metadata": {
        "id": "ajOKGq4BKule"
      },
      "execution_count": null,
      "outputs": []
    },
    {
      "cell_type": "code",
      "source": [
        "df_d2['dim1'] = W[:, 0]\n",
        "df_d2['dim2'] = W[:, 1]"
      ],
      "metadata": {
        "colab": {
          "base_uri": "https://localhost:8080/"
        },
        "id": "AewKq1cWMumk",
        "outputId": "5335c778-137c-4c29-94cb-8de3111eb75b"
      },
      "execution_count": null,
      "outputs": [
        {
          "output_type": "stream",
          "name": "stderr",
          "text": [
            "<ipython-input-32-db75be484dc9>:1: SettingWithCopyWarning: \n",
            "A value is trying to be set on a copy of a slice from a DataFrame.\n",
            "Try using .loc[row_indexer,col_indexer] = value instead\n",
            "\n",
            "See the caveats in the documentation: https://pandas.pydata.org/pandas-docs/stable/user_guide/indexing.html#returning-a-view-versus-a-copy\n",
            "  df_d2['dim1'] = W[:, 0]\n",
            "<ipython-input-32-db75be484dc9>:2: SettingWithCopyWarning: \n",
            "A value is trying to be set on a copy of a slice from a DataFrame.\n",
            "Try using .loc[row_indexer,col_indexer] = value instead\n",
            "\n",
            "See the caveats in the documentation: https://pandas.pydata.org/pandas-docs/stable/user_guide/indexing.html#returning-a-view-versus-a-copy\n",
            "  df_d2['dim2'] = W[:, 1]\n"
          ]
        }
      ]
    },
    {
      "cell_type": "code",
      "source": [
        "#exporting df_d2 to create vega chart\n",
        "import json\n",
        "exported_values = list(df_d2.T.to_dict().values())\n",
        "open('EPI_d2_clustering.json', \"w\").write(json.dumps(exported_values))\n",
        "\n",
        "\n",
        "\n"
      ],
      "metadata": {
        "colab": {
          "base_uri": "https://localhost:8080/"
        },
        "id": "gpY9kZkhNF76",
        "outputId": "38a60af3-ff5b-4441-aa42-e0de64b343ca"
      },
      "execution_count": null,
      "outputs": [
        {
          "output_type": "execute_result",
          "data": {
            "text/plain": [
              "27943"
            ]
          },
          "metadata": {},
          "execution_count": 34
        }
      ]
    },
    {
      "cell_type": "code",
      "source": [
        "#Silhouette scores show the 'fit' essentially of the kmeans model. Closer to 1 is better, closer to -1 is worse. \n",
        "#I want to assign continent dummies for each country and then see which better-describes the grouping.\n",
        "from sklearn.metrics import silhouette_score\n",
        "silhouette_score(df_X22, cluster)"
      ],
      "metadata": {
        "colab": {
          "base_uri": "https://localhost:8080/"
        },
        "id": "ZMzzNZ78tZK7",
        "outputId": "9007cd6d-c7c5-42e8-b6c5-bf15959e5ad1"
      },
      "execution_count": null,
      "outputs": [
        {
          "output_type": "execute_result",
          "data": {
            "text/plain": [
              "0.17745114226803285"
            ]
          },
          "metadata": {},
          "execution_count": 138
        }
      ]
    },
    {
      "cell_type": "code",
      "source": [
        "\n",
        "silhouette_score(df_X22, df_t3['continent_code'])"
      ],
      "metadata": {
        "colab": {
          "base_uri": "https://localhost:8080/"
        },
        "id": "-EocILgNE5e9",
        "outputId": "8453cc80-795b-4fbb-8770-e3dfdf0bc510"
      },
      "execution_count": null,
      "outputs": [
        {
          "output_type": "execute_result",
          "data": {
            "text/plain": [
              "0.003747725708036966"
            ]
          },
          "metadata": {},
          "execution_count": 139
        }
      ]
    },
    {
      "cell_type": "code",
      "source": [
        "#We can see here that the silhouette score from my clustering is over 47 times higher than from continents.\n",
        "#shows that the clustering is a much better fit for the data. \n",
        "print(silhouette_score(df_X22, cluster)/silhouette_score(df_X22, df_t3['continent_code']))"
      ],
      "metadata": {
        "colab": {
          "base_uri": "https://localhost:8080/"
        },
        "id": "3DC-Ea1pFOSU",
        "outputId": "d3953505-6149-420a-ec86-157812454808"
      },
      "execution_count": null,
      "outputs": [
        {
          "output_type": "stream",
          "name": "stdout",
          "text": [
            "47.34902073742761\n"
          ]
        }
      ]
    },
    {
      "cell_type": "code",
      "source": [
        "#To 'rank' the clusters in terms of highest to lowest average environmental performance, I will create an average\n",
        "#of each dimension for each cluster. This average should roughly be the center point of each cluster on the scatter.\n",
        "#After ranking the clusters i can then see the disaster intensity within each cluster. \n",
        "\n",
        "df_averages = df_d2.groupby('cluster')['dim1', 'dim2'].mean()\n",
        "df_averages['average'] = df_averages['dim1']+df_averages['dim2']\n",
        "df_averages"
      ],
      "metadata": {
        "colab": {
          "base_uri": "https://localhost:8080/"
        },
        "id": "9YPZPzMgoBKD",
        "outputId": "065795f0-4a37-400b-d073-2006fbaa5ede"
      },
      "execution_count": null,
      "outputs": [
        {
          "output_type": "stream",
          "name": "stderr",
          "text": [
            "<ipython-input-34-2d3b3b45c685>:5: FutureWarning: Indexing with multiple keys (implicitly converted to a tuple of keys) will be deprecated, use a list instead.\n",
            "  df_averages = df_d2.groupby('cluster')['dim1', 'dim2'].mean()\n"
          ]
        },
        {
          "output_type": "execute_result",
          "data": {
            "text/plain": [
              "               dim1       dim2     average\n",
              "cluster                                   \n",
              "0        -31.611677  34.392994    2.781317\n",
              "1          5.969940 -41.573628  -35.603688\n",
              "2        -52.252524  -2.742759  -54.995283\n",
              "3        101.989676  43.056984  145.046661\n",
              "4         15.229203  31.701661   46.930864\n",
              "5         59.938454 -16.795975   43.142478"
            ],
            "text/html": [
              "\n",
              "  <div id=\"df-a069a95a-565e-43f6-82ab-6675f5062229\">\n",
              "    <div class=\"colab-df-container\">\n",
              "      <div>\n",
              "<style scoped>\n",
              "    .dataframe tbody tr th:only-of-type {\n",
              "        vertical-align: middle;\n",
              "    }\n",
              "\n",
              "    .dataframe tbody tr th {\n",
              "        vertical-align: top;\n",
              "    }\n",
              "\n",
              "    .dataframe thead th {\n",
              "        text-align: right;\n",
              "    }\n",
              "</style>\n",
              "<table border=\"1\" class=\"dataframe\">\n",
              "  <thead>\n",
              "    <tr style=\"text-align: right;\">\n",
              "      <th></th>\n",
              "      <th>dim1</th>\n",
              "      <th>dim2</th>\n",
              "      <th>average</th>\n",
              "    </tr>\n",
              "    <tr>\n",
              "      <th>cluster</th>\n",
              "      <th></th>\n",
              "      <th></th>\n",
              "      <th></th>\n",
              "    </tr>\n",
              "  </thead>\n",
              "  <tbody>\n",
              "    <tr>\n",
              "      <th>0</th>\n",
              "      <td>-31.611677</td>\n",
              "      <td>34.392994</td>\n",
              "      <td>2.781317</td>\n",
              "    </tr>\n",
              "    <tr>\n",
              "      <th>1</th>\n",
              "      <td>5.969940</td>\n",
              "      <td>-41.573628</td>\n",
              "      <td>-35.603688</td>\n",
              "    </tr>\n",
              "    <tr>\n",
              "      <th>2</th>\n",
              "      <td>-52.252524</td>\n",
              "      <td>-2.742759</td>\n",
              "      <td>-54.995283</td>\n",
              "    </tr>\n",
              "    <tr>\n",
              "      <th>3</th>\n",
              "      <td>101.989676</td>\n",
              "      <td>43.056984</td>\n",
              "      <td>145.046661</td>\n",
              "    </tr>\n",
              "    <tr>\n",
              "      <th>4</th>\n",
              "      <td>15.229203</td>\n",
              "      <td>31.701661</td>\n",
              "      <td>46.930864</td>\n",
              "    </tr>\n",
              "    <tr>\n",
              "      <th>5</th>\n",
              "      <td>59.938454</td>\n",
              "      <td>-16.795975</td>\n",
              "      <td>43.142478</td>\n",
              "    </tr>\n",
              "  </tbody>\n",
              "</table>\n",
              "</div>\n",
              "      <button class=\"colab-df-convert\" onclick=\"convertToInteractive('df-a069a95a-565e-43f6-82ab-6675f5062229')\"\n",
              "              title=\"Convert this dataframe to an interactive table.\"\n",
              "              style=\"display:none;\">\n",
              "        \n",
              "  <svg xmlns=\"http://www.w3.org/2000/svg\" height=\"24px\"viewBox=\"0 0 24 24\"\n",
              "       width=\"24px\">\n",
              "    <path d=\"M0 0h24v24H0V0z\" fill=\"none\"/>\n",
              "    <path d=\"M18.56 5.44l.94 2.06.94-2.06 2.06-.94-2.06-.94-.94-2.06-.94 2.06-2.06.94zm-11 1L8.5 8.5l.94-2.06 2.06-.94-2.06-.94L8.5 2.5l-.94 2.06-2.06.94zm10 10l.94 2.06.94-2.06 2.06-.94-2.06-.94-.94-2.06-.94 2.06-2.06.94z\"/><path d=\"M17.41 7.96l-1.37-1.37c-.4-.4-.92-.59-1.43-.59-.52 0-1.04.2-1.43.59L10.3 9.45l-7.72 7.72c-.78.78-.78 2.05 0 2.83L4 21.41c.39.39.9.59 1.41.59.51 0 1.02-.2 1.41-.59l7.78-7.78 2.81-2.81c.8-.78.8-2.07 0-2.86zM5.41 20L4 18.59l7.72-7.72 1.47 1.35L5.41 20z\"/>\n",
              "  </svg>\n",
              "      </button>\n",
              "      \n",
              "  <style>\n",
              "    .colab-df-container {\n",
              "      display:flex;\n",
              "      flex-wrap:wrap;\n",
              "      gap: 12px;\n",
              "    }\n",
              "\n",
              "    .colab-df-convert {\n",
              "      background-color: #E8F0FE;\n",
              "      border: none;\n",
              "      border-radius: 50%;\n",
              "      cursor: pointer;\n",
              "      display: none;\n",
              "      fill: #1967D2;\n",
              "      height: 32px;\n",
              "      padding: 0 0 0 0;\n",
              "      width: 32px;\n",
              "    }\n",
              "\n",
              "    .colab-df-convert:hover {\n",
              "      background-color: #E2EBFA;\n",
              "      box-shadow: 0px 1px 2px rgba(60, 64, 67, 0.3), 0px 1px 3px 1px rgba(60, 64, 67, 0.15);\n",
              "      fill: #174EA6;\n",
              "    }\n",
              "\n",
              "    [theme=dark] .colab-df-convert {\n",
              "      background-color: #3B4455;\n",
              "      fill: #D2E3FC;\n",
              "    }\n",
              "\n",
              "    [theme=dark] .colab-df-convert:hover {\n",
              "      background-color: #434B5C;\n",
              "      box-shadow: 0px 1px 3px 1px rgba(0, 0, 0, 0.15);\n",
              "      filter: drop-shadow(0px 1px 2px rgba(0, 0, 0, 0.3));\n",
              "      fill: #FFFFFF;\n",
              "    }\n",
              "  </style>\n",
              "\n",
              "      <script>\n",
              "        const buttonEl =\n",
              "          document.querySelector('#df-a069a95a-565e-43f6-82ab-6675f5062229 button.colab-df-convert');\n",
              "        buttonEl.style.display =\n",
              "          google.colab.kernel.accessAllowed ? 'block' : 'none';\n",
              "\n",
              "        async function convertToInteractive(key) {\n",
              "          const element = document.querySelector('#df-a069a95a-565e-43f6-82ab-6675f5062229');\n",
              "          const dataTable =\n",
              "            await google.colab.kernel.invokeFunction('convertToInteractive',\n",
              "                                                     [key], {});\n",
              "          if (!dataTable) return;\n",
              "\n",
              "          const docLinkHtml = 'Like what you see? Visit the ' +\n",
              "            '<a target=\"_blank\" href=https://colab.research.google.com/notebooks/data_table.ipynb>data table notebook</a>'\n",
              "            + ' to learn more about interactive tables.';\n",
              "          element.innerHTML = '';\n",
              "          dataTable['output_type'] = 'display_data';\n",
              "          await google.colab.output.renderOutput(dataTable, element);\n",
              "          const docLink = document.createElement('div');\n",
              "          docLink.innerHTML = docLinkHtml;\n",
              "          element.appendChild(docLink);\n",
              "        }\n",
              "      </script>\n",
              "    </div>\n",
              "  </div>\n",
              "  "
            ]
          },
          "metadata": {},
          "execution_count": 34
        }
      ]
    },
    {
      "cell_type": "code",
      "source": [
        "kwargs = dict(cmap=plt.cm.get_cmap(\"rainbow\", 10), edgecolor=\"none\", alpha=0.6)\n",
        "plt.scatter(df_averages['dim1'], df_averages['dim2'], c=df_averages.index, **kwargs)"
      ],
      "metadata": {
        "colab": {
          "base_uri": "https://localhost:8080/"
        },
        "id": "MJ-mY1jYzO0Z",
        "outputId": "07678343-9ba5-41db-ebda-90576c1dd0b1"
      },
      "execution_count": null,
      "outputs": [
        {
          "output_type": "execute_result",
          "data": {
            "text/plain": [
              "<matplotlib.collections.PathCollection at 0x7fba1c3e5250>"
            ]
          },
          "metadata": {},
          "execution_count": 33
        },
        {
          "output_type": "display_data",
          "data": {
            "text/plain": [
              "<Figure size 432x288 with 1 Axes>"
            ],
            "image/png": "[encoded data removed]"
          },
          "metadata": {
            "needs_background": "light"
          }
        }
      ]
    },
    {
      "cell_type": "markdown",
      "source": [
        "\n",
        "## Other Type of Rearranging (not relevant)\n",
        "\n",
        "\n",
        "\n",
        "\n",
        "\n",
        "\n",
        "\n"
      ],
      "metadata": {
        "id": "l_S_XEwYA6Xa"
      }
    },
    {
      "cell_type": "code",
      "source": [
        "#Alternative Way to arrange the data, puts year column and then a column for each var. NOT NEEDED\n",
        "\n",
        "df2 = df.set_index(['code', 'iso', 'country']).stack().reset_index()\n",
        "df2.head()\n",
        "df2['var'] =df2['level_3'].str.split('_').str[0]\n",
        "df2['year'] = df2['level_3'].str.split('_').str[1]\n",
        "df3 = df2.drop('level_3', axis=1)\n",
        "df4 = df3.rename(columns={0:\"Value\"})\n",
        "df4"
      ],
      "metadata": {
        "id": "CrE-QRBvaGzf"
      },
      "execution_count": null,
      "outputs": []
    },
    {
      "cell_type": "code",
      "source": [
        "#Exporting a version of the entire datset cleaned .\n",
        "\n",
        "import json\n",
        "exported_values = list(df_t2.T.to_dict().values())\n",
        "open('EPI2022_2012.json', \"w\").write(json.dumps(exported_values))"
      ],
      "metadata": {
        "colab": {
          "base_uri": "https://localhost:8080/"
        },
        "id": "K9RP4UfMlptc",
        "outputId": "6773c18a-bea3-4165-8345-4ecba13fa2c9"
      },
      "execution_count": null,
      "outputs": [
        {
          "output_type": "execute_result",
          "data": {
            "text/plain": [
              "91617"
            ]
          },
          "metadata": {},
          "execution_count": 25
        }
      ]
    },
    {
      "cell_type": "markdown",
      "source": [
        "## Comparing 2012 and 2022 Data"
      ],
      "metadata": {
        "id": "cMFcEOZUrhKH"
      }
    },
    {
      "cell_type": "code",
      "source": [
        "import pandas as pd\n",
        "import json\n",
        "import numpy as np"
      ],
      "metadata": {
        "id": "nFevHg7ZV88v"
      },
      "execution_count": 1,
      "outputs": []
    },
    {
      "cell_type": "code",
      "source": [
        "#create df_t from above\n",
        "df_t"
      ],
      "metadata": {
        "id": "AEsuxQx7rnUT"
      },
      "execution_count": null,
      "outputs": []
    },
    {
      "cell_type": "code",
      "source": [
        "df_na = df_t[df_t.isna().any(axis=1)]"
      ],
      "metadata": {
        "id": "0tAaHDIObqtt"
      },
      "execution_count": 31,
      "outputs": []
    },
    {
      "cell_type": "code",
      "source": [
        "#Can see that FGA and LCB have NaN values, problem for dimensionality reduction so don't consider these.\n",
        "varlist = ['EPI', 'CCH', 'GHN', 'CDA', 'CHA', 'GIB', 'BCA', 'GHP', 'NDA', 'AIR', 'ACD']\n",
        "df_dim_red_1 = df_t[varlist]"
      ],
      "metadata": {
        "id": "jwfRNnWscSZm"
      },
      "execution_count": 32,
      "outputs": []
    },
    {
      "cell_type": "code",
      "source": [
        "#Perform the dimensionality reduction\n",
        "from sklearn.decomposition import PCA\n",
        "W = PCA(1).fit_transform(df_dim_red_1)\n",
        "W"
      ],
      "metadata": {
        "id": "oE-uEIFlcR2b"
      },
      "execution_count": null,
      "outputs": []
    },
    {
      "cell_type": "code",
      "source": [
        "#Append this to the dataset as a new column\n",
        "df_t['1dim'] = W\n",
        "df_t"
      ],
      "metadata": {
        "id": "f7RjjSw9c3Et"
      },
      "execution_count": null,
      "outputs": []
    },
    {
      "cell_type": "code",
      "source": [
        "#Now we create a difference between the 2012 and 2022 dimensions for each country.\n",
        "df_t = df_t.sort_values(['code', 'year'])\n",
        "df_t['difference'] = df_t['1dim'].diff()\n",
        "df_t.loc[df_t['year'] == 2012,['difference']] = np.nan\n",
        "df_t"
      ],
      "metadata": {
        "id": "78J8NsaBdKtm"
      },
      "execution_count": null,
      "outputs": []
    },
    {
      "cell_type": "code",
      "source": [
        "#add clustering results from our 'cluster helper' dataframe. Using this live file so that clustering is consistent across\n",
        "#datasets rather than re-clustering and risking the cluster labels / countries changing.\n",
        "cluster_helper = pd.read_json('https://raw.githubusercontent.com/finntrinci/finntrinci.github.io/main/data/cluster_helper.json')"
      ],
      "metadata": {
        "id": "6yj37GbjVMZ_"
      },
      "execution_count": 37,
      "outputs": []
    },
    {
      "cell_type": "code",
      "source": [
        "#change country code to integer to merge datasets.\n",
        "df_t_mod = df_t\n",
        "df_t_mod['code'] = df_t_mod['code'].astype(int)"
      ],
      "metadata": {
        "id": "Uhd-5QeOWLU5"
      },
      "execution_count": 46,
      "outputs": []
    },
    {
      "cell_type": "code",
      "source": [
        "#merging clusters into dataset\n",
        "df_averages = pd.merge(df_t_mod, cluster_helper, on = ['code', 'country', 'iso'], how='left')"
      ],
      "metadata": {
        "id": "dtERFpI2VMuN"
      },
      "execution_count": 54,
      "outputs": []
    },
    {
      "cell_type": "code",
      "source": [
        "#making the dataset look cleaner\n",
        "varlist = ['code', 'year', 'iso', 'country', 'continent', '1dim', 'difference', 'cluster']\n",
        "df_averages = df_averages[varlist]"
      ],
      "metadata": {
        "id": "plrnPTpZVNG9"
      },
      "execution_count": 55,
      "outputs": []
    },
    {
      "cell_type": "code",
      "source": [
        "#creating an average of 1dim by cluster and year to have 2 observations for each cluster.\n",
        "df_averages['1dim_cluster'] = df_averages['1dim'].groupby([df_averages['cluster'], df_averages['year']]).transform('mean')\n",
        "\n",
        "#Creating a variable of the difference between the average score by cluster and year. \n",
        "#i.e. if cluster 1 is 10 in 2012 and 12 in 2022, this will be equal to 2.\n",
        "df_averages['diff_avg'] = df_averages['difference'].groupby(df_averages['cluster']).transform('mean')\n",
        "\n",
        "#condensing the dataset to have 2 observations per cluster.\n",
        "df_averages_condense = df_averages[['cluster', '1dim_cluster', 'year', 'diff_avg']].drop_duplicates()\n",
        "\n",
        "#Creating an indicator variable for whether the change from 2012 to 2022 is positive or negative (dummy variable)\n",
        "df_averages_condense[\"positive\"] = np.where(df_averages_condense[\"diff_avg\"]>0,1,0)\n",
        "df_averages_condense"
      ],
      "metadata": {
        "id": "DH05KwRoXI64"
      },
      "execution_count": null,
      "outputs": []
    },
    {
      "cell_type": "code",
      "source": [
        "#exporting this to append to our disaster data.\n",
        "import json\n",
        "exported_values = list(df_averages_condense.T.to_dict().values())\n",
        "open('EPI_cluster_avg_diff.json', \"w\").write(json.dumps(exported_values))"
      ],
      "metadata": {
        "colab": {
          "base_uri": "https://localhost:8080/"
        },
        "id": "JyGwOBLHb0Ml",
        "outputId": "60a32842-c6a4-4cd5-d09b-4cf6d15bab8b"
      },
      "execution_count": 63,
      "outputs": [
        {
          "output_type": "execute_result",
          "data": {
            "text/plain": [
              "1428"
            ]
          },
          "metadata": {},
          "execution_count": 63
        }
      ]
    },
    {
      "cell_type": "markdown",
      "source": [
        "## Different type of differences output (not used):"
      ],
      "metadata": {
        "id": "TeKBdVvTVwyX"
      }
    },
    {
      "cell_type": "code",
      "source": [
        "df_differences = df_t[df_t['difference'].notna()]\n",
        "df_differences"
      ],
      "metadata": {
        "id": "21sAYlC3gWUy"
      },
      "execution_count": null,
      "outputs": []
    },
    {
      "cell_type": "code",
      "source": [
        "#add clustering results from our 'cluster helper' dataframe. Using this live file so that clustering is consistent across\n",
        "#datasets rather than re-clustering and risking the cluster labels / countries changing.\n",
        "cluster_helper = pd.read_json('https://raw.githubusercontent.com/finntrinci/finntrinci.github.io/main/data/cluster_helper.json')"
      ],
      "metadata": {
        "id": "sXsOrpEuoSdU"
      },
      "execution_count": 36,
      "outputs": []
    },
    {
      "cell_type": "code",
      "source": [
        "#merging clusters into dataset\n",
        "df_differences_clus = pd.merge(df_differences, cluster_helper, on = ['code', 'country', 'iso'], how='left')"
      ],
      "metadata": {
        "id": "9S-KYO2bsIo7"
      },
      "execution_count": 44,
      "outputs": []
    },
    {
      "cell_type": "code",
      "source": [
        "df_differences_clus['diff_avg'] = df_differences_clus['difference'].groupby(df_differences_clus['cluster']).transform('mean')\n",
        "df_differences_clus2 = df_differences_clus[['cluster', 'diff_avg']].drop_duplicates()\n",
        "df_differences_clus2"
      ],
      "metadata": {
        "colab": {
          "base_uri": "https://localhost:8080/",
          "height": 238
        },
        "id": "g6R6ukGpvvOb",
        "outputId": "bf44147e-3fdc-41ad-b8b8-b725560d782e"
      },
      "execution_count": 47,
      "outputs": [
        {
          "output_type": "execute_result",
          "data": {
            "text/plain": [
              "    cluster   diff_avg\n",
              "0         4  25.271902\n",
              "2         1  29.411336\n",
              "3         2  -5.425174\n",
              "7         5  18.179480\n",
              "13        3  44.419001\n",
              "20        6   0.766087"
            ],
            "text/html": [
              "\n",
              "  <div id=\"df-2e910f7b-7edf-49d5-a150-7ca5caa72a50\">\n",
              "    <div class=\"colab-df-container\">\n",
              "      <div>\n",
              "<style scoped>\n",
              "    .dataframe tbody tr th:only-of-type {\n",
              "        vertical-align: middle;\n",
              "    }\n",
              "\n",
              "    .dataframe tbody tr th {\n",
              "        vertical-align: top;\n",
              "    }\n",
              "\n",
              "    .dataframe thead th {\n",
              "        text-align: right;\n",
              "    }\n",
              "</style>\n",
              "<table border=\"1\" class=\"dataframe\">\n",
              "  <thead>\n",
              "    <tr style=\"text-align: right;\">\n",
              "      <th></th>\n",
              "      <th>cluster</th>\n",
              "      <th>diff_avg</th>\n",
              "    </tr>\n",
              "  </thead>\n",
              "  <tbody>\n",
              "    <tr>\n",
              "      <th>0</th>\n",
              "      <td>4</td>\n",
              "      <td>25.271902</td>\n",
              "    </tr>\n",
              "    <tr>\n",
              "      <th>2</th>\n",
              "      <td>1</td>\n",
              "      <td>29.411336</td>\n",
              "    </tr>\n",
              "    <tr>\n",
              "      <th>3</th>\n",
              "      <td>2</td>\n",
              "      <td>-5.425174</td>\n",
              "    </tr>\n",
              "    <tr>\n",
              "      <th>7</th>\n",
              "      <td>5</td>\n",
              "      <td>18.179480</td>\n",
              "    </tr>\n",
              "    <tr>\n",
              "      <th>13</th>\n",
              "      <td>3</td>\n",
              "      <td>44.419001</td>\n",
              "    </tr>\n",
              "    <tr>\n",
              "      <th>20</th>\n",
              "      <td>6</td>\n",
              "      <td>0.766087</td>\n",
              "    </tr>\n",
              "  </tbody>\n",
              "</table>\n",
              "</div>\n",
              "      <button class=\"colab-df-convert\" onclick=\"convertToInteractive('df-2e910f7b-7edf-49d5-a150-7ca5caa72a50')\"\n",
              "              title=\"Convert this dataframe to an interactive table.\"\n",
              "              style=\"display:none;\">\n",
              "        \n",
              "  <svg xmlns=\"http://www.w3.org/2000/svg\" height=\"24px\"viewBox=\"0 0 24 24\"\n",
              "       width=\"24px\">\n",
              "    <path d=\"M0 0h24v24H0V0z\" fill=\"none\"/>\n",
              "    <path d=\"M18.56 5.44l.94 2.06.94-2.06 2.06-.94-2.06-.94-.94-2.06-.94 2.06-2.06.94zm-11 1L8.5 8.5l.94-2.06 2.06-.94-2.06-.94L8.5 2.5l-.94 2.06-2.06.94zm10 10l.94 2.06.94-2.06 2.06-.94-2.06-.94-.94-2.06-.94 2.06-2.06.94z\"/><path d=\"M17.41 7.96l-1.37-1.37c-.4-.4-.92-.59-1.43-.59-.52 0-1.04.2-1.43.59L10.3 9.45l-7.72 7.72c-.78.78-.78 2.05 0 2.83L4 21.41c.39.39.9.59 1.41.59.51 0 1.02-.2 1.41-.59l7.78-7.78 2.81-2.81c.8-.78.8-2.07 0-2.86zM5.41 20L4 18.59l7.72-7.72 1.47 1.35L5.41 20z\"/>\n",
              "  </svg>\n",
              "      </button>\n",
              "      \n",
              "  <style>\n",
              "    .colab-df-container {\n",
              "      display:flex;\n",
              "      flex-wrap:wrap;\n",
              "      gap: 12px;\n",
              "    }\n",
              "\n",
              "    .colab-df-convert {\n",
              "      background-color: #E8F0FE;\n",
              "      border: none;\n",
              "      border-radius: 50%;\n",
              "      cursor: pointer;\n",
              "      display: none;\n",
              "      fill: #1967D2;\n",
              "      height: 32px;\n",
              "      padding: 0 0 0 0;\n",
              "      width: 32px;\n",
              "    }\n",
              "\n",
              "    .colab-df-convert:hover {\n",
              "      background-color: #E2EBFA;\n",
              "      box-shadow: 0px 1px 2px rgba(60, 64, 67, 0.3), 0px 1px 3px 1px rgba(60, 64, 67, 0.15);\n",
              "      fill: #174EA6;\n",
              "    }\n",
              "\n",
              "    [theme=dark] .colab-df-convert {\n",
              "      background-color: #3B4455;\n",
              "      fill: #D2E3FC;\n",
              "    }\n",
              "\n",
              "    [theme=dark] .colab-df-convert:hover {\n",
              "      background-color: #434B5C;\n",
              "      box-shadow: 0px 1px 3px 1px rgba(0, 0, 0, 0.15);\n",
              "      filter: drop-shadow(0px 1px 2px rgba(0, 0, 0, 0.3));\n",
              "      fill: #FFFFFF;\n",
              "    }\n",
              "  </style>\n",
              "\n",
              "      <script>\n",
              "        const buttonEl =\n",
              "          document.querySelector('#df-2e910f7b-7edf-49d5-a150-7ca5caa72a50 button.colab-df-convert');\n",
              "        buttonEl.style.display =\n",
              "          google.colab.kernel.accessAllowed ? 'block' : 'none';\n",
              "\n",
              "        async function convertToInteractive(key) {\n",
              "          const element = document.querySelector('#df-2e910f7b-7edf-49d5-a150-7ca5caa72a50');\n",
              "          const dataTable =\n",
              "            await google.colab.kernel.invokeFunction('convertToInteractive',\n",
              "                                                     [key], {});\n",
              "          if (!dataTable) return;\n",
              "\n",
              "          const docLinkHtml = 'Like what you see? Visit the ' +\n",
              "            '<a target=\"_blank\" href=https://colab.research.google.com/notebooks/data_table.ipynb>data table notebook</a>'\n",
              "            + ' to learn more about interactive tables.';\n",
              "          element.innerHTML = '';\n",
              "          dataTable['output_type'] = 'display_data';\n",
              "          await google.colab.output.renderOutput(dataTable, element);\n",
              "          const docLink = document.createElement('div');\n",
              "          docLink.innerHTML = docLinkHtml;\n",
              "          element.appendChild(docLink);\n",
              "        }\n",
              "      </script>\n",
              "    </div>\n",
              "  </div>\n",
              "  "
            ]
          },
          "metadata": {},
          "execution_count": 47
        }
      ]
    },
    {
      "cell_type": "code",
      "source": [
        "#exporting this to append to our disaster data.\n",
        "import json\n",
        "exported_values = list(df_differences_clus2.T.to_dict().values())\n",
        "open('EPI_cluster_avg_diff.json', \"w\").write(json.dumps(exported_values))"
      ],
      "metadata": {
        "colab": {
          "base_uri": "https://localhost:8080/"
        },
        "id": "6M-uUYTdzLQJ",
        "outputId": "76452e82-a2b5-44d7-ee9c-1831d9b62c52"
      },
      "execution_count": 48,
      "outputs": [
        {
          "output_type": "execute_result",
          "data": {
            "text/plain": [
              "300"
            ]
          },
          "metadata": {},
          "execution_count": 48
        }
      ]
    },
    {
      "cell_type": "code",
      "source": [],
      "metadata": {
        "id": "tW9M0RU9TV5-"
      },
      "execution_count": null,
      "outputs": []
    }
  ]
}