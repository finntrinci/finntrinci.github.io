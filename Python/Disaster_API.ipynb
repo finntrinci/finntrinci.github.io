{
  "nbformat": 4,
  "nbformat_minor": 0,
  "metadata": {
    "colab": {
      "provenance": [],
      "collapsed_sections": [
        "IVXxT_0LnDt3",
        "G8_x5oHJmxFB"
      ],
      "authorship_tag": "ABX9TyN4Wm8A3XrvfLGd+XtCUDgJ",
      "include_colab_link": true
    },
    "kernelspec": {
      "name": "python3",
      "display_name": "Python 3"
    },
    "language_info": {
      "name": "python"
    }
  },
  "cells": [
    {
      "cell_type": "markdown",
      "metadata": {
        "id": "view-in-github",
        "colab_type": "text"
      },
      "source": [
        "<a href=\"https://colab.research.google.com/github/finntrinci/finntrinci.github.io/blob/main/Python/Disaster_API.ipynb\" target=\"_parent\"><img src=\"https://colab.research.google.com/assets/colab-badge.svg\" alt=\"Open In Colab\"/></a>"
      ]
    },
    {
      "cell_type": "markdown",
      "source": [
        "## Creating Initial df from ReliefWeb API"
      ],
      "metadata": {
        "id": "S_M8QR-FcL9l"
      }
    },
    {
      "cell_type": "code",
      "source": [
        "import json\n",
        "import requests\n",
        "import pandas as pd\n",
        "import numpy as np"
      ],
      "metadata": {
        "id": "yS1Wux0ZEYEH"
      },
      "execution_count": 1,
      "outputs": []
    },
    {
      "cell_type": "code",
      "execution_count": 2,
      "metadata": {
        "id": "quvgg1_6EUDe"
      },
      "outputs": [],
      "source": [
        "#define URLs to pull data from\n",
        "urls = ['https://api.reliefweb.int/v1/disasters?appname=rwint-user-0&profile=list&preset=latest&slim=1&query%5Bvalue%5D=type.id%3A%284672+OR+4611+OR+4648+OR+4624+OR+4618+OR+4719+OR+4930+OR+4656%29&query%5Boperator%5D=AND&limit=1000', 'https://api.reliefweb.int/v1/disasters?appname=rwint-user-0&profile=list&preset=latest&slim=1&query%5Bvalue%5D=type.id%3A%284672+OR+4611+OR+4648+OR+4624+OR+4618+OR+4719+OR+4930+OR+4656%29+AND+date.created%3A%5B1990-01-01+TO+2009-07-06%7D&query%5Boperator%5D=AND&limit=1000', 'https://api.reliefweb.int/v1/disasters?appname=rwint-user-0&profile=list&preset=latest&slim=1&query%5Bvalue%5D=type.id%3A%284672+OR+4611+OR+4648+OR+4624+OR+4618+OR+4719+OR+4930+OR+4656%29+AND+date.created%3A%5B1990-01-01+TO+1994-06-23%7D&query%5Boperator%5D=AND&limit=1000']\n",
        " \n",
        "#now for each url in urls, want to get the data as json() and then create a file called request_{url_index}\n",
        "\n",
        "for url_index, url in enumerate(urls):\n",
        "    request = requests.get(url).json()\n",
        "    with(open(f'request_{url_index}.json', 'w')) as out_file:\n",
        "        json.dump(request, out_file, indent=4)"
      ]
    },
    {
      "cell_type": "code",
      "source": [
        "#collate the data from the json files we just requested into what we actually want.\n",
        "#populating the dataframe row by row. Do this through defining a function 'process_json_file' which takes our json files containing the API calls,\n",
        "#and appends them into one dataset (taking only the variables we want)\n",
        "\n",
        "def process_json_file(disaster_dataframe:pd.DataFrame, file_path:str) -> pd.DataFrame:\n",
        "    json_dict = json.load(open(file_path))\n",
        "    index = len(disaster_dataframe.index)\n",
        "#stating where we want each column to get its data from. name_date_tag is split into the name of the disaster and the\n",
        "#date (month) of the disaster. [-1] is the right side, [0] is left side.\n",
        "    for disaster in json_dict['data']:      \n",
        "        id = disaster['id']\n",
        "        name_date_tag :str = disaster['fields']['name']\n",
        "        name = name_date_tag.split(' - ')[0]\n",
        "        date = name_date_tag.split(' - ')[-1]\n",
        "#need to further split the date variable up into year, some have a space inbetween the year and month, some have a dash\n",
        "#since they are over 2 years, in this case since the disaster started in the first year, i use the first year.\n",
        "        year_dash :str = date.split(' ')[-1]\n",
        "        year = year_dash.split('-')[0]\n",
        "        countries = disaster['fields']['country']\n",
        "        types = disaster['fields']['type']\n",
        "#since we are now returned a set of countries and types we need to then create a row for each country involved.\n",
        "#do this through using their index, and keeping the id as an integer, name, date, and year but then assigning the country\n",
        "#['name'] and the type ['name']\n",
        "        for country in countries:\n",
        "            for type in types:\n",
        "                disaster_dataframe.loc[index] = [int(id), name, date, year, country['name'], type['name']]\n",
        "                index +=1\n",
        "    return disaster_dataframe"
      ],
      "metadata": {
        "id": "Z_OetTg8E5rv"
      },
      "execution_count": 3,
      "outputs": []
    },
    {
      "cell_type": "code",
      "source": [
        "\n",
        "#now we want to put the data from our request json files into a disaster daraframe according to the function created above (process_json_file).\n",
        "\n",
        "json_files = ['request_0.json','request_1.json','request_2.json']\n",
        " \n",
        "disaster_dataframe = pd.DataFrame(columns=['ID', 'Name', 'Date', 'Year', 'Country', 'Type'])\n",
        " \n",
        "for json_file in json_files:\n",
        "    disaster_dataframe = process_json_file(disaster_dataframe, json_file)\n",
        " \n",
        "disaster_dataframe.to_json('full_disaster_dataframe.json')\n",
        " \n",
        "df = pd.read_json('full_disaster_dataframe.json')"
      ],
      "metadata": {
        "id": "8nCKE5TlG34U"
      },
      "execution_count": 4,
      "outputs": []
    },
    {
      "cell_type": "code",
      "source": [
        "df"
      ],
      "metadata": {
        "id": "PL9IlholuXGQ",
        "colab": {
          "base_uri": "https://localhost:8080/",
          "height": 424
        },
        "outputId": "ad674312-681c-41f5-bbd8-de176f5f8aef"
      },
      "execution_count": 5,
      "outputs": [
        {
          "output_type": "execute_result",
          "data": {
            "text/plain": [
              "         ID                             Name      Date  Year  \\\n",
              "0     51427             South Africa: Floods  Dec 2022  2022   \n",
              "1     51426   Bosnia and Herzegovina: Floods  Dec 2022  2022   \n",
              "2     51426   Bosnia and Herzegovina: Floods  Dec 2022  2022   \n",
              "3     51424  Malaysia: Floods and Landslides  Dec 2022  2022   \n",
              "4     51424  Malaysia: Floods and Landslides  Dec 2022  2022   \n",
              "...     ...                              ...       ...   ...   \n",
              "4509   6028                 Paraguay: Floods  Feb 1990  1990   \n",
              "4510   5376       Cook Islands: Cyclone Peni  Feb 1990  1990   \n",
              "4511   5862              Madagascar: Cyclone  Jan 1990  1990   \n",
              "4512   6227                Sri Lanka: Floods  Jan 1990  1990   \n",
              "4513   5612                  Tunisia: Floods  Jan 1990  1990   \n",
              "\n",
              "                     Country              Type  \n",
              "0               South Africa             Flood  \n",
              "1     Bosnia and Herzegovina             Flood  \n",
              "2     Bosnia and Herzegovina        Land Slide  \n",
              "3                   Malaysia             Flood  \n",
              "4                   Malaysia        Land Slide  \n",
              "...                      ...               ...  \n",
              "4509                Paraguay             Flood  \n",
              "4510            Cook Islands  Tropical Cyclone  \n",
              "4511              Madagascar  Tropical Cyclone  \n",
              "4512               Sri Lanka             Flood  \n",
              "4513                 Tunisia             Flood  \n",
              "\n",
              "[4514 rows x 6 columns]"
            ],
            "text/html": [
              "\n",
              "  <div id=\"df-9a1f1108-d80d-4ff7-abf1-8eaec4bf25bc\">\n",
              "    <div class=\"colab-df-container\">\n",
              "      <div>\n",
              "<style scoped>\n",
              "    .dataframe tbody tr th:only-of-type {\n",
              "        vertical-align: middle;\n",
              "    }\n",
              "\n",
              "    .dataframe tbody tr th {\n",
              "        vertical-align: top;\n",
              "    }\n",
              "\n",
              "    .dataframe thead th {\n",
              "        text-align: right;\n",
              "    }\n",
              "</style>\n",
              "<table border=\"1\" class=\"dataframe\">\n",
              "  <thead>\n",
              "    <tr style=\"text-align: right;\">\n",
              "      <th></th>\n",
              "      <th>ID</th>\n",
              "      <th>Name</th>\n",
              "      <th>Date</th>\n",
              "      <th>Year</th>\n",
              "      <th>Country</th>\n",
              "      <th>Type</th>\n",
              "    </tr>\n",
              "  </thead>\n",
              "  <tbody>\n",
              "    <tr>\n",
              "      <th>0</th>\n",
              "      <td>51427</td>\n",
              "      <td>South Africa: Floods</td>\n",
              "      <td>Dec 2022</td>\n",
              "      <td>2022</td>\n",
              "      <td>South Africa</td>\n",
              "      <td>Flood</td>\n",
              "    </tr>\n",
              "    <tr>\n",
              "      <th>1</th>\n",
              "      <td>51426</td>\n",
              "      <td>Bosnia and Herzegovina: Floods</td>\n",
              "      <td>Dec 2022</td>\n",
              "      <td>2022</td>\n",
              "      <td>Bosnia and Herzegovina</td>\n",
              "      <td>Flood</td>\n",
              "    </tr>\n",
              "    <tr>\n",
              "      <th>2</th>\n",
              "      <td>51426</td>\n",
              "      <td>Bosnia and Herzegovina: Floods</td>\n",
              "      <td>Dec 2022</td>\n",
              "      <td>2022</td>\n",
              "      <td>Bosnia and Herzegovina</td>\n",
              "      <td>Land Slide</td>\n",
              "    </tr>\n",
              "    <tr>\n",
              "      <th>3</th>\n",
              "      <td>51424</td>\n",
              "      <td>Malaysia: Floods and Landslides</td>\n",
              "      <td>Dec 2022</td>\n",
              "      <td>2022</td>\n",
              "      <td>Malaysia</td>\n",
              "      <td>Flood</td>\n",
              "    </tr>\n",
              "    <tr>\n",
              "      <th>4</th>\n",
              "      <td>51424</td>\n",
              "      <td>Malaysia: Floods and Landslides</td>\n",
              "      <td>Dec 2022</td>\n",
              "      <td>2022</td>\n",
              "      <td>Malaysia</td>\n",
              "      <td>Land Slide</td>\n",
              "    </tr>\n",
              "    <tr>\n",
              "      <th>...</th>\n",
              "      <td>...</td>\n",
              "      <td>...</td>\n",
              "      <td>...</td>\n",
              "      <td>...</td>\n",
              "      <td>...</td>\n",
              "      <td>...</td>\n",
              "    </tr>\n",
              "    <tr>\n",
              "      <th>4509</th>\n",
              "      <td>6028</td>\n",
              "      <td>Paraguay: Floods</td>\n",
              "      <td>Feb 1990</td>\n",
              "      <td>1990</td>\n",
              "      <td>Paraguay</td>\n",
              "      <td>Flood</td>\n",
              "    </tr>\n",
              "    <tr>\n",
              "      <th>4510</th>\n",
              "      <td>5376</td>\n",
              "      <td>Cook Islands: Cyclone Peni</td>\n",
              "      <td>Feb 1990</td>\n",
              "      <td>1990</td>\n",
              "      <td>Cook Islands</td>\n",
              "      <td>Tropical Cyclone</td>\n",
              "    </tr>\n",
              "    <tr>\n",
              "      <th>4511</th>\n",
              "      <td>5862</td>\n",
              "      <td>Madagascar: Cyclone</td>\n",
              "      <td>Jan 1990</td>\n",
              "      <td>1990</td>\n",
              "      <td>Madagascar</td>\n",
              "      <td>Tropical Cyclone</td>\n",
              "    </tr>\n",
              "    <tr>\n",
              "      <th>4512</th>\n",
              "      <td>6227</td>\n",
              "      <td>Sri Lanka: Floods</td>\n",
              "      <td>Jan 1990</td>\n",
              "      <td>1990</td>\n",
              "      <td>Sri Lanka</td>\n",
              "      <td>Flood</td>\n",
              "    </tr>\n",
              "    <tr>\n",
              "      <th>4513</th>\n",
              "      <td>5612</td>\n",
              "      <td>Tunisia: Floods</td>\n",
              "      <td>Jan 1990</td>\n",
              "      <td>1990</td>\n",
              "      <td>Tunisia</td>\n",
              "      <td>Flood</td>\n",
              "    </tr>\n",
              "  </tbody>\n",
              "</table>\n",
              "<p>4514 rows × 6 columns</p>\n",
              "</div>\n",
              "      <button class=\"colab-df-convert\" onclick=\"convertToInteractive('df-9a1f1108-d80d-4ff7-abf1-8eaec4bf25bc')\"\n",
              "              title=\"Convert this dataframe to an interactive table.\"\n",
              "              style=\"display:none;\">\n",
              "        \n",
              "  <svg xmlns=\"http://www.w3.org/2000/svg\" height=\"24px\"viewBox=\"0 0 24 24\"\n",
              "       width=\"24px\">\n",
              "    <path d=\"M0 0h24v24H0V0z\" fill=\"none\"/>\n",
              "    <path d=\"M18.56 5.44l.94 2.06.94-2.06 2.06-.94-2.06-.94-.94-2.06-.94 2.06-2.06.94zm-11 1L8.5 8.5l.94-2.06 2.06-.94-2.06-.94L8.5 2.5l-.94 2.06-2.06.94zm10 10l.94 2.06.94-2.06 2.06-.94-2.06-.94-.94-2.06-.94 2.06-2.06.94z\"/><path d=\"M17.41 7.96l-1.37-1.37c-.4-.4-.92-.59-1.43-.59-.52 0-1.04.2-1.43.59L10.3 9.45l-7.72 7.72c-.78.78-.78 2.05 0 2.83L4 21.41c.39.39.9.59 1.41.59.51 0 1.02-.2 1.41-.59l7.78-7.78 2.81-2.81c.8-.78.8-2.07 0-2.86zM5.41 20L4 18.59l7.72-7.72 1.47 1.35L5.41 20z\"/>\n",
              "  </svg>\n",
              "      </button>\n",
              "      \n",
              "  <style>\n",
              "    .colab-df-container {\n",
              "      display:flex;\n",
              "      flex-wrap:wrap;\n",
              "      gap: 12px;\n",
              "    }\n",
              "\n",
              "    .colab-df-convert {\n",
              "      background-color: #E8F0FE;\n",
              "      border: none;\n",
              "      border-radius: 50%;\n",
              "      cursor: pointer;\n",
              "      display: none;\n",
              "      fill: #1967D2;\n",
              "      height: 32px;\n",
              "      padding: 0 0 0 0;\n",
              "      width: 32px;\n",
              "    }\n",
              "\n",
              "    .colab-df-convert:hover {\n",
              "      background-color: #E2EBFA;\n",
              "      box-shadow: 0px 1px 2px rgba(60, 64, 67, 0.3), 0px 1px 3px 1px rgba(60, 64, 67, 0.15);\n",
              "      fill: #174EA6;\n",
              "    }\n",
              "\n",
              "    [theme=dark] .colab-df-convert {\n",
              "      background-color: #3B4455;\n",
              "      fill: #D2E3FC;\n",
              "    }\n",
              "\n",
              "    [theme=dark] .colab-df-convert:hover {\n",
              "      background-color: #434B5C;\n",
              "      box-shadow: 0px 1px 3px 1px rgba(0, 0, 0, 0.15);\n",
              "      filter: drop-shadow(0px 1px 2px rgba(0, 0, 0, 0.3));\n",
              "      fill: #FFFFFF;\n",
              "    }\n",
              "  </style>\n",
              "\n",
              "      <script>\n",
              "        const buttonEl =\n",
              "          document.querySelector('#df-9a1f1108-d80d-4ff7-abf1-8eaec4bf25bc button.colab-df-convert');\n",
              "        buttonEl.style.display =\n",
              "          google.colab.kernel.accessAllowed ? 'block' : 'none';\n",
              "\n",
              "        async function convertToInteractive(key) {\n",
              "          const element = document.querySelector('#df-9a1f1108-d80d-4ff7-abf1-8eaec4bf25bc');\n",
              "          const dataTable =\n",
              "            await google.colab.kernel.invokeFunction('convertToInteractive',\n",
              "                                                     [key], {});\n",
              "          if (!dataTable) return;\n",
              "\n",
              "          const docLinkHtml = 'Like what you see? Visit the ' +\n",
              "            '<a target=\"_blank\" href=https://colab.research.google.com/notebooks/data_table.ipynb>data table notebook</a>'\n",
              "            + ' to learn more about interactive tables.';\n",
              "          element.innerHTML = '';\n",
              "          dataTable['output_type'] = 'display_data';\n",
              "          await google.colab.output.renderOutput(dataTable, element);\n",
              "          const docLink = document.createElement('div');\n",
              "          docLink.innerHTML = docLinkHtml;\n",
              "          element.appendChild(docLink);\n",
              "        }\n",
              "      </script>\n",
              "    </div>\n",
              "  </div>\n",
              "  "
            ]
          },
          "metadata": {},
          "execution_count": 5
        }
      ]
    },
    {
      "cell_type": "code",
      "source": [
        "#\n",
        "#\n",
        "#\n",
        "#\n",
        "#\n",
        "#Now, i want to give each country its code, so i can easily use this data with geojson for creating a map.\n",
        "#first i want to see all the country names, for any strange naming, e.g. can immediately see Viet Nam and Bolivia (Plurinational State of)   \n",
        "#how to deal with these?\n",
        "disaster_dataframe['Country'].unique()"
      ],
      "metadata": {
        "id": "vV5NQqt7Vbee",
        "colab": {
          "base_uri": "https://localhost:8080/"
        },
        "outputId": "eb1e430a-261c-43c7-a718-4039b2c8d63b"
      },
      "execution_count": 6,
      "outputs": [
        {
          "output_type": "execute_result",
          "data": {
            "text/plain": [
              "array(['South Africa', 'Bosnia and Herzegovina', 'Malaysia',\n",
              "       'Democratic Republic of the Congo', 'Trinidad and Tobago',\n",
              "       'Mongolia', 'Panama', 'Eswatini', 'Saint Lucia', 'Togo',\n",
              "       'Ethiopia', 'Belize', 'Guatemala', 'Honduras', 'Mexico', 'Mali',\n",
              "       'Philippines', 'Cameroon', 'Costa Rica', 'Benin', 'Thailand',\n",
              "       'Viet Nam', 'El Salvador', 'Cayman Islands', 'Cuba', 'Jamaica',\n",
              "       'United States of America', 'Cambodia', 'China',\n",
              "       \"Lao People's Democratic Republic (the)\", 'Bulgaria', 'Bahamas',\n",
              "       'Bermuda', 'British Virgin Islands', 'Dominican Republic',\n",
              "       'Guyana', 'Puerto Rico (The United States of America)',\n",
              "       'Turks and Caicos Islands', 'United States Virgin Islands',\n",
              "       'Sierra Leone', 'Guinea', 'Senegal', 'Central African Republic',\n",
              "       'Mauritania', 'Algeria', 'Chad', 'Sudan', 'Gambia', 'Sri Lanka',\n",
              "       'Uganda', 'Nigeria', 'Iran (Islamic Republic of)', 'Yemen',\n",
              "       \"Côte d'Ivoire\", 'Georgia', 'Pakistan', 'Kiribati', 'Tuvalu',\n",
              "       'Bangladesh', 'India', 'Somalia', 'Niger', 'Afghanistan',\n",
              "       'Venezuela (Bolivarian Republic of)', 'Tunisia', 'Colombia',\n",
              "       'Madagascar', 'Malawi', 'Mozambique', 'Djibouti', 'Cabo Verde',\n",
              "       'Mauritius', 'Réunion (France)', 'Haiti', 'Ecuador', 'Zimbabwe',\n",
              "       'occupied Palestinian territory', 'Zambia', 'Fiji',\n",
              "       'Marshall Islands', 'Sao Tome and Principe', 'Iraq',\n",
              "       'Micronesia (Federated States of)', 'Palau', 'Brazil', 'Congo',\n",
              "       'Egypt', 'Lesotho', 'Indonesia', 'the Republic of North Macedonia',\n",
              "       'Kazakhstan', 'Myanmar', 'South Sudan', 'Nepal',\n",
              "       'Syrian Arab Republic', 'Maldives', 'Tajikistan', 'Rwanda',\n",
              "       'Suriname', 'Comoros', 'Seychelles', 'United Republic of Tanzania',\n",
              "       'Burundi', 'Japan', 'Kenya', 'Timor-Leste', 'Peru', 'Vanuatu',\n",
              "       'Nicaragua', 'Burkina Faso', 'Armenia', 'Serbia', 'Ukraine',\n",
              "       'Solomon Islands', 'Tonga', 'Bolivia (Plurinational State of)',\n",
              "       'Ghana', 'Barbados', 'Dominica', 'Grenada', 'Martinique (France)',\n",
              "       'Saint Kitts and Nevis', 'Saint Vincent and the Grenadines',\n",
              "       'Hungary', 'Libya', \"Democratic People's Republic of Korea\",\n",
              "       'Paraguay', 'Argentina', 'Jordan', 'Lebanon', 'Angola', 'Botswana',\n",
              "       'Namibia', 'Russian Federation', 'Oman',\n",
              "       'China - Hong Kong (Special Administrative Region)',\n",
              "       'China - Taiwan Province', 'Guam',\n",
              "       'Northern Mariana Islands (The United States of America)',\n",
              "       'Guinea-Bissau', 'Uruguay', 'Belarus', 'American Samoa',\n",
              "       'New Caledonia (France)', 'Niue (New Zealand)', 'Samoa', 'Albania',\n",
              "       'Anguilla', 'Antigua and Barbuda',\n",
              "       'Bonaire, Saint Eustatius and Saba (The Netherlands)',\n",
              "       'Guadeloupe (France)', 'Montserrat', 'Saint Barthélemy (France)',\n",
              "       'Sint Maarten (The Netherlands)', 'Saint Martin (France)', 'Chile',\n",
              "       'Aruba (The Netherlands)', 'Curaçao (The Netherlands)', 'Liberia',\n",
              "       'Papua New Guinea', 'Western Sahara', 'Cook Islands', 'Greece',\n",
              "       'Morocco', 'Croatia', 'Romania', 'Austria', 'Czechia', 'Germany',\n",
              "       'Slovakia', 'Switzerland', 'Wallis and Futuna (France)', 'Moldova',\n",
              "       'Republic of Korea', 'Gabon', 'Kyrgyzstan', 'Tokelau', 'Eritrea',\n",
              "       'Australia', 'Israel', 'Montenegro', 'Saudi Arabia', 'Lithuania',\n",
              "       'Poland', 'Azerbaijan', 'Cyprus', 'Madeira (Portugal)',\n",
              "       'French Polynesia (France)', 'Italy', 'Türkiye',\n",
              "       'Netherlands Antilles (The Netherlands)', 'Canada',\n",
              "       'United Kingdom of Great Britain and Northern Ireland',\n",
              "       'Brunei Darussalam', 'New Zealand', 'Portugal', 'Uzbekistan',\n",
              "       'Turkmenistan', 'Bhutan'], dtype=object)"
            ]
          },
          "metadata": {},
          "execution_count": 6
        }
      ]
    },
    {
      "cell_type": "code",
      "source": [
        "#there is a plugin called pycountry which has country names and iso codes to help create the new numeric variable.\n",
        "!pip install pycountry\n",
        "import pycountry\n"
      ],
      "metadata": {
        "id": "87P8Qih_U3gm",
        "colab": {
          "base_uri": "https://localhost:8080/"
        },
        "outputId": "5ad32a6f-5294-4423-ba55-88e4cd050fb6"
      },
      "execution_count": 7,
      "outputs": [
        {
          "output_type": "stream",
          "name": "stdout",
          "text": [
            "Looking in indexes: https://pypi.org/simple, https://us-python.pkg.dev/colab-wheels/public/simple/\n",
            "Collecting pycountry\n",
            "  Downloading pycountry-22.3.5.tar.gz (10.1 MB)\n",
            "\u001b[2K     \u001b[90m━━━━━━━━━━━━━━━━━━━━━━━━━━━━━━━━━━━━━━━━\u001b[0m \u001b[32m10.1/10.1 MB\u001b[0m \u001b[31m52.4 MB/s\u001b[0m eta \u001b[36m0:00:00\u001b[0m\n",
            "\u001b[?25h  Installing build dependencies ... \u001b[?25l\u001b[?25hdone\n",
            "  Getting requirements to build wheel ... \u001b[?25l\u001b[?25hdone\n",
            "  Preparing metadata (pyproject.toml) ... \u001b[?25l\u001b[?25hdone\n",
            "Requirement already satisfied: setuptools in /usr/local/lib/python3.8/dist-packages (from pycountry) (57.4.0)\n",
            "Building wheels for collected packages: pycountry\n",
            "  Building wheel for pycountry (pyproject.toml) ... \u001b[?25l\u001b[?25hdone\n",
            "  Created wheel for pycountry: filename=pycountry-22.3.5-py2.py3-none-any.whl size=10681845 sha256=d74440e39e8a61d0f8c6cfcfe6d737bbdcf09515f26eace9fb68b536efc13eb9\n",
            "  Stored in directory: /root/.cache/pip/wheels/e2/aa/0f/c224e473b464387170b83ca7c66947b4a7e33e8d903a679748\n",
            "Successfully built pycountry\n",
            "Installing collected packages: pycountry\n",
            "Successfully installed pycountry-22.3.5\n"
          ]
        }
      ]
    },
    {
      "cell_type": "code",
      "source": [
        "#list of countries whose names needed to be changed for the merge, code generated in excel using string functions.\n",
        "df['Country'] = df['Country'].replace([\"Lao People's Democratic Republic (the)\"], \"Lao People's Democratic Republic\")\n",
        "df['Country'] = df['Country'].replace([\"Iran (Islamic Republic of)\"], \"Iran, Islamic Republic of\")\n",
        "df['Country'] = df['Country'].replace([\"Bolivia (Plurinational State of)\"], \"Bolivia, Plurinational State of\")\n",
        "df['Country'] = df['Country'].replace([\"Democratic Republic of the Congo\"], \"Congo, The Democratic Republic of the\")\n",
        "df['Country'] = df['Country'].replace([\"China - Hong Kong (Special Administrative Region)\"], \"Hong Kong\")\n",
        "df['Country'] = df['Country'].replace([\"China - Taiwan Province\"], \"Taiwan, Province of China\")\n",
        "df['Country'] = df['Country'].replace([\"Northern Mariana Islands (The United States of America)\"], \"Northern Mariana Islands\")\n",
        "df['Country'] = df['Country'].replace([\"New Caledonia (France)\"], \"New Caledonia\")\n",
        "df['Country'] = df['Country'].replace([\"Niue (New Zealand)\"], \"Niue\")\n",
        "df['Country'] = df['Country'].replace([\"Réunion (France)\"], \"Réunion\")\n",
        "df['Country'] = df['Country'].replace([\"occupied Palestinian territory\"], \"Palestine, State of\")\n",
        "df['Country'] = df['Country'].replace([\"Micronesia (Federated States of)\"], \"Micronesia\")\n",
        "df['Country'] = df['Country'].replace([\"Venezuela (Bolivarian Republic of)\"], \"Venezuela, Bolivarian Republic of\")\n",
        "df['Country'] = df['Country'].replace([\"the Republic of North Macedonia\"], \"North Macedonia\")\n",
        "df['Country'] = df['Country'].replace([\"United States Virgin Islands\"], \"Virgin Islands, U.S.\")\n",
        "df['Country'] = df['Country'].replace([\"Bonaire, Saint Eustatius and Saba (The Netherlands)\"], \"Bonaire, Sint Eustatius and Saba\")\n",
        "df['Country'] = df['Country'].replace([\"Guadeloupe (France)\"], \"Guadeloupe\")\n",
        "df['Country'] = df['Country'].replace([\"Martinique (France)\"], \"Martinique\")\n",
        "df['Country'] = df['Country'].replace([\"Puerto Rico (The United States of America)\"], \"Puerto Rico\")\n",
        "df['Country'] = df['Country'].replace([\"Saint Barthélemy (France)\"], \"Saint Barthélemy\")\n",
        "df['Country'] = df['Country'].replace([\"Sint Maarten (The Netherlands)\"], \"Sint Maarten (Dutch part)\")\n",
        "df['Country'] = df['Country'].replace([\"Saint Martin (France)\"], \"Saint Martin (French part)\")\n",
        "df['Country'] = df['Country'].replace([\"Aruba (The Netherlands)\"], \"Aruba\")\n",
        "df['Country'] = df['Country'].replace([\"Curaçao (The Netherlands)\"], \"Curaçao\")\n",
        "df['Country'] = df['Country'].replace([\"Wallis and Futuna (France)\"], \"Wallis and Futuna\")\n",
        "df['Country'] = df['Country'].replace([\"Türkiye\"], \"Turkey\")\n",
        "df['Country'] = df['Country'].replace([\"Madeira (Portugal)\"], \"Portugal\")\n",
        "df['Country'] = df['Country'].replace([\"French Polynesia (France)\"], \"French Polynesia\")\n",
        "df['Country'] = df['Country'].replace([\"Netherlands Antilles (The Netherlands)\"], \"Curaçao\")\n",
        "df['Country'] = df['Country'].replace([\"Democratic People's Republic of Korea\"], \"Korea, Democratic People's Republic of\")\n",
        "df['Country'] = df['Country'].replace([\"Republic of Korea\"], \"Korea, Republic of\")\n",
        "df['Country'] = df['Country'].replace([\"United States of America\"], \"United States\")\n",
        "df['Country'] = df['Country'].replace([\"United Kingdom of Great Britain and Northern Ireland\"], \"United Kingdom\")\n",
        "df['Country'] = df['Country'].replace([\"United Republic of Tanzania\"], \"Tanzania, United Republic of\")\n",
        "df['Country'] = df['Country'].replace([\"Micronesia\"], \"Micronesia, Federated States of\")\n",
        "df['Country'] = df['Country'].replace([\"Moldova\"], \"Moldova, Republic of\")\n",
        "df['Country'] = df['Country'].replace([\"British Virgin Islands\"], \"Virgin Islands, British\")"
      ],
      "metadata": {
        "id": "6rCVmesUrXQn"
      },
      "execution_count": 8,
      "outputs": []
    },
    {
      "cell_type": "code",
      "source": [
        "\n",
        "#\n",
        "#Trying to match countries based on current country name, doesn't match all and instead says 'not founded'.\n",
        "#Needed to rename a set of countries so they can be properly matched with their numeric codes.\n",
        "\n",
        "\n",
        "def findCountry (country_name):\n",
        "    try:\n",
        "        return pycountry.countries.get(name=country_name).numeric\n",
        "    except:\n",
        "        return (\"not founded\")\n",
        "df['country_numeric'] = df.apply(lambda row: findCountry(row.Country) , axis = 1)"
      ],
      "metadata": {
        "id": "1k4AjOTuqwln"
      },
      "execution_count": 9,
      "outputs": []
    },
    {
      "cell_type": "code",
      "source": [
        "#then i can see how countries are called in pycountry using this.\n",
        "#interestingly, Madeira are called a country in my dataset, but in pycountry don't have an individual entry.\n",
        "pycountry.countries.lookup(\"092\")"
      ],
      "metadata": {
        "colab": {
          "base_uri": "https://localhost:8080/"
        },
        "id": "iYHkHKllgN-g",
        "outputId": "57548173-12f6-4ac5-b689-e361f70fb32b"
      },
      "execution_count": 10,
      "outputs": [
        {
          "output_type": "execute_result",
          "data": {
            "text/plain": [
              "Country(alpha_2='VG', alpha_3='VGB', flag='🇻🇬', name='Virgin Islands, British', numeric='092', official_name='British Virgin Islands')"
            ]
          },
          "metadata": {},
          "execution_count": 10
        }
      ]
    },
    {
      "cell_type": "code",
      "source": [
        "#alternative matching method which uses 'fuzzy matching' instead of exact matching.\n",
        "#returns more matches for countries, but some inaccurate e.g. matches Martinique to French iso numeric code.\n",
        "\n",
        "# def do_fuzzy_search(country):\n",
        "#     try:\n",
        "#         result = pycountry.countries.search_fuzzy(country)\n",
        "#     except Exception:\n",
        "#         return (\"not founded\")\n",
        "#     else:\n",
        "#         return result[0].numeric\n",
        "\n",
        "# iso_map = {country: do_fuzzy_search(country) for country in df[\"Country\"].unique()}\n",
        "# df[\"country_code\"] = df[\"Country\"].map(iso_map)"
      ],
      "metadata": {
        "id": "d1UoqZoJ6fqf"
      },
      "execution_count": 11,
      "outputs": []
    },
    {
      "cell_type": "code",
      "source": [
        "df"
      ],
      "metadata": {
        "id": "qkkykIPfk59D",
        "colab": {
          "base_uri": "https://localhost:8080/",
          "height": 424
        },
        "outputId": "82f05752-8198-4d62-91f1-2ade462e7e85"
      },
      "execution_count": 12,
      "outputs": [
        {
          "output_type": "execute_result",
          "data": {
            "text/plain": [
              "         ID                             Name      Date  Year  \\\n",
              "0     51427             South Africa: Floods  Dec 2022  2022   \n",
              "1     51426   Bosnia and Herzegovina: Floods  Dec 2022  2022   \n",
              "2     51426   Bosnia and Herzegovina: Floods  Dec 2022  2022   \n",
              "3     51424  Malaysia: Floods and Landslides  Dec 2022  2022   \n",
              "4     51424  Malaysia: Floods and Landslides  Dec 2022  2022   \n",
              "...     ...                              ...       ...   ...   \n",
              "4509   6028                 Paraguay: Floods  Feb 1990  1990   \n",
              "4510   5376       Cook Islands: Cyclone Peni  Feb 1990  1990   \n",
              "4511   5862              Madagascar: Cyclone  Jan 1990  1990   \n",
              "4512   6227                Sri Lanka: Floods  Jan 1990  1990   \n",
              "4513   5612                  Tunisia: Floods  Jan 1990  1990   \n",
              "\n",
              "                     Country              Type country_numeric  \n",
              "0               South Africa             Flood             710  \n",
              "1     Bosnia and Herzegovina             Flood             070  \n",
              "2     Bosnia and Herzegovina        Land Slide             070  \n",
              "3                   Malaysia             Flood             458  \n",
              "4                   Malaysia        Land Slide             458  \n",
              "...                      ...               ...             ...  \n",
              "4509                Paraguay             Flood             600  \n",
              "4510            Cook Islands  Tropical Cyclone             184  \n",
              "4511              Madagascar  Tropical Cyclone             450  \n",
              "4512               Sri Lanka             Flood             144  \n",
              "4513                 Tunisia             Flood             788  \n",
              "\n",
              "[4514 rows x 7 columns]"
            ],
            "text/html": [
              "\n",
              "  <div id=\"df-b90979a5-8729-47a3-8f79-9b6157261852\">\n",
              "    <div class=\"colab-df-container\">\n",
              "      <div>\n",
              "<style scoped>\n",
              "    .dataframe tbody tr th:only-of-type {\n",
              "        vertical-align: middle;\n",
              "    }\n",
              "\n",
              "    .dataframe tbody tr th {\n",
              "        vertical-align: top;\n",
              "    }\n",
              "\n",
              "    .dataframe thead th {\n",
              "        text-align: right;\n",
              "    }\n",
              "</style>\n",
              "<table border=\"1\" class=\"dataframe\">\n",
              "  <thead>\n",
              "    <tr style=\"text-align: right;\">\n",
              "      <th></th>\n",
              "      <th>ID</th>\n",
              "      <th>Name</th>\n",
              "      <th>Date</th>\n",
              "      <th>Year</th>\n",
              "      <th>Country</th>\n",
              "      <th>Type</th>\n",
              "      <th>country_numeric</th>\n",
              "    </tr>\n",
              "  </thead>\n",
              "  <tbody>\n",
              "    <tr>\n",
              "      <th>0</th>\n",
              "      <td>51427</td>\n",
              "      <td>South Africa: Floods</td>\n",
              "      <td>Dec 2022</td>\n",
              "      <td>2022</td>\n",
              "      <td>South Africa</td>\n",
              "      <td>Flood</td>\n",
              "      <td>710</td>\n",
              "    </tr>\n",
              "    <tr>\n",
              "      <th>1</th>\n",
              "      <td>51426</td>\n",
              "      <td>Bosnia and Herzegovina: Floods</td>\n",
              "      <td>Dec 2022</td>\n",
              "      <td>2022</td>\n",
              "      <td>Bosnia and Herzegovina</td>\n",
              "      <td>Flood</td>\n",
              "      <td>070</td>\n",
              "    </tr>\n",
              "    <tr>\n",
              "      <th>2</th>\n",
              "      <td>51426</td>\n",
              "      <td>Bosnia and Herzegovina: Floods</td>\n",
              "      <td>Dec 2022</td>\n",
              "      <td>2022</td>\n",
              "      <td>Bosnia and Herzegovina</td>\n",
              "      <td>Land Slide</td>\n",
              "      <td>070</td>\n",
              "    </tr>\n",
              "    <tr>\n",
              "      <th>3</th>\n",
              "      <td>51424</td>\n",
              "      <td>Malaysia: Floods and Landslides</td>\n",
              "      <td>Dec 2022</td>\n",
              "      <td>2022</td>\n",
              "      <td>Malaysia</td>\n",
              "      <td>Flood</td>\n",
              "      <td>458</td>\n",
              "    </tr>\n",
              "    <tr>\n",
              "      <th>4</th>\n",
              "      <td>51424</td>\n",
              "      <td>Malaysia: Floods and Landslides</td>\n",
              "      <td>Dec 2022</td>\n",
              "      <td>2022</td>\n",
              "      <td>Malaysia</td>\n",
              "      <td>Land Slide</td>\n",
              "      <td>458</td>\n",
              "    </tr>\n",
              "    <tr>\n",
              "      <th>...</th>\n",
              "      <td>...</td>\n",
              "      <td>...</td>\n",
              "      <td>...</td>\n",
              "      <td>...</td>\n",
              "      <td>...</td>\n",
              "      <td>...</td>\n",
              "      <td>...</td>\n",
              "    </tr>\n",
              "    <tr>\n",
              "      <th>4509</th>\n",
              "      <td>6028</td>\n",
              "      <td>Paraguay: Floods</td>\n",
              "      <td>Feb 1990</td>\n",
              "      <td>1990</td>\n",
              "      <td>Paraguay</td>\n",
              "      <td>Flood</td>\n",
              "      <td>600</td>\n",
              "    </tr>\n",
              "    <tr>\n",
              "      <th>4510</th>\n",
              "      <td>5376</td>\n",
              "      <td>Cook Islands: Cyclone Peni</td>\n",
              "      <td>Feb 1990</td>\n",
              "      <td>1990</td>\n",
              "      <td>Cook Islands</td>\n",
              "      <td>Tropical Cyclone</td>\n",
              "      <td>184</td>\n",
              "    </tr>\n",
              "    <tr>\n",
              "      <th>4511</th>\n",
              "      <td>5862</td>\n",
              "      <td>Madagascar: Cyclone</td>\n",
              "      <td>Jan 1990</td>\n",
              "      <td>1990</td>\n",
              "      <td>Madagascar</td>\n",
              "      <td>Tropical Cyclone</td>\n",
              "      <td>450</td>\n",
              "    </tr>\n",
              "    <tr>\n",
              "      <th>4512</th>\n",
              "      <td>6227</td>\n",
              "      <td>Sri Lanka: Floods</td>\n",
              "      <td>Jan 1990</td>\n",
              "      <td>1990</td>\n",
              "      <td>Sri Lanka</td>\n",
              "      <td>Flood</td>\n",
              "      <td>144</td>\n",
              "    </tr>\n",
              "    <tr>\n",
              "      <th>4513</th>\n",
              "      <td>5612</td>\n",
              "      <td>Tunisia: Floods</td>\n",
              "      <td>Jan 1990</td>\n",
              "      <td>1990</td>\n",
              "      <td>Tunisia</td>\n",
              "      <td>Flood</td>\n",
              "      <td>788</td>\n",
              "    </tr>\n",
              "  </tbody>\n",
              "</table>\n",
              "<p>4514 rows × 7 columns</p>\n",
              "</div>\n",
              "      <button class=\"colab-df-convert\" onclick=\"convertToInteractive('df-b90979a5-8729-47a3-8f79-9b6157261852')\"\n",
              "              title=\"Convert this dataframe to an interactive table.\"\n",
              "              style=\"display:none;\">\n",
              "        \n",
              "  <svg xmlns=\"http://www.w3.org/2000/svg\" height=\"24px\"viewBox=\"0 0 24 24\"\n",
              "       width=\"24px\">\n",
              "    <path d=\"M0 0h24v24H0V0z\" fill=\"none\"/>\n",
              "    <path d=\"M18.56 5.44l.94 2.06.94-2.06 2.06-.94-2.06-.94-.94-2.06-.94 2.06-2.06.94zm-11 1L8.5 8.5l.94-2.06 2.06-.94-2.06-.94L8.5 2.5l-.94 2.06-2.06.94zm10 10l.94 2.06.94-2.06 2.06-.94-2.06-.94-.94-2.06-.94 2.06-2.06.94z\"/><path d=\"M17.41 7.96l-1.37-1.37c-.4-.4-.92-.59-1.43-.59-.52 0-1.04.2-1.43.59L10.3 9.45l-7.72 7.72c-.78.78-.78 2.05 0 2.83L4 21.41c.39.39.9.59 1.41.59.51 0 1.02-.2 1.41-.59l7.78-7.78 2.81-2.81c.8-.78.8-2.07 0-2.86zM5.41 20L4 18.59l7.72-7.72 1.47 1.35L5.41 20z\"/>\n",
              "  </svg>\n",
              "      </button>\n",
              "      \n",
              "  <style>\n",
              "    .colab-df-container {\n",
              "      display:flex;\n",
              "      flex-wrap:wrap;\n",
              "      gap: 12px;\n",
              "    }\n",
              "\n",
              "    .colab-df-convert {\n",
              "      background-color: #E8F0FE;\n",
              "      border: none;\n",
              "      border-radius: 50%;\n",
              "      cursor: pointer;\n",
              "      display: none;\n",
              "      fill: #1967D2;\n",
              "      height: 32px;\n",
              "      padding: 0 0 0 0;\n",
              "      width: 32px;\n",
              "    }\n",
              "\n",
              "    .colab-df-convert:hover {\n",
              "      background-color: #E2EBFA;\n",
              "      box-shadow: 0px 1px 2px rgba(60, 64, 67, 0.3), 0px 1px 3px 1px rgba(60, 64, 67, 0.15);\n",
              "      fill: #174EA6;\n",
              "    }\n",
              "\n",
              "    [theme=dark] .colab-df-convert {\n",
              "      background-color: #3B4455;\n",
              "      fill: #D2E3FC;\n",
              "    }\n",
              "\n",
              "    [theme=dark] .colab-df-convert:hover {\n",
              "      background-color: #434B5C;\n",
              "      box-shadow: 0px 1px 3px 1px rgba(0, 0, 0, 0.15);\n",
              "      filter: drop-shadow(0px 1px 2px rgba(0, 0, 0, 0.3));\n",
              "      fill: #FFFFFF;\n",
              "    }\n",
              "  </style>\n",
              "\n",
              "      <script>\n",
              "        const buttonEl =\n",
              "          document.querySelector('#df-b90979a5-8729-47a3-8f79-9b6157261852 button.colab-df-convert');\n",
              "        buttonEl.style.display =\n",
              "          google.colab.kernel.accessAllowed ? 'block' : 'none';\n",
              "\n",
              "        async function convertToInteractive(key) {\n",
              "          const element = document.querySelector('#df-b90979a5-8729-47a3-8f79-9b6157261852');\n",
              "          const dataTable =\n",
              "            await google.colab.kernel.invokeFunction('convertToInteractive',\n",
              "                                                     [key], {});\n",
              "          if (!dataTable) return;\n",
              "\n",
              "          const docLinkHtml = 'Like what you see? Visit the ' +\n",
              "            '<a target=\"_blank\" href=https://colab.research.google.com/notebooks/data_table.ipynb>data table notebook</a>'\n",
              "            + ' to learn more about interactive tables.';\n",
              "          element.innerHTML = '';\n",
              "          dataTable['output_type'] = 'display_data';\n",
              "          await google.colab.output.renderOutput(dataTable, element);\n",
              "          const docLink = document.createElement('div');\n",
              "          docLink.innerHTML = docLinkHtml;\n",
              "          element.appendChild(docLink);\n",
              "        }\n",
              "      </script>\n",
              "    </div>\n",
              "  </div>\n",
              "  "
            ]
          },
          "metadata": {},
          "execution_count": 12
        }
      ]
    },
    {
      "cell_type": "code",
      "source": [
        "#here i create a new dataframe which shows disaster quantity by country and type per year.\n",
        "\n",
        "disaster_country_type_year = df.groupby(['Country', 'country_numeric', 'Type', 'Year'],as_index=False).count()\n",
        "disaster_country_type_year = disaster_country_type_year.rename(columns={'Name':'Count'})\n",
        "disaster_country_type_year = disaster_country_type_year.drop(columns=['ID', 'Date'], axis=1)\n",
        "disaster_country_type_year"
      ],
      "metadata": {
        "id": "tmwg6FrqND06",
        "colab": {
          "base_uri": "https://localhost:8080/",
          "height": 424
        },
        "outputId": "aa223909-b457-48e0-af22-2f5c9eced7d5"
      },
      "execution_count": 13,
      "outputs": [
        {
          "output_type": "execute_result",
          "data": {
            "text/plain": [
              "          Country country_numeric              Type  Year  Count\n",
              "0     Afghanistan             004         Cold Wave  2015      1\n",
              "1     Afghanistan             004         Cold Wave  2017      1\n",
              "2     Afghanistan             004           Drought  2000      2\n",
              "3     Afghanistan             004           Drought  2001      3\n",
              "4     Afghanistan             004           Drought  2011      1\n",
              "...           ...             ...               ...   ...    ...\n",
              "3465     Zimbabwe             716        Land Slide  2019      1\n",
              "3466     Zimbabwe             716  Tropical Cyclone  2017      1\n",
              "3467     Zimbabwe             716  Tropical Cyclone  2019      1\n",
              "3468     Zimbabwe             716  Tropical Cyclone  2021      1\n",
              "3469     Zimbabwe             716  Tropical Cyclone  2022      1\n",
              "\n",
              "[3470 rows x 5 columns]"
            ],
            "text/html": [
              "\n",
              "  <div id=\"df-1804abcc-7670-43b3-a774-21775de4da43\">\n",
              "    <div class=\"colab-df-container\">\n",
              "      <div>\n",
              "<style scoped>\n",
              "    .dataframe tbody tr th:only-of-type {\n",
              "        vertical-align: middle;\n",
              "    }\n",
              "\n",
              "    .dataframe tbody tr th {\n",
              "        vertical-align: top;\n",
              "    }\n",
              "\n",
              "    .dataframe thead th {\n",
              "        text-align: right;\n",
              "    }\n",
              "</style>\n",
              "<table border=\"1\" class=\"dataframe\">\n",
              "  <thead>\n",
              "    <tr style=\"text-align: right;\">\n",
              "      <th></th>\n",
              "      <th>Country</th>\n",
              "      <th>country_numeric</th>\n",
              "      <th>Type</th>\n",
              "      <th>Year</th>\n",
              "      <th>Count</th>\n",
              "    </tr>\n",
              "  </thead>\n",
              "  <tbody>\n",
              "    <tr>\n",
              "      <th>0</th>\n",
              "      <td>Afghanistan</td>\n",
              "      <td>004</td>\n",
              "      <td>Cold Wave</td>\n",
              "      <td>2015</td>\n",
              "      <td>1</td>\n",
              "    </tr>\n",
              "    <tr>\n",
              "      <th>1</th>\n",
              "      <td>Afghanistan</td>\n",
              "      <td>004</td>\n",
              "      <td>Cold Wave</td>\n",
              "      <td>2017</td>\n",
              "      <td>1</td>\n",
              "    </tr>\n",
              "    <tr>\n",
              "      <th>2</th>\n",
              "      <td>Afghanistan</td>\n",
              "      <td>004</td>\n",
              "      <td>Drought</td>\n",
              "      <td>2000</td>\n",
              "      <td>2</td>\n",
              "    </tr>\n",
              "    <tr>\n",
              "      <th>3</th>\n",
              "      <td>Afghanistan</td>\n",
              "      <td>004</td>\n",
              "      <td>Drought</td>\n",
              "      <td>2001</td>\n",
              "      <td>3</td>\n",
              "    </tr>\n",
              "    <tr>\n",
              "      <th>4</th>\n",
              "      <td>Afghanistan</td>\n",
              "      <td>004</td>\n",
              "      <td>Drought</td>\n",
              "      <td>2011</td>\n",
              "      <td>1</td>\n",
              "    </tr>\n",
              "    <tr>\n",
              "      <th>...</th>\n",
              "      <td>...</td>\n",
              "      <td>...</td>\n",
              "      <td>...</td>\n",
              "      <td>...</td>\n",
              "      <td>...</td>\n",
              "    </tr>\n",
              "    <tr>\n",
              "      <th>3465</th>\n",
              "      <td>Zimbabwe</td>\n",
              "      <td>716</td>\n",
              "      <td>Land Slide</td>\n",
              "      <td>2019</td>\n",
              "      <td>1</td>\n",
              "    </tr>\n",
              "    <tr>\n",
              "      <th>3466</th>\n",
              "      <td>Zimbabwe</td>\n",
              "      <td>716</td>\n",
              "      <td>Tropical Cyclone</td>\n",
              "      <td>2017</td>\n",
              "      <td>1</td>\n",
              "    </tr>\n",
              "    <tr>\n",
              "      <th>3467</th>\n",
              "      <td>Zimbabwe</td>\n",
              "      <td>716</td>\n",
              "      <td>Tropical Cyclone</td>\n",
              "      <td>2019</td>\n",
              "      <td>1</td>\n",
              "    </tr>\n",
              "    <tr>\n",
              "      <th>3468</th>\n",
              "      <td>Zimbabwe</td>\n",
              "      <td>716</td>\n",
              "      <td>Tropical Cyclone</td>\n",
              "      <td>2021</td>\n",
              "      <td>1</td>\n",
              "    </tr>\n",
              "    <tr>\n",
              "      <th>3469</th>\n",
              "      <td>Zimbabwe</td>\n",
              "      <td>716</td>\n",
              "      <td>Tropical Cyclone</td>\n",
              "      <td>2022</td>\n",
              "      <td>1</td>\n",
              "    </tr>\n",
              "  </tbody>\n",
              "</table>\n",
              "<p>3470 rows × 5 columns</p>\n",
              "</div>\n",
              "      <button class=\"colab-df-convert\" onclick=\"convertToInteractive('df-1804abcc-7670-43b3-a774-21775de4da43')\"\n",
              "              title=\"Convert this dataframe to an interactive table.\"\n",
              "              style=\"display:none;\">\n",
              "        \n",
              "  <svg xmlns=\"http://www.w3.org/2000/svg\" height=\"24px\"viewBox=\"0 0 24 24\"\n",
              "       width=\"24px\">\n",
              "    <path d=\"M0 0h24v24H0V0z\" fill=\"none\"/>\n",
              "    <path d=\"M18.56 5.44l.94 2.06.94-2.06 2.06-.94-2.06-.94-.94-2.06-.94 2.06-2.06.94zm-11 1L8.5 8.5l.94-2.06 2.06-.94-2.06-.94L8.5 2.5l-.94 2.06-2.06.94zm10 10l.94 2.06.94-2.06 2.06-.94-2.06-.94-.94-2.06-.94 2.06-2.06.94z\"/><path d=\"M17.41 7.96l-1.37-1.37c-.4-.4-.92-.59-1.43-.59-.52 0-1.04.2-1.43.59L10.3 9.45l-7.72 7.72c-.78.78-.78 2.05 0 2.83L4 21.41c.39.39.9.59 1.41.59.51 0 1.02-.2 1.41-.59l7.78-7.78 2.81-2.81c.8-.78.8-2.07 0-2.86zM5.41 20L4 18.59l7.72-7.72 1.47 1.35L5.41 20z\"/>\n",
              "  </svg>\n",
              "      </button>\n",
              "      \n",
              "  <style>\n",
              "    .colab-df-container {\n",
              "      display:flex;\n",
              "      flex-wrap:wrap;\n",
              "      gap: 12px;\n",
              "    }\n",
              "\n",
              "    .colab-df-convert {\n",
              "      background-color: #E8F0FE;\n",
              "      border: none;\n",
              "      border-radius: 50%;\n",
              "      cursor: pointer;\n",
              "      display: none;\n",
              "      fill: #1967D2;\n",
              "      height: 32px;\n",
              "      padding: 0 0 0 0;\n",
              "      width: 32px;\n",
              "    }\n",
              "\n",
              "    .colab-df-convert:hover {\n",
              "      background-color: #E2EBFA;\n",
              "      box-shadow: 0px 1px 2px rgba(60, 64, 67, 0.3), 0px 1px 3px 1px rgba(60, 64, 67, 0.15);\n",
              "      fill: #174EA6;\n",
              "    }\n",
              "\n",
              "    [theme=dark] .colab-df-convert {\n",
              "      background-color: #3B4455;\n",
              "      fill: #D2E3FC;\n",
              "    }\n",
              "\n",
              "    [theme=dark] .colab-df-convert:hover {\n",
              "      background-color: #434B5C;\n",
              "      box-shadow: 0px 1px 3px 1px rgba(0, 0, 0, 0.15);\n",
              "      filter: drop-shadow(0px 1px 2px rgba(0, 0, 0, 0.3));\n",
              "      fill: #FFFFFF;\n",
              "    }\n",
              "  </style>\n",
              "\n",
              "      <script>\n",
              "        const buttonEl =\n",
              "          document.querySelector('#df-1804abcc-7670-43b3-a774-21775de4da43 button.colab-df-convert');\n",
              "        buttonEl.style.display =\n",
              "          google.colab.kernel.accessAllowed ? 'block' : 'none';\n",
              "\n",
              "        async function convertToInteractive(key) {\n",
              "          const element = document.querySelector('#df-1804abcc-7670-43b3-a774-21775de4da43');\n",
              "          const dataTable =\n",
              "            await google.colab.kernel.invokeFunction('convertToInteractive',\n",
              "                                                     [key], {});\n",
              "          if (!dataTable) return;\n",
              "\n",
              "          const docLinkHtml = 'Like what you see? Visit the ' +\n",
              "            '<a target=\"_blank\" href=https://colab.research.google.com/notebooks/data_table.ipynb>data table notebook</a>'\n",
              "            + ' to learn more about interactive tables.';\n",
              "          element.innerHTML = '';\n",
              "          dataTable['output_type'] = 'display_data';\n",
              "          await google.colab.output.renderOutput(dataTable, element);\n",
              "          const docLink = document.createElement('div');\n",
              "          docLink.innerHTML = docLinkHtml;\n",
              "          element.appendChild(docLink);\n",
              "        }\n",
              "      </script>\n",
              "    </div>\n",
              "  </div>\n",
              "  "
            ]
          },
          "metadata": {},
          "execution_count": 13
        }
      ]
    },
    {
      "cell_type": "code",
      "source": [
        "#Drop types which I'm not considering, these were only taken by miatske from expanding arrays of disaster types:\n",
        "disaster_country_type_year.drop(disaster_country_type_year[disaster_country_type_year['Type'] == 'Land Slide'].index, inplace = True)\n",
        "disaster_country_type_year.drop(disaster_country_type_year[disaster_country_type_year['Type'] == 'Snow Avalanche'].index, inplace = True)\n",
        "disaster_country_type_year.drop(disaster_country_type_year[disaster_country_type_year['Type'] == 'Technological Disaster'].index, inplace = True)\n",
        "disaster_country_type_year.drop(disaster_country_type_year[disaster_country_type_year['Type'] == 'Other'].index, inplace = True)\n",
        "disaster_country_type_year.drop(disaster_country_type_year[disaster_country_type_year['Type'] == 'Earthquake'].index, inplace = True)\n",
        "disaster_country_type_year.drop(disaster_country_type_year[disaster_country_type_year['Type'] == 'Mud Slide'].index, inplace = True)\n"
      ],
      "metadata": {
        "id": "SzVmJe9b7cIm"
      },
      "execution_count": 14,
      "outputs": []
    },
    {
      "cell_type": "code",
      "source": [
        "disaster_country_type_year"
      ],
      "metadata": {
        "id": "BJlqsDzo9H5V",
        "colab": {
          "base_uri": "https://localhost:8080/",
          "height": 424
        },
        "outputId": "9bb876f3-0ae1-44ec-bd88-85776c67f320"
      },
      "execution_count": 15,
      "outputs": [
        {
          "output_type": "execute_result",
          "data": {
            "text/plain": [
              "          Country country_numeric              Type  Year  Count\n",
              "0     Afghanistan             004         Cold Wave  2015      1\n",
              "1     Afghanistan             004         Cold Wave  2017      1\n",
              "2     Afghanistan             004           Drought  2000      2\n",
              "3     Afghanistan             004           Drought  2001      3\n",
              "4     Afghanistan             004           Drought  2011      1\n",
              "...           ...             ...               ...   ...    ...\n",
              "3464     Zimbabwe             716             Flood  2021      1\n",
              "3466     Zimbabwe             716  Tropical Cyclone  2017      1\n",
              "3467     Zimbabwe             716  Tropical Cyclone  2019      1\n",
              "3468     Zimbabwe             716  Tropical Cyclone  2021      1\n",
              "3469     Zimbabwe             716  Tropical Cyclone  2022      1\n",
              "\n",
              "[3128 rows x 5 columns]"
            ],
            "text/html": [
              "\n",
              "  <div id=\"df-c703a329-df5e-47a3-8240-c00ac9e1f20a\">\n",
              "    <div class=\"colab-df-container\">\n",
              "      <div>\n",
              "<style scoped>\n",
              "    .dataframe tbody tr th:only-of-type {\n",
              "        vertical-align: middle;\n",
              "    }\n",
              "\n",
              "    .dataframe tbody tr th {\n",
              "        vertical-align: top;\n",
              "    }\n",
              "\n",
              "    .dataframe thead th {\n",
              "        text-align: right;\n",
              "    }\n",
              "</style>\n",
              "<table border=\"1\" class=\"dataframe\">\n",
              "  <thead>\n",
              "    <tr style=\"text-align: right;\">\n",
              "      <th></th>\n",
              "      <th>Country</th>\n",
              "      <th>country_numeric</th>\n",
              "      <th>Type</th>\n",
              "      <th>Year</th>\n",
              "      <th>Count</th>\n",
              "    </tr>\n",
              "  </thead>\n",
              "  <tbody>\n",
              "    <tr>\n",
              "      <th>0</th>\n",
              "      <td>Afghanistan</td>\n",
              "      <td>004</td>\n",
              "      <td>Cold Wave</td>\n",
              "      <td>2015</td>\n",
              "      <td>1</td>\n",
              "    </tr>\n",
              "    <tr>\n",
              "      <th>1</th>\n",
              "      <td>Afghanistan</td>\n",
              "      <td>004</td>\n",
              "      <td>Cold Wave</td>\n",
              "      <td>2017</td>\n",
              "      <td>1</td>\n",
              "    </tr>\n",
              "    <tr>\n",
              "      <th>2</th>\n",
              "      <td>Afghanistan</td>\n",
              "      <td>004</td>\n",
              "      <td>Drought</td>\n",
              "      <td>2000</td>\n",
              "      <td>2</td>\n",
              "    </tr>\n",
              "    <tr>\n",
              "      <th>3</th>\n",
              "      <td>Afghanistan</td>\n",
              "      <td>004</td>\n",
              "      <td>Drought</td>\n",
              "      <td>2001</td>\n",
              "      <td>3</td>\n",
              "    </tr>\n",
              "    <tr>\n",
              "      <th>4</th>\n",
              "      <td>Afghanistan</td>\n",
              "      <td>004</td>\n",
              "      <td>Drought</td>\n",
              "      <td>2011</td>\n",
              "      <td>1</td>\n",
              "    </tr>\n",
              "    <tr>\n",
              "      <th>...</th>\n",
              "      <td>...</td>\n",
              "      <td>...</td>\n",
              "      <td>...</td>\n",
              "      <td>...</td>\n",
              "      <td>...</td>\n",
              "    </tr>\n",
              "    <tr>\n",
              "      <th>3464</th>\n",
              "      <td>Zimbabwe</td>\n",
              "      <td>716</td>\n",
              "      <td>Flood</td>\n",
              "      <td>2021</td>\n",
              "      <td>1</td>\n",
              "    </tr>\n",
              "    <tr>\n",
              "      <th>3466</th>\n",
              "      <td>Zimbabwe</td>\n",
              "      <td>716</td>\n",
              "      <td>Tropical Cyclone</td>\n",
              "      <td>2017</td>\n",
              "      <td>1</td>\n",
              "    </tr>\n",
              "    <tr>\n",
              "      <th>3467</th>\n",
              "      <td>Zimbabwe</td>\n",
              "      <td>716</td>\n",
              "      <td>Tropical Cyclone</td>\n",
              "      <td>2019</td>\n",
              "      <td>1</td>\n",
              "    </tr>\n",
              "    <tr>\n",
              "      <th>3468</th>\n",
              "      <td>Zimbabwe</td>\n",
              "      <td>716</td>\n",
              "      <td>Tropical Cyclone</td>\n",
              "      <td>2021</td>\n",
              "      <td>1</td>\n",
              "    </tr>\n",
              "    <tr>\n",
              "      <th>3469</th>\n",
              "      <td>Zimbabwe</td>\n",
              "      <td>716</td>\n",
              "      <td>Tropical Cyclone</td>\n",
              "      <td>2022</td>\n",
              "      <td>1</td>\n",
              "    </tr>\n",
              "  </tbody>\n",
              "</table>\n",
              "<p>3128 rows × 5 columns</p>\n",
              "</div>\n",
              "      <button class=\"colab-df-convert\" onclick=\"convertToInteractive('df-c703a329-df5e-47a3-8240-c00ac9e1f20a')\"\n",
              "              title=\"Convert this dataframe to an interactive table.\"\n",
              "              style=\"display:none;\">\n",
              "        \n",
              "  <svg xmlns=\"http://www.w3.org/2000/svg\" height=\"24px\"viewBox=\"0 0 24 24\"\n",
              "       width=\"24px\">\n",
              "    <path d=\"M0 0h24v24H0V0z\" fill=\"none\"/>\n",
              "    <path d=\"M18.56 5.44l.94 2.06.94-2.06 2.06-.94-2.06-.94-.94-2.06-.94 2.06-2.06.94zm-11 1L8.5 8.5l.94-2.06 2.06-.94-2.06-.94L8.5 2.5l-.94 2.06-2.06.94zm10 10l.94 2.06.94-2.06 2.06-.94-2.06-.94-.94-2.06-.94 2.06-2.06.94z\"/><path d=\"M17.41 7.96l-1.37-1.37c-.4-.4-.92-.59-1.43-.59-.52 0-1.04.2-1.43.59L10.3 9.45l-7.72 7.72c-.78.78-.78 2.05 0 2.83L4 21.41c.39.39.9.59 1.41.59.51 0 1.02-.2 1.41-.59l7.78-7.78 2.81-2.81c.8-.78.8-2.07 0-2.86zM5.41 20L4 18.59l7.72-7.72 1.47 1.35L5.41 20z\"/>\n",
              "  </svg>\n",
              "      </button>\n",
              "      \n",
              "  <style>\n",
              "    .colab-df-container {\n",
              "      display:flex;\n",
              "      flex-wrap:wrap;\n",
              "      gap: 12px;\n",
              "    }\n",
              "\n",
              "    .colab-df-convert {\n",
              "      background-color: #E8F0FE;\n",
              "      border: none;\n",
              "      border-radius: 50%;\n",
              "      cursor: pointer;\n",
              "      display: none;\n",
              "      fill: #1967D2;\n",
              "      height: 32px;\n",
              "      padding: 0 0 0 0;\n",
              "      width: 32px;\n",
              "    }\n",
              "\n",
              "    .colab-df-convert:hover {\n",
              "      background-color: #E2EBFA;\n",
              "      box-shadow: 0px 1px 2px rgba(60, 64, 67, 0.3), 0px 1px 3px 1px rgba(60, 64, 67, 0.15);\n",
              "      fill: #174EA6;\n",
              "    }\n",
              "\n",
              "    [theme=dark] .colab-df-convert {\n",
              "      background-color: #3B4455;\n",
              "      fill: #D2E3FC;\n",
              "    }\n",
              "\n",
              "    [theme=dark] .colab-df-convert:hover {\n",
              "      background-color: #434B5C;\n",
              "      box-shadow: 0px 1px 3px 1px rgba(0, 0, 0, 0.15);\n",
              "      filter: drop-shadow(0px 1px 2px rgba(0, 0, 0, 0.3));\n",
              "      fill: #FFFFFF;\n",
              "    }\n",
              "  </style>\n",
              "\n",
              "      <script>\n",
              "        const buttonEl =\n",
              "          document.querySelector('#df-c703a329-df5e-47a3-8240-c00ac9e1f20a button.colab-df-convert');\n",
              "        buttonEl.style.display =\n",
              "          google.colab.kernel.accessAllowed ? 'block' : 'none';\n",
              "\n",
              "        async function convertToInteractive(key) {\n",
              "          const element = document.querySelector('#df-c703a329-df5e-47a3-8240-c00ac9e1f20a');\n",
              "          const dataTable =\n",
              "            await google.colab.kernel.invokeFunction('convertToInteractive',\n",
              "                                                     [key], {});\n",
              "          if (!dataTable) return;\n",
              "\n",
              "          const docLinkHtml = 'Like what you see? Visit the ' +\n",
              "            '<a target=\"_blank\" href=https://colab.research.google.com/notebooks/data_table.ipynb>data table notebook</a>'\n",
              "            + ' to learn more about interactive tables.';\n",
              "          element.innerHTML = '';\n",
              "          dataTable['output_type'] = 'display_data';\n",
              "          await google.colab.output.renderOutput(dataTable, element);\n",
              "          const docLink = document.createElement('div');\n",
              "          docLink.innerHTML = docLinkHtml;\n",
              "          element.appendChild(docLink);\n",
              "        }\n",
              "      </script>\n",
              "    </div>\n",
              "  </div>\n",
              "  "
            ]
          },
          "metadata": {},
          "execution_count": 15
        }
      ]
    },
    {
      "cell_type": "code",
      "source": [],
      "metadata": {
        "id": "JDDl01F62W2j"
      },
      "execution_count": 15,
      "outputs": []
    },
    {
      "cell_type": "code",
      "source": [
        "#define every country code within my EPI dataset (copy and pasted from df['code'].unique() line):\n",
        "all_country_code = ['004', '024', '008', '784', '032', '051', '028', '036', '040',\n",
        "       '031', '108', '056', '204', '854', '050', '100', '048', '044',\n",
        "       '070', '112', '084', '068', '076', '052', '096', '064', '072',\n",
        "       '140', '124', '756', '152', '156', '384', '120', '180', '178',\n",
        "       '170', '174', '132', '188', '192', '196', '203', '276', '262',\n",
        "       '212', '208', '214', '012', '218', '818', '232', '724', '233',\n",
        "       '231', '246', '242', '250', '583', '266', '826', '268', '288',\n",
        "       '324', '270', '624', '226', '300', '308', '320', '328', '340',\n",
        "       '191', '332', '348', '360', '356', '372', '364', '368', '352',\n",
        "       '376', '380', '388', '400', '392', '398', '404', '417', '116',\n",
        "       '296', '410', '414', '418', '422', '430', '662', '144', '426',\n",
        "       '440', '442', '428', '504', '498', '450', '462', '484', '584',\n",
        "       '807', '466', '470', '104', '499', '496', '508', '478', '480',\n",
        "       '454', '458', '516', '562', '566', '558', '528', '578', '524',\n",
        "       '554', '512', '586', '591', '604', '608', '598', '616', '620',\n",
        "       '600', '634', '642', '643', '646', '682', '729', '686', '702',\n",
        "       '090', '694', '222', '688', '678', '740', '703', '705', '752',\n",
        "       '748', '690', '148', '768', '764', '762', '795', '626', '776',\n",
        "       '780', '788', '792', '158', '834', '800', '804', '858', '840',\n",
        "       '860', '670', '862', '704', '548', '882', '710', '894', '716']"
      ],
      "metadata": {
        "id": "VI-XI86U4qjR"
      },
      "execution_count": 16,
      "outputs": []
    },
    {
      "cell_type": "code",
      "source": [
        "#Making an empty dataframe to match my data onto. Means i will have 0 rows instead of non-existent rows for 0 years.\n",
        "\n",
        "data = []\n",
        "\n",
        "for c in all_country_code:\n",
        "  for t in range(1990,2023):\n",
        "      data.append({'country_numeric':c, 'Year':t})\n"
      ],
      "metadata": {
        "id": "n4qnFbT_dIkP"
      },
      "execution_count": 17,
      "outputs": []
    },
    {
      "cell_type": "code",
      "source": [
        "#This line joins the disaster data onto our empty frame called 'data' by matching their country numeric and year.\n",
        "df_n = pd.DataFrame(data).set_index(['country_numeric', 'Year']).join(disaster_country_type_year.set_index(['country_numeric', 'Year']))\n"
      ],
      "metadata": {
        "id": "xvgUDFrjeKyk"
      },
      "execution_count": 18,
      "outputs": []
    },
    {
      "cell_type": "code",
      "source": [
        "#to not have double indexes, we want to reset the index.\n",
        "df_n = df_n.reset_index()\n",
        "df_n.head(2)"
      ],
      "metadata": {
        "colab": {
          "base_uri": "https://localhost:8080/",
          "height": 112
        },
        "id": "NXukezvKl_24",
        "outputId": "d53fe5c2-eef9-4e66-ff1e-72dcd43eae1b"
      },
      "execution_count": 19,
      "outputs": [
        {
          "output_type": "execute_result",
          "data": {
            "text/plain": [
              "  country_numeric  Year      Country   Type  Count\n",
              "0             004  1990          NaN    NaN    NaN\n",
              "1             004  1991  Afghanistan  Flood    1.0"
            ],
            "text/html": [
              "\n",
              "  <div id=\"df-da4bccfd-76a6-4599-98d6-e6d86eb694df\">\n",
              "    <div class=\"colab-df-container\">\n",
              "      <div>\n",
              "<style scoped>\n",
              "    .dataframe tbody tr th:only-of-type {\n",
              "        vertical-align: middle;\n",
              "    }\n",
              "\n",
              "    .dataframe tbody tr th {\n",
              "        vertical-align: top;\n",
              "    }\n",
              "\n",
              "    .dataframe thead th {\n",
              "        text-align: right;\n",
              "    }\n",
              "</style>\n",
              "<table border=\"1\" class=\"dataframe\">\n",
              "  <thead>\n",
              "    <tr style=\"text-align: right;\">\n",
              "      <th></th>\n",
              "      <th>country_numeric</th>\n",
              "      <th>Year</th>\n",
              "      <th>Country</th>\n",
              "      <th>Type</th>\n",
              "      <th>Count</th>\n",
              "    </tr>\n",
              "  </thead>\n",
              "  <tbody>\n",
              "    <tr>\n",
              "      <th>0</th>\n",
              "      <td>004</td>\n",
              "      <td>1990</td>\n",
              "      <td>NaN</td>\n",
              "      <td>NaN</td>\n",
              "      <td>NaN</td>\n",
              "    </tr>\n",
              "    <tr>\n",
              "      <th>1</th>\n",
              "      <td>004</td>\n",
              "      <td>1991</td>\n",
              "      <td>Afghanistan</td>\n",
              "      <td>Flood</td>\n",
              "      <td>1.0</td>\n",
              "    </tr>\n",
              "  </tbody>\n",
              "</table>\n",
              "</div>\n",
              "      <button class=\"colab-df-convert\" onclick=\"convertToInteractive('df-da4bccfd-76a6-4599-98d6-e6d86eb694df')\"\n",
              "              title=\"Convert this dataframe to an interactive table.\"\n",
              "              style=\"display:none;\">\n",
              "        \n",
              "  <svg xmlns=\"http://www.w3.org/2000/svg\" height=\"24px\"viewBox=\"0 0 24 24\"\n",
              "       width=\"24px\">\n",
              "    <path d=\"M0 0h24v24H0V0z\" fill=\"none\"/>\n",
              "    <path d=\"M18.56 5.44l.94 2.06.94-2.06 2.06-.94-2.06-.94-.94-2.06-.94 2.06-2.06.94zm-11 1L8.5 8.5l.94-2.06 2.06-.94-2.06-.94L8.5 2.5l-.94 2.06-2.06.94zm10 10l.94 2.06.94-2.06 2.06-.94-2.06-.94-.94-2.06-.94 2.06-2.06.94z\"/><path d=\"M17.41 7.96l-1.37-1.37c-.4-.4-.92-.59-1.43-.59-.52 0-1.04.2-1.43.59L10.3 9.45l-7.72 7.72c-.78.78-.78 2.05 0 2.83L4 21.41c.39.39.9.59 1.41.59.51 0 1.02-.2 1.41-.59l7.78-7.78 2.81-2.81c.8-.78.8-2.07 0-2.86zM5.41 20L4 18.59l7.72-7.72 1.47 1.35L5.41 20z\"/>\n",
              "  </svg>\n",
              "      </button>\n",
              "      \n",
              "  <style>\n",
              "    .colab-df-container {\n",
              "      display:flex;\n",
              "      flex-wrap:wrap;\n",
              "      gap: 12px;\n",
              "    }\n",
              "\n",
              "    .colab-df-convert {\n",
              "      background-color: #E8F0FE;\n",
              "      border: none;\n",
              "      border-radius: 50%;\n",
              "      cursor: pointer;\n",
              "      display: none;\n",
              "      fill: #1967D2;\n",
              "      height: 32px;\n",
              "      padding: 0 0 0 0;\n",
              "      width: 32px;\n",
              "    }\n",
              "\n",
              "    .colab-df-convert:hover {\n",
              "      background-color: #E2EBFA;\n",
              "      box-shadow: 0px 1px 2px rgba(60, 64, 67, 0.3), 0px 1px 3px 1px rgba(60, 64, 67, 0.15);\n",
              "      fill: #174EA6;\n",
              "    }\n",
              "\n",
              "    [theme=dark] .colab-df-convert {\n",
              "      background-color: #3B4455;\n",
              "      fill: #D2E3FC;\n",
              "    }\n",
              "\n",
              "    [theme=dark] .colab-df-convert:hover {\n",
              "      background-color: #434B5C;\n",
              "      box-shadow: 0px 1px 3px 1px rgba(0, 0, 0, 0.15);\n",
              "      filter: drop-shadow(0px 1px 2px rgba(0, 0, 0, 0.3));\n",
              "      fill: #FFFFFF;\n",
              "    }\n",
              "  </style>\n",
              "\n",
              "      <script>\n",
              "        const buttonEl =\n",
              "          document.querySelector('#df-da4bccfd-76a6-4599-98d6-e6d86eb694df button.colab-df-convert');\n",
              "        buttonEl.style.display =\n",
              "          google.colab.kernel.accessAllowed ? 'block' : 'none';\n",
              "\n",
              "        async function convertToInteractive(key) {\n",
              "          const element = document.querySelector('#df-da4bccfd-76a6-4599-98d6-e6d86eb694df');\n",
              "          const dataTable =\n",
              "            await google.colab.kernel.invokeFunction('convertToInteractive',\n",
              "                                                     [key], {});\n",
              "          if (!dataTable) return;\n",
              "\n",
              "          const docLinkHtml = 'Like what you see? Visit the ' +\n",
              "            '<a target=\"_blank\" href=https://colab.research.google.com/notebooks/data_table.ipynb>data table notebook</a>'\n",
              "            + ' to learn more about interactive tables.';\n",
              "          element.innerHTML = '';\n",
              "          dataTable['output_type'] = 'display_data';\n",
              "          await google.colab.output.renderOutput(dataTable, element);\n",
              "          const docLink = document.createElement('div');\n",
              "          docLink.innerHTML = docLinkHtml;\n",
              "          element.appendChild(docLink);\n",
              "        }\n",
              "      </script>\n",
              "    </div>\n",
              "  </div>\n",
              "  "
            ]
          },
          "metadata": {},
          "execution_count": 19
        }
      ]
    },
    {
      "cell_type": "code",
      "source": [
        "#Now we have missing country names, but the country codes are present. We can do a similar function to above to\n",
        "#get all country names to show up using their country numeric.\n",
        "#Needed to add the str() function since pycountry stores the numeric codes as string rather than float.\n",
        "\n",
        "def findName(country_numeric):\n",
        "    try:\n",
        "        return pycountry.countries.get(numeric=str(country_numeric)).name\n",
        "    except:\n",
        "        return (\"not founded\")\n",
        "df_n['country_name'] = df_n.apply(lambda row: findName(row.country_numeric) , axis = 1)\n"
      ],
      "metadata": {
        "id": "f5WJ7gt05-Sg"
      },
      "execution_count": 20,
      "outputs": []
    },
    {
      "cell_type": "code",
      "source": [
        "#can now drop the old country name variable, and replace missing count rows with 0s.\n",
        "df_n2 = df_n.drop('Country', axis=1)\n",
        "df_n2['Count'] = df_n2['Count'].fillna(0)"
      ],
      "metadata": {
        "id": "n6ICfs8Q-ogL"
      },
      "execution_count": 21,
      "outputs": []
    },
    {
      "cell_type": "code",
      "source": [
        "df_n2"
      ],
      "metadata": {
        "colab": {
          "base_uri": "https://localhost:8080/",
          "height": 424
        },
        "id": "4Nw4hbclD7UF",
        "outputId": "ab16ea8a-323d-4fde-bf00-72b2e424ec95"
      },
      "execution_count": 22,
      "outputs": [
        {
          "output_type": "execute_result",
          "data": {
            "text/plain": [
              "     country_numeric  Year         Type  Count country_name\n",
              "0                004  1990          NaN    0.0  Afghanistan\n",
              "1                004  1991        Flood    1.0  Afghanistan\n",
              "2                004  1992  Flash Flood    1.0  Afghanistan\n",
              "3                004  1993          NaN    0.0  Afghanistan\n",
              "4                004  1994          NaN    0.0  Afghanistan\n",
              "...              ...   ...          ...    ...          ...\n",
              "6837             894  2019          NaN    0.0       Zambia\n",
              "6838             894  2020  Flash Flood    1.0       Zambia\n",
              "6839             894  2020        Flood    1.0       Zambia\n",
              "6840             894  2021          NaN    0.0       Zambia\n",
              "6841             894  2022  Flash Flood    1.0       Zambia\n",
              "\n",
              "[6842 rows x 5 columns]"
            ],
            "text/html": [
              "\n",
              "  <div id=\"df-a68b18fc-6554-4579-872a-c931d8493bcc\">\n",
              "    <div class=\"colab-df-container\">\n",
              "      <div>\n",
              "<style scoped>\n",
              "    .dataframe tbody tr th:only-of-type {\n",
              "        vertical-align: middle;\n",
              "    }\n",
              "\n",
              "    .dataframe tbody tr th {\n",
              "        vertical-align: top;\n",
              "    }\n",
              "\n",
              "    .dataframe thead th {\n",
              "        text-align: right;\n",
              "    }\n",
              "</style>\n",
              "<table border=\"1\" class=\"dataframe\">\n",
              "  <thead>\n",
              "    <tr style=\"text-align: right;\">\n",
              "      <th></th>\n",
              "      <th>country_numeric</th>\n",
              "      <th>Year</th>\n",
              "      <th>Type</th>\n",
              "      <th>Count</th>\n",
              "      <th>country_name</th>\n",
              "    </tr>\n",
              "  </thead>\n",
              "  <tbody>\n",
              "    <tr>\n",
              "      <th>0</th>\n",
              "      <td>004</td>\n",
              "      <td>1990</td>\n",
              "      <td>NaN</td>\n",
              "      <td>0.0</td>\n",
              "      <td>Afghanistan</td>\n",
              "    </tr>\n",
              "    <tr>\n",
              "      <th>1</th>\n",
              "      <td>004</td>\n",
              "      <td>1991</td>\n",
              "      <td>Flood</td>\n",
              "      <td>1.0</td>\n",
              "      <td>Afghanistan</td>\n",
              "    </tr>\n",
              "    <tr>\n",
              "      <th>2</th>\n",
              "      <td>004</td>\n",
              "      <td>1992</td>\n",
              "      <td>Flash Flood</td>\n",
              "      <td>1.0</td>\n",
              "      <td>Afghanistan</td>\n",
              "    </tr>\n",
              "    <tr>\n",
              "      <th>3</th>\n",
              "      <td>004</td>\n",
              "      <td>1993</td>\n",
              "      <td>NaN</td>\n",
              "      <td>0.0</td>\n",
              "      <td>Afghanistan</td>\n",
              "    </tr>\n",
              "    <tr>\n",
              "      <th>4</th>\n",
              "      <td>004</td>\n",
              "      <td>1994</td>\n",
              "      <td>NaN</td>\n",
              "      <td>0.0</td>\n",
              "      <td>Afghanistan</td>\n",
              "    </tr>\n",
              "    <tr>\n",
              "      <th>...</th>\n",
              "      <td>...</td>\n",
              "      <td>...</td>\n",
              "      <td>...</td>\n",
              "      <td>...</td>\n",
              "      <td>...</td>\n",
              "    </tr>\n",
              "    <tr>\n",
              "      <th>6837</th>\n",
              "      <td>894</td>\n",
              "      <td>2019</td>\n",
              "      <td>NaN</td>\n",
              "      <td>0.0</td>\n",
              "      <td>Zambia</td>\n",
              "    </tr>\n",
              "    <tr>\n",
              "      <th>6838</th>\n",
              "      <td>894</td>\n",
              "      <td>2020</td>\n",
              "      <td>Flash Flood</td>\n",
              "      <td>1.0</td>\n",
              "      <td>Zambia</td>\n",
              "    </tr>\n",
              "    <tr>\n",
              "      <th>6839</th>\n",
              "      <td>894</td>\n",
              "      <td>2020</td>\n",
              "      <td>Flood</td>\n",
              "      <td>1.0</td>\n",
              "      <td>Zambia</td>\n",
              "    </tr>\n",
              "    <tr>\n",
              "      <th>6840</th>\n",
              "      <td>894</td>\n",
              "      <td>2021</td>\n",
              "      <td>NaN</td>\n",
              "      <td>0.0</td>\n",
              "      <td>Zambia</td>\n",
              "    </tr>\n",
              "    <tr>\n",
              "      <th>6841</th>\n",
              "      <td>894</td>\n",
              "      <td>2022</td>\n",
              "      <td>Flash Flood</td>\n",
              "      <td>1.0</td>\n",
              "      <td>Zambia</td>\n",
              "    </tr>\n",
              "  </tbody>\n",
              "</table>\n",
              "<p>6842 rows × 5 columns</p>\n",
              "</div>\n",
              "      <button class=\"colab-df-convert\" onclick=\"convertToInteractive('df-a68b18fc-6554-4579-872a-c931d8493bcc')\"\n",
              "              title=\"Convert this dataframe to an interactive table.\"\n",
              "              style=\"display:none;\">\n",
              "        \n",
              "  <svg xmlns=\"http://www.w3.org/2000/svg\" height=\"24px\"viewBox=\"0 0 24 24\"\n",
              "       width=\"24px\">\n",
              "    <path d=\"M0 0h24v24H0V0z\" fill=\"none\"/>\n",
              "    <path d=\"M18.56 5.44l.94 2.06.94-2.06 2.06-.94-2.06-.94-.94-2.06-.94 2.06-2.06.94zm-11 1L8.5 8.5l.94-2.06 2.06-.94-2.06-.94L8.5 2.5l-.94 2.06-2.06.94zm10 10l.94 2.06.94-2.06 2.06-.94-2.06-.94-.94-2.06-.94 2.06-2.06.94z\"/><path d=\"M17.41 7.96l-1.37-1.37c-.4-.4-.92-.59-1.43-.59-.52 0-1.04.2-1.43.59L10.3 9.45l-7.72 7.72c-.78.78-.78 2.05 0 2.83L4 21.41c.39.39.9.59 1.41.59.51 0 1.02-.2 1.41-.59l7.78-7.78 2.81-2.81c.8-.78.8-2.07 0-2.86zM5.41 20L4 18.59l7.72-7.72 1.47 1.35L5.41 20z\"/>\n",
              "  </svg>\n",
              "      </button>\n",
              "      \n",
              "  <style>\n",
              "    .colab-df-container {\n",
              "      display:flex;\n",
              "      flex-wrap:wrap;\n",
              "      gap: 12px;\n",
              "    }\n",
              "\n",
              "    .colab-df-convert {\n",
              "      background-color: #E8F0FE;\n",
              "      border: none;\n",
              "      border-radius: 50%;\n",
              "      cursor: pointer;\n",
              "      display: none;\n",
              "      fill: #1967D2;\n",
              "      height: 32px;\n",
              "      padding: 0 0 0 0;\n",
              "      width: 32px;\n",
              "    }\n",
              "\n",
              "    .colab-df-convert:hover {\n",
              "      background-color: #E2EBFA;\n",
              "      box-shadow: 0px 1px 2px rgba(60, 64, 67, 0.3), 0px 1px 3px 1px rgba(60, 64, 67, 0.15);\n",
              "      fill: #174EA6;\n",
              "    }\n",
              "\n",
              "    [theme=dark] .colab-df-convert {\n",
              "      background-color: #3B4455;\n",
              "      fill: #D2E3FC;\n",
              "    }\n",
              "\n",
              "    [theme=dark] .colab-df-convert:hover {\n",
              "      background-color: #434B5C;\n",
              "      box-shadow: 0px 1px 3px 1px rgba(0, 0, 0, 0.15);\n",
              "      filter: drop-shadow(0px 1px 2px rgba(0, 0, 0, 0.3));\n",
              "      fill: #FFFFFF;\n",
              "    }\n",
              "  </style>\n",
              "\n",
              "      <script>\n",
              "        const buttonEl =\n",
              "          document.querySelector('#df-a68b18fc-6554-4579-872a-c931d8493bcc button.colab-df-convert');\n",
              "        buttonEl.style.display =\n",
              "          google.colab.kernel.accessAllowed ? 'block' : 'none';\n",
              "\n",
              "        async function convertToInteractive(key) {\n",
              "          const element = document.querySelector('#df-a68b18fc-6554-4579-872a-c931d8493bcc');\n",
              "          const dataTable =\n",
              "            await google.colab.kernel.invokeFunction('convertToInteractive',\n",
              "                                                     [key], {});\n",
              "          if (!dataTable) return;\n",
              "\n",
              "          const docLinkHtml = 'Like what you see? Visit the ' +\n",
              "            '<a target=\"_blank\" href=https://colab.research.google.com/notebooks/data_table.ipynb>data table notebook</a>'\n",
              "            + ' to learn more about interactive tables.';\n",
              "          element.innerHTML = '';\n",
              "          dataTable['output_type'] = 'display_data';\n",
              "          await google.colab.output.renderOutput(dataTable, element);\n",
              "          const docLink = document.createElement('div');\n",
              "          docLink.innerHTML = docLinkHtml;\n",
              "          element.appendChild(docLink);\n",
              "        }\n",
              "      </script>\n",
              "    </div>\n",
              "  </div>\n",
              "  "
            ]
          },
          "metadata": {},
          "execution_count": 22
        }
      ]
    },
    {
      "cell_type": "markdown",
      "source": [
        "## For the year slider map"
      ],
      "metadata": {
        "id": "eqaPRNXBrfJt"
      }
    },
    {
      "cell_type": "code",
      "source": [
        "#For map(year_slider) we want the data to be by country and year. So here we count across types:\n",
        "\n",
        "disaster_country_year = df_n2.groupby(['country_name', 'country_numeric', 'Year'],as_index=False).sum('Count')\n",
        "disaster_country_year = disaster_country_year.drop('index', axis=1)\n",
        "disaster_country_year"
      ],
      "metadata": {
        "id": "JzoPdVMMFgDw"
      },
      "execution_count": null,
      "outputs": []
    },
    {
      "cell_type": "code",
      "source": [
        "#Exporting our Year Slider data:\n",
        "import json\n",
        "exported_values = list(disaster_country_year.T.to_dict().values())\n",
        "#then take this list and write it as a json file.\n",
        "open('disaster_country_year.json', 'w').write(json.dumps(exported_values))"
      ],
      "metadata": {
        "colab": {
          "base_uri": "https://localhost:8080/"
        },
        "id": "K6PtwSnQEtVI",
        "outputId": "ca6e9be9-7553-4480-9af3-cba775af08f5"
      },
      "execution_count": null,
      "outputs": [
        {
          "output_type": "execute_result",
          "data": {
            "text/plain": [
              "508707"
            ]
          },
          "metadata": {},
          "execution_count": 183
        }
      ]
    },
    {
      "cell_type": "code",
      "source": [],
      "metadata": {
        "id": "Wzn1dDs1EtPx"
      },
      "execution_count": null,
      "outputs": []
    },
    {
      "cell_type": "code",
      "source": [],
      "metadata": {
        "id": "AcK5PQXWEtJI"
      },
      "execution_count": null,
      "outputs": []
    },
    {
      "cell_type": "markdown",
      "source": [
        "## For Trellis of Distributions"
      ],
      "metadata": {
        "id": "IVXxT_0LnDt3"
      }
    },
    {
      "cell_type": "code",
      "source": [
        "#New df where we have no '0' observations, all types are properly assigned.\n",
        "df_type = df_n2[df_n2['Type'].notna()]"
      ],
      "metadata": {
        "id": "MPevmPyYdmMN"
      },
      "execution_count": 73,
      "outputs": []
    },
    {
      "cell_type": "code",
      "source": [
        "#For the Trellis Distribution, we want the data by country and disaster type\n",
        "#We want to group some disasters together, i.e. tropical and extratropical cyclone\n",
        "df_type.loc[df_type['Type'] == \"Flash Flood\", 'Type'] = \"Flood\"\n",
        "df_type.loc[df_type['Type'] == \"Storm Surge\", 'Type'] = \"Tropical Cyclone\"\n",
        "df_type.loc[df_type['Type'] == \"Extratropical Cyclone\", 'Type'] = \"Tropical Cyclone\"\n",
        "df_type.loc[df_type['Type'] == \"Wild Fire\", 'Type'] = \"Fire\"\n",
        "df_type.loc[df_type['Type'] == \"Cold Wave\", 'Type'] = \"Cold/Heat Wave\"\n",
        "df_type.loc[df_type['Type'] == \"Heat Wave\", 'Type'] = \"Cold/Heat Wave\"\n",
        "\n",
        "\n",
        "df_type['Type'].unique()"
      ],
      "metadata": {
        "id": "JgMQ0kBwEs_n"
      },
      "execution_count": null,
      "outputs": []
    },
    {
      "cell_type": "code",
      "source": [
        "#aggregating by country and type of disaster.\n",
        "disaster_country_type = df_type.groupby(['country_name', 'country_numeric', 'Type'],as_index=False).sum('Count')\n",
        "disaster_country_type = disaster_country_type.drop('Year', axis=1)\n"
      ],
      "metadata": {
        "id": "HJBJvMRYrinY"
      },
      "execution_count": 79,
      "outputs": []
    },
    {
      "cell_type": "code",
      "source": [
        "disaster_country_type"
      ],
      "metadata": {
        "id": "0iJV9aJYr72r"
      },
      "execution_count": null,
      "outputs": []
    },
    {
      "cell_type": "code",
      "source": [
        "#Erasing 2 outlier observations so that the graph is readable.\n",
        "disaster_country_type.drop(disaster_country_type[disaster_country_type.Count > 62].index, inplace=True)\n"
      ],
      "metadata": {
        "id": "KsHhUGfErvjG"
      },
      "execution_count": 80,
      "outputs": []
    },
    {
      "cell_type": "code",
      "source": [
        "#Exporting our Trellis Distribution data:\n",
        "import json\n",
        "exported_values = list(disaster_country_type.T.to_dict().values())\n",
        "#then take this list and write it as a json file.\n",
        "open('disaster_country_type(1).json', 'w').write(json.dumps(exported_values))"
      ],
      "metadata": {
        "colab": {
          "base_uri": "https://localhost:8080/"
        },
        "id": "Q4TnKf7LrJ2f",
        "outputId": "4e0a4b66-3b27-4f24-d265-133848795ffc"
      },
      "execution_count": 82,
      "outputs": [
        {
          "output_type": "execute_result",
          "data": {
            "text/plain": [
              "40990"
            ]
          },
          "metadata": {},
          "execution_count": 82
        }
      ]
    },
    {
      "cell_type": "markdown",
      "source": [
        "## For line chart"
      ],
      "metadata": {
        "id": "G8_x5oHJmxFB"
      }
    },
    {
      "cell_type": "code",
      "source": [
        "##Creating just the sum of disasters by year to create a line chart\n",
        "disaster_year = df_n2.groupby(['Year'],as_index=False).sum('Count')\n",
        "\n",
        "disaster_year['Count'] = disaster_year['Count'].rolling(1).mean()\n",
        "dissaster_year= disaster_year.rename(columns = {\"Count\":\"Count_annual\"}, inplace = True)\n",
        "disaster_year = disaster_year.fillna(\"\")\n",
        "disaster_year\n",
        "\n",
        "\n"
      ],
      "metadata": {
        "id": "teVgij8j6vHh"
      },
      "execution_count": null,
      "outputs": []
    },
    {
      "cell_type": "code",
      "source": [
        "#Summing over the years gives large variation year-on-year, so these plots are used to choose the degree of MA(x) for the data.\n",
        "import matplotlib.pyplot as plt\n",
        "\n",
        "plt.plot(disaster_year['Year'], disaster_year['Count_annual'])\n",
        "plt.show()"
      ],
      "metadata": {
        "colab": {
          "base_uri": "https://localhost:8080/",
          "height": 265
        },
        "id": "ExHhdFhzKsTI",
        "outputId": "d00c30a2-dc8e-4396-c3fc-be571a3b08c7"
      },
      "execution_count": null,
      "outputs": [
        {
          "output_type": "display_data",
          "data": {
            "text/plain": [
              "<Figure size 432x288 with 1 Axes>"
            ],
            "image/png": "[encoded data removed]"
          },
          "metadata": {
            "needs_background": "light"
          }
        }
      ]
    },
    {
      "cell_type": "code",
      "source": [
        "import json\n",
        "exported_values = list(disaster_year.T.to_dict().values())\n",
        "#then take this list and write it as a json file.\n",
        "open('disaster_year.json', 'w').write(json.dumps(exported_values))"
      ],
      "metadata": {
        "colab": {
          "base_uri": "https://localhost:8080/"
        },
        "id": "IJPPzxkS-Dwr",
        "outputId": "9bbbd6db-3d66-4bc3-d6d2-a9087b62398b"
      },
      "execution_count": null,
      "outputs": [
        {
          "output_type": "execute_result",
          "data": {
            "text/plain": [
              "1338"
            ]
          },
          "metadata": {},
          "execution_count": 52
        }
      ]
    },
    {
      "cell_type": "markdown",
      "source": [],
      "metadata": {
        "id": "JO-r-H11msRH"
      }
    },
    {
      "cell_type": "markdown",
      "source": [
        "## Adding in clustering results"
      ],
      "metadata": {
        "id": "HkNlgTY-lF_7"
      }
    },
    {
      "cell_type": "code",
      "source": [
        "import pandas as pd\n",
        "import numpy as np\n",
        "import requests\n"
      ],
      "metadata": {
        "id": "scu9WH8tlFX5"
      },
      "execution_count": null,
      "outputs": []
    },
    {
      "cell_type": "code",
      "source": [
        "df_cluster = pd.read_json('https://raw.githubusercontent.com/finntrinci/finntrinci.github.io/main/data/EPI2022_clustered(c_6).json')"
      ],
      "metadata": {
        "id": "PzEzeYvXloHP"
      },
      "execution_count": 16,
      "outputs": []
    },
    {
      "cell_type": "code",
      "source": [
        "#Creatinga 'helper' for country clustering. Gives the country (name, code, iso) and its respective clustering, indexed by country (to not have repeats).\n",
        "\n",
        "cluster_helper = df_cluster[['country', 'code', 'iso', 'cluster']].drop_duplicates().set_index('country')\n",
        "cluster_helper.dtypes"
      ],
      "metadata": {
        "colab": {
          "base_uri": "https://localhost:8080/"
        },
        "id": "G1MZGofTlhwz",
        "outputId": "b3de9b11-1674-45ec-a836-452362aef971"
      },
      "execution_count": 17,
      "outputs": [
        {
          "output_type": "execute_result",
          "data": {
            "text/plain": [
              "code        int64\n",
              "iso        object\n",
              "cluster     int64\n",
              "dtype: object"
            ]
          },
          "metadata": {},
          "execution_count": 17
        }
      ]
    },
    {
      "cell_type": "code",
      "source": [
        "#need country_numeric as int64 to merge properly\n",
        "df_n2['country_numeric'] = df_n2['country_numeric'].astype(int)\n",
        "df_merge = df_n2.rename(columns ={'country_numeric':'code'})"
      ],
      "metadata": {
        "id": "AeLwagKesbCC"
      },
      "execution_count": 18,
      "outputs": []
    },
    {
      "cell_type": "code",
      "source": [
        "df_merge.dtypes"
      ],
      "metadata": {
        "id": "QQgno5oYsOuX"
      },
      "execution_count": null,
      "outputs": []
    },
    {
      "cell_type": "code",
      "source": [
        "#Need to run above code to get df_n2\n",
        "df_dis_cluster = pd.merge(df_merge, cluster_helper, on = 'code', how='left')"
      ],
      "metadata": {
        "id": "OUCcyE3Xo68j"
      },
      "execution_count": 19,
      "outputs": []
    },
    {
      "cell_type": "code",
      "source": [
        "#reformat country codes as 3 digits\n",
        "df_dis_cluster['code'] = df_dis_cluster['code'].astype(str).str.zfill(3)\n"
      ],
      "metadata": {
        "id": "GTGXMTfar6hB"
      },
      "execution_count": 20,
      "outputs": []
    },
    {
      "cell_type": "code",
      "source": [
        "#exporting\n",
        "import json\n",
        "exported_values = list(df_dis_cluster.T.to_dict().values())\n",
        "#then take this list and write it as a json file.\n",
        "open('dis_cluster_type.json', 'w').write(json.dumps(exported_values))"
      ],
      "metadata": {
        "colab": {
          "base_uri": "https://localhost:8080/"
        },
        "id": "RVK5qg0ctSGw",
        "outputId": "b28f6089-67b7-4352-a451-cfcc27162dc0"
      },
      "execution_count": null,
      "outputs": [
        {
          "output_type": "execute_result",
          "data": {
            "text/plain": [
              "814846"
            ]
          },
          "metadata": {},
          "execution_count": 35
        }
      ]
    },
    {
      "cell_type": "code",
      "source": [
        "#since we have a lot of rows with 0 counts, we should drop all observations with NaN type since these were all\n",
        "#generated earlier. \n",
        "\n",
        "df_dis_cluster2 = df_dis_cluster[df_dis_cluster['Type'].notna()]\n",
        "\n",
        "#this data will be presented on aggregates, so the type of disaster is not important, just the incidence\n",
        "#sum types by country and year.\n",
        "\n",
        "df_dis_cluster2 = df_dis_cluster2.groupby(['Year', 'code', 'country_name', 'iso', 'cluster'],as_index=False).sum('Count')\n",
        "df_dis_cluster2"
      ],
      "metadata": {
        "colab": {
          "base_uri": "https://localhost:8080/",
          "height": 424
        },
        "id": "EZseHaRbt0x9",
        "outputId": "fb8c0043-9d72-4c4d-c7c8-22be49a7771e"
      },
      "execution_count": 22,
      "outputs": [
        {
          "output_type": "execute_result",
          "data": {
            "text/plain": [
              "      Year code                       country_name  iso  cluster  Count\n",
              "0     1990  084                             Belize  BLZ        6    1.0\n",
              "1     1990  144                          Sri Lanka  LKA        2    1.0\n",
              "2     1990  156                              China  CHN        1    2.0\n",
              "3     1990  192                               Cuba  CUB        4    1.0\n",
              "4     1990  214                 Dominican Republic  DOM        2    1.0\n",
              "...    ...  ...                                ...  ...      ...    ...\n",
              "1921  2022  788                            Tunisia  TUN        4    1.0\n",
              "1922  2022  800                             Uganda  UGA        2    1.0\n",
              "1923  2022  840                      United States  USA        5    1.0\n",
              "1924  2022  862  Venezuela, Bolivarian Republic of  VEN        1    1.0\n",
              "1925  2022  894                             Zambia  ZMB        2    1.0\n",
              "\n",
              "[1926 rows x 6 columns]"
            ],
            "text/html": [
              "\n",
              "  <div id=\"df-78650fb4-dc1a-46e5-9a4c-ec3c41fb546c\">\n",
              "    <div class=\"colab-df-container\">\n",
              "      <div>\n",
              "<style scoped>\n",
              "    .dataframe tbody tr th:only-of-type {\n",
              "        vertical-align: middle;\n",
              "    }\n",
              "\n",
              "    .dataframe tbody tr th {\n",
              "        vertical-align: top;\n",
              "    }\n",
              "\n",
              "    .dataframe thead th {\n",
              "        text-align: right;\n",
              "    }\n",
              "</style>\n",
              "<table border=\"1\" class=\"dataframe\">\n",
              "  <thead>\n",
              "    <tr style=\"text-align: right;\">\n",
              "      <th></th>\n",
              "      <th>Year</th>\n",
              "      <th>code</th>\n",
              "      <th>country_name</th>\n",
              "      <th>iso</th>\n",
              "      <th>cluster</th>\n",
              "      <th>Count</th>\n",
              "    </tr>\n",
              "  </thead>\n",
              "  <tbody>\n",
              "    <tr>\n",
              "      <th>0</th>\n",
              "      <td>1990</td>\n",
              "      <td>084</td>\n",
              "      <td>Belize</td>\n",
              "      <td>BLZ</td>\n",
              "      <td>6</td>\n",
              "      <td>1.0</td>\n",
              "    </tr>\n",
              "    <tr>\n",
              "      <th>1</th>\n",
              "      <td>1990</td>\n",
              "      <td>144</td>\n",
              "      <td>Sri Lanka</td>\n",
              "      <td>LKA</td>\n",
              "      <td>2</td>\n",
              "      <td>1.0</td>\n",
              "    </tr>\n",
              "    <tr>\n",
              "      <th>2</th>\n",
              "      <td>1990</td>\n",
              "      <td>156</td>\n",
              "      <td>China</td>\n",
              "      <td>CHN</td>\n",
              "      <td>1</td>\n",
              "      <td>2.0</td>\n",
              "    </tr>\n",
              "    <tr>\n",
              "      <th>3</th>\n",
              "      <td>1990</td>\n",
              "      <td>192</td>\n",
              "      <td>Cuba</td>\n",
              "      <td>CUB</td>\n",
              "      <td>4</td>\n",
              "      <td>1.0</td>\n",
              "    </tr>\n",
              "    <tr>\n",
              "      <th>4</th>\n",
              "      <td>1990</td>\n",
              "      <td>214</td>\n",
              "      <td>Dominican Republic</td>\n",
              "      <td>DOM</td>\n",
              "      <td>2</td>\n",
              "      <td>1.0</td>\n",
              "    </tr>\n",
              "    <tr>\n",
              "      <th>...</th>\n",
              "      <td>...</td>\n",
              "      <td>...</td>\n",
              "      <td>...</td>\n",
              "      <td>...</td>\n",
              "      <td>...</td>\n",
              "      <td>...</td>\n",
              "    </tr>\n",
              "    <tr>\n",
              "      <th>1921</th>\n",
              "      <td>2022</td>\n",
              "      <td>788</td>\n",
              "      <td>Tunisia</td>\n",
              "      <td>TUN</td>\n",
              "      <td>4</td>\n",
              "      <td>1.0</td>\n",
              "    </tr>\n",
              "    <tr>\n",
              "      <th>1922</th>\n",
              "      <td>2022</td>\n",
              "      <td>800</td>\n",
              "      <td>Uganda</td>\n",
              "      <td>UGA</td>\n",
              "      <td>2</td>\n",
              "      <td>1.0</td>\n",
              "    </tr>\n",
              "    <tr>\n",
              "      <th>1923</th>\n",
              "      <td>2022</td>\n",
              "      <td>840</td>\n",
              "      <td>United States</td>\n",
              "      <td>USA</td>\n",
              "      <td>5</td>\n",
              "      <td>1.0</td>\n",
              "    </tr>\n",
              "    <tr>\n",
              "      <th>1924</th>\n",
              "      <td>2022</td>\n",
              "      <td>862</td>\n",
              "      <td>Venezuela, Bolivarian Republic of</td>\n",
              "      <td>VEN</td>\n",
              "      <td>1</td>\n",
              "      <td>1.0</td>\n",
              "    </tr>\n",
              "    <tr>\n",
              "      <th>1925</th>\n",
              "      <td>2022</td>\n",
              "      <td>894</td>\n",
              "      <td>Zambia</td>\n",
              "      <td>ZMB</td>\n",
              "      <td>2</td>\n",
              "      <td>1.0</td>\n",
              "    </tr>\n",
              "  </tbody>\n",
              "</table>\n",
              "<p>1926 rows × 6 columns</p>\n",
              "</div>\n",
              "      <button class=\"colab-df-convert\" onclick=\"convertToInteractive('df-78650fb4-dc1a-46e5-9a4c-ec3c41fb546c')\"\n",
              "              title=\"Convert this dataframe to an interactive table.\"\n",
              "              style=\"display:none;\">\n",
              "        \n",
              "  <svg xmlns=\"http://www.w3.org/2000/svg\" height=\"24px\"viewBox=\"0 0 24 24\"\n",
              "       width=\"24px\">\n",
              "    <path d=\"M0 0h24v24H0V0z\" fill=\"none\"/>\n",
              "    <path d=\"M18.56 5.44l.94 2.06.94-2.06 2.06-.94-2.06-.94-.94-2.06-.94 2.06-2.06.94zm-11 1L8.5 8.5l.94-2.06 2.06-.94-2.06-.94L8.5 2.5l-.94 2.06-2.06.94zm10 10l.94 2.06.94-2.06 2.06-.94-2.06-.94-.94-2.06-.94 2.06-2.06.94z\"/><path d=\"M17.41 7.96l-1.37-1.37c-.4-.4-.92-.59-1.43-.59-.52 0-1.04.2-1.43.59L10.3 9.45l-7.72 7.72c-.78.78-.78 2.05 0 2.83L4 21.41c.39.39.9.59 1.41.59.51 0 1.02-.2 1.41-.59l7.78-7.78 2.81-2.81c.8-.78.8-2.07 0-2.86zM5.41 20L4 18.59l7.72-7.72 1.47 1.35L5.41 20z\"/>\n",
              "  </svg>\n",
              "      </button>\n",
              "      \n",
              "  <style>\n",
              "    .colab-df-container {\n",
              "      display:flex;\n",
              "      flex-wrap:wrap;\n",
              "      gap: 12px;\n",
              "    }\n",
              "\n",
              "    .colab-df-convert {\n",
              "      background-color: #E8F0FE;\n",
              "      border: none;\n",
              "      border-radius: 50%;\n",
              "      cursor: pointer;\n",
              "      display: none;\n",
              "      fill: #1967D2;\n",
              "      height: 32px;\n",
              "      padding: 0 0 0 0;\n",
              "      width: 32px;\n",
              "    }\n",
              "\n",
              "    .colab-df-convert:hover {\n",
              "      background-color: #E2EBFA;\n",
              "      box-shadow: 0px 1px 2px rgba(60, 64, 67, 0.3), 0px 1px 3px 1px rgba(60, 64, 67, 0.15);\n",
              "      fill: #174EA6;\n",
              "    }\n",
              "\n",
              "    [theme=dark] .colab-df-convert {\n",
              "      background-color: #3B4455;\n",
              "      fill: #D2E3FC;\n",
              "    }\n",
              "\n",
              "    [theme=dark] .colab-df-convert:hover {\n",
              "      background-color: #434B5C;\n",
              "      box-shadow: 0px 1px 3px 1px rgba(0, 0, 0, 0.15);\n",
              "      filter: drop-shadow(0px 1px 2px rgba(0, 0, 0, 0.3));\n",
              "      fill: #FFFFFF;\n",
              "    }\n",
              "  </style>\n",
              "\n",
              "      <script>\n",
              "        const buttonEl =\n",
              "          document.querySelector('#df-78650fb4-dc1a-46e5-9a4c-ec3c41fb546c button.colab-df-convert');\n",
              "        buttonEl.style.display =\n",
              "          google.colab.kernel.accessAllowed ? 'block' : 'none';\n",
              "\n",
              "        async function convertToInteractive(key) {\n",
              "          const element = document.querySelector('#df-78650fb4-dc1a-46e5-9a4c-ec3c41fb546c');\n",
              "          const dataTable =\n",
              "            await google.colab.kernel.invokeFunction('convertToInteractive',\n",
              "                                                     [key], {});\n",
              "          if (!dataTable) return;\n",
              "\n",
              "          const docLinkHtml = 'Like what you see? Visit the ' +\n",
              "            '<a target=\"_blank\" href=https://colab.research.google.com/notebooks/data_table.ipynb>data table notebook</a>'\n",
              "            + ' to learn more about interactive tables.';\n",
              "          element.innerHTML = '';\n",
              "          dataTable['output_type'] = 'display_data';\n",
              "          await google.colab.output.renderOutput(dataTable, element);\n",
              "          const docLink = document.createElement('div');\n",
              "          docLink.innerHTML = docLinkHtml;\n",
              "          element.appendChild(docLink);\n",
              "        }\n",
              "      </script>\n",
              "    </div>\n",
              "  </div>\n",
              "  "
            ]
          },
          "metadata": {},
          "execution_count": 22
        }
      ]
    },
    {
      "cell_type": "code",
      "source": [
        "import json\n",
        "exported_values = list(df_dis_cluster2.T.to_dict().values())\n",
        "#then take this list and write it as a json file.\n",
        "open('dis_cluster_notype.json', 'w').write(json.dumps(exported_values))"
      ],
      "metadata": {
        "colab": {
          "base_uri": "https://localhost:8080/"
        },
        "id": "88_YXmmTvWjz",
        "outputId": "69cf5842-89fb-40b6-8833-dcd620a28c7f"
      },
      "execution_count": null,
      "outputs": [
        {
          "output_type": "execute_result",
          "data": {
            "text/plain": [
              "198288"
            ]
          },
          "metadata": {},
          "execution_count": 34
        }
      ]
    },
    {
      "cell_type": "code",
      "source": [
        "#Also exporting the cluster helper to have as a live json file on github.\n",
        "import json\n",
        "#resetting index to have country column\n",
        "cluster_helper = cluster_helper.reset_index(level=0)\n",
        "\n",
        "exported_values = list(cluster_helper.T.to_dict().values())\n",
        "#then take this list and write it as a json file.\n",
        "open('cluster_helper.json', 'w').write(json.dumps(exported_values))"
      ],
      "metadata": {
        "colab": {
          "base_uri": "https://localhost:8080/"
        },
        "id": "7sRRb1vEqm48",
        "outputId": "435721fd-dda1-45a8-9c61-ed33b3b58a76"
      },
      "execution_count": 25,
      "outputs": [
        {
          "output_type": "execute_result",
          "data": {
            "text/plain": [
              "11964"
            ]
          },
          "metadata": {},
          "execution_count": 25
        }
      ]
    },
    {
      "cell_type": "markdown",
      "source": [
        "## Disasters per cluster, 2007 - 2022"
      ],
      "metadata": {
        "id": "zTy5E64tUK5j"
      }
    },
    {
      "cell_type": "code",
      "source": [
        "#Take dataset by countries, type, year, and count (df_n2):\n",
        "#This dataframe has type = NaN for years with 0 'count'. Can 'drop' these rows.\n",
        "\n",
        "df_n2_nona = df_n2[df_n2['Type'].notna()]\n",
        "df_n2_nona"
      ],
      "metadata": {
        "id": "dQL8RT5mUV8r"
      },
      "execution_count": null,
      "outputs": []
    },
    {
      "cell_type": "code",
      "source": [
        "#Now restrict this to only be disassters from 2007 - 2022 (since comparing EPI in 2012 and 2022, so prior data not relevant)\n",
        "df_gap = df_n2_nona[df_n2_nona['Year'] >= 2007]"
      ],
      "metadata": {
        "id": "i6PlACUIXuW5"
      },
      "execution_count": 24,
      "outputs": []
    },
    {
      "cell_type": "code",
      "source": [
        "#Since we only want a few disaster types, can group together similar disasters, i.e. flood & flash flood.\n",
        "df_gap.loc[df_gap['Type'] == \"Flash Flood\", 'Type'] = \"Flood\"\n",
        "df_gap.loc[df_gap['Type'] == \"Storm Surge\", 'Type'] = \"Tropical Cyclone\"\n",
        "df_gap.loc[df_gap['Type'] == \"Extratropical Cyclone\", 'Type'] = \"Tropical Cyclone\"\n",
        "df_gap.loc[df_gap['Type'] == \"Wild Fire\", 'Type'] = \"Fire\"\n",
        "df_gap.loc[df_gap['Type'] == \"Cold Wave\", 'Type'] = \"Cold/Heat Wave\"\n",
        "df_gap.loc[df_gap['Type'] == \"Heat Wave\", 'Type'] = \"Cold/Heat Wave\"\n",
        "df_gap['Type'].unique()"
      ],
      "metadata": {
        "id": "Tj2w4uByx0Jz"
      },
      "execution_count": null,
      "outputs": []
    },
    {
      "cell_type": "code",
      "source": [
        "#Add results of clustering using the sane cluster 'helper' dataframe from above.\n",
        "df_cluster = pd.read_json('https://raw.githubusercontent.com/finntrinci/finntrinci.github.io/main/data/EPI2022_clustered(c_6).json')\n",
        "cluster_helper = df_cluster[['country', 'code', 'iso', 'cluster']].drop_duplicates().set_index('country')\n",
        "\n",
        "#making country_numeric integer\n",
        "df_gap['country_numeric'] = df_gap['country_numeric'].astype(int)\n",
        "df_gap_merge = df_gap.rename(columns ={'country_numeric':'code'})\n",
        "\n",
        "#now mergine\n",
        "df_gap_cluster = pd.merge(df_gap_merge, cluster_helper, on = 'code', how='left')\n",
        "\n",
        "#setting the country codes back to 3 digits:\n",
        "df_gap_cluster['code'] = df_gap_cluster['code'].astype(str).str.zfill(3)\n",
        "df_gap_cluster"
      ],
      "metadata": {
        "id": "6lqpgWLTYXbD"
      },
      "execution_count": null,
      "outputs": []
    },
    {
      "cell_type": "code",
      "source": [
        "#now we want to count the number of countries in each cluster, so we can have 'disasters per country' for each cluster.\n",
        "cluster_sizes = cluster_helper['cluster'].value_counts()"
      ],
      "metadata": {
        "id": "nVF5GhepZ1jL"
      },
      "execution_count": 27,
      "outputs": []
    },
    {
      "cell_type": "code",
      "source": [
        "#sum disasters across clusters\n",
        "df_gap_cluster_counts = df_gap_cluster.groupby(['cluster', 'Type'], as_index=False).sum('Count')\n"
      ],
      "metadata": {
        "id": "niXzQmwjeQkR"
      },
      "execution_count": 28,
      "outputs": []
    },
    {
      "cell_type": "code",
      "source": [
        "df_gap_cluster_counts = df_gap_cluster_counts.drop('Year', axis=1)"
      ],
      "metadata": {
        "id": "gM42BCBSfyPC"
      },
      "execution_count": 29,
      "outputs": []
    },
    {
      "cell_type": "code",
      "source": [
        "#Adding a 'total' row for each cluster, need to first create a dataframe to append\n",
        "df_gap_cluster_totals = df_gap_cluster_counts.groupby (['cluster'], as_index=False).sum('Count')\n",
        "df_gap_cluster_totals['Type'] = ['Total', 'Total', 'Total', 'Total', 'Total', 'Total']\n",
        "df_gap_cluster_totals"
      ],
      "metadata": {
        "id": "9autFGSef185"
      },
      "execution_count": null,
      "outputs": []
    },
    {
      "cell_type": "code",
      "source": [
        "#appending this totals dataset onto the count one and sorting by cluster.\n",
        "df_gap_cluster_all_counts = df_gap_cluster_counts.append(df_gap_cluster_totals)\n",
        "df_gap_cluster_all_counts.sort_values(['cluster', 'Type'])"
      ],
      "metadata": {
        "id": "7_VOmLYeidVi"
      },
      "execution_count": null,
      "outputs": []
    },
    {
      "cell_type": "code",
      "source": [
        "#creating 'count per country' column using the cluster_sizes array we created earlier\n",
        "cluster_size = pd.DataFrame(cluster_sizes).reset_index().rename({\"index\":\"cluster\", \"cluster\":\"n_countries\"}, axis=1)\n"
      ],
      "metadata": {
        "id": "evjkiihsjZn3"
      },
      "execution_count": 32,
      "outputs": []
    },
    {
      "cell_type": "code",
      "source": [
        "#appending cluster_size as new column and then creating the count per country column.\n",
        "df_gap_cluster_complete = pd.merge(df_gap_cluster_all_counts, cluster_size, on = 'cluster', how='left')\n",
        "df_gap_cluster_complete['Count_per_country'] = df_gap_cluster_complete['Count']/df_gap_cluster_complete['n_countries']"
      ],
      "metadata": {
        "id": "-aP5iwern_tq"
      },
      "execution_count": null,
      "outputs": []
    },
    {
      "cell_type": "code",
      "source": [
        "#adding the average EPI change column onto this, generated in 'Comparing 2012 and 2022 Data' section of EPI notebook\n",
        "df_epi_diff = pd.read_json('https://raw.githubusercontent.com/finntrinci/finntrinci.github.io/main/data/EPI_cluster_avg_diff.json')"
      ],
      "metadata": {
        "id": "M7r5E2Vhy_0G"
      },
      "execution_count": 34,
      "outputs": []
    },
    {
      "cell_type": "code",
      "source": [
        "#adding the average differences column\n",
        "df_gap_cluster_complete2 = pd.merge(df_gap_cluster_complete, df_epi_diff, on = ['cluster'], how='left')\n"
      ],
      "metadata": {
        "id": "qnCoNDDEzrwf"
      },
      "execution_count": 35,
      "outputs": []
    },
    {
      "cell_type": "code",
      "source": [
        "df_gap_cluster_complete2"
      ],
      "metadata": {
        "id": "kk78MbDidook"
      },
      "execution_count": null,
      "outputs": []
    },
    {
      "cell_type": "code",
      "source": [
        "#getting list of types.\n",
        "df_gap_cluster_complete2['Type'].unique()"
      ],
      "metadata": {
        "colab": {
          "base_uri": "https://localhost:8080/"
        },
        "id": "nUEY8gD024Ma",
        "outputId": "006c4c91-ba88-4a0c-fd5c-56e2f4c105f2"
      },
      "execution_count": 36,
      "outputs": [
        {
          "output_type": "execute_result",
          "data": {
            "text/plain": [
              "array(['Cold/Heat Wave', 'Drought', 'Fire', 'Flood', 'Severe Local Storm',\n",
              "       'Tropical Cyclone', 'Total'], dtype=object)"
            ]
          },
          "metadata": {},
          "execution_count": 36
        }
      ]
    },
    {
      "cell_type": "code",
      "source": [
        "#Need observations for each cluster and disaster type, so 0 rows instead of non-existent rows.\n",
        "data = []\n",
        "\n",
        "for c in df_gap_cluster_complete2['cluster'].unique():\n",
        "  for j in df_gap_cluster_complete2['Type'].unique():\n",
        "    for t in df_gap_cluster_complete2['year']:\n",
        "      data.append({'cluster':c, 'Type':j, 'year':t})\n",
        "\n",
        "\n",
        "pd.DataFrame(data)\n",
        "df_gap_cluster_very_complete = pd.DataFrame(data).set_index(['cluster', 'Type', 'year']).join(df_gap_cluster_complete2.set_index(['cluster', 'Type', 'year'])).fillna(0).reset_index()"
      ],
      "metadata": {
        "id": "v3003dJI5ina"
      },
      "execution_count": 37,
      "outputs": []
    },
    {
      "cell_type": "code",
      "source": [
        "#drop the duplicates created through this.\n",
        "df_gap_cluster_very_complete = df_gap_cluster_very_complete.drop_duplicates()"
      ],
      "metadata": {
        "id": "GHPhgJxFeOOI"
      },
      "execution_count": 38,
      "outputs": []
    },
    {
      "cell_type": "code",
      "source": [
        "#issue: instead of having descriptive data (1dim_cluster etc.) we have 0, need to re-merge with original data to have this for each row\n",
        "#restricting to only columns we want.\n",
        "varlist = ['cluster', 'year', 'n_countries', '1dim_cluster', 'diff_avg', 'positive']\n",
        "df_final_merge = df_gap_cluster_complete2[varlist]"
      ],
      "metadata": {
        "id": "2urg0I9WgdoH"
      },
      "execution_count": 39,
      "outputs": []
    },
    {
      "cell_type": "code",
      "source": [
        "df_final_merge = df_final_merge.drop_duplicates()"
      ],
      "metadata": {
        "id": "j1ey9dsljg7g"
      },
      "execution_count": 40,
      "outputs": []
    },
    {
      "cell_type": "code",
      "source": [
        "df_gap_cluster_super_complete = pd.merge(df_gap_cluster_very_complete, df_final_merge, on = ['cluster', 'year'], how='left')"
      ],
      "metadata": {
        "id": "ydj-rVuKfkd5"
      },
      "execution_count": 41,
      "outputs": []
    },
    {
      "cell_type": "code",
      "source": [
        "#cleaning: getting rid of columns\n",
        "df_gap_cluster_super_complete = df_gap_cluster_super_complete.drop(['n_countries_x', '1dim_cluster_x', 'diff_avg_x', 'n_countries_x', 'positive_x'], axis=1)\n",
        "#cleaning: renaming columnd\n",
        "df_gap_cluster_super_complete = df_gap_cluster_super_complete.rename({'n_countries_y':'n_countries', '1dim_cluster_y':'1dim_cluster', 'diff_avg_y':'diff_avg', 'positive_y':'positive'}, axis=1)"
      ],
      "metadata": {
        "id": "l80iHbGOkdKy"
      },
      "execution_count": 42,
      "outputs": []
    },
    {
      "cell_type": "code",
      "source": [
        "df_gap_cluster_super_complete"
      ],
      "metadata": {
        "colab": {
          "base_uri": "https://localhost:8080/",
          "height": 310
        },
        "id": "LcvM2fIPNesR",
        "outputId": "139dc976-03b5-4691-d110-49b6419d9432"
      },
      "execution_count": 47,
      "outputs": [
        {
          "output_type": "execute_result",
          "data": {
            "text/plain": [
              "    cluster                Type  year  Count  Count_per_country  n_countries  \\\n",
              "0         1      Cold/Heat Wave  2012    4.0           0.137931           29   \n",
              "1         1      Cold/Heat Wave  2022    4.0           0.137931           29   \n",
              "2         1             Drought  2012   20.0           0.689655           29   \n",
              "3         1             Drought  2022   20.0           0.689655           29   \n",
              "4         1                Fire  2012    8.0           0.275862           29   \n",
              "..      ...                 ...   ...    ...                ...          ...   \n",
              "79        6  Severe Local Storm  2022    5.0           0.277778           18   \n",
              "80        6               Total  2012  192.0          10.666667           18   \n",
              "81        6               Total  2022  192.0          10.666667           18   \n",
              "82        6    Tropical Cyclone  2012   64.0           3.555556           18   \n",
              "83        6    Tropical Cyclone  2022   64.0           3.555556           18   \n",
              "\n",
              "    1dim_cluster   diff_avg  positive  \n",
              "0     -16.241631  29.411336         1  \n",
              "1      13.169705  29.411336         1  \n",
              "2     -16.241631  29.411336         1  \n",
              "3      13.169705  29.411336         1  \n",
              "4     -16.241631  29.411336         1  \n",
              "..           ...        ...       ...  \n",
              "79    -27.147355   0.766087         1  \n",
              "80    -27.913441   0.766087         1  \n",
              "81    -27.147355   0.766087         1  \n",
              "82    -27.913441   0.766087         1  \n",
              "83    -27.147355   0.766087         1  \n",
              "\n",
              "[84 rows x 9 columns]"
            ],
            "text/html": [
              "\n",
              "  <div id=\"df-30121675-e30e-4466-949a-aab7158cec66\">\n",
              "    <div class=\"colab-df-container\">\n",
              "      <div>\n",
              "<style scoped>\n",
              "    .dataframe tbody tr th:only-of-type {\n",
              "        vertical-align: middle;\n",
              "    }\n",
              "\n",
              "    .dataframe tbody tr th {\n",
              "        vertical-align: top;\n",
              "    }\n",
              "\n",
              "    .dataframe thead th {\n",
              "        text-align: right;\n",
              "    }\n",
              "</style>\n",
              "<table border=\"1\" class=\"dataframe\">\n",
              "  <thead>\n",
              "    <tr style=\"text-align: right;\">\n",
              "      <th></th>\n",
              "      <th>cluster</th>\n",
              "      <th>Type</th>\n",
              "      <th>year</th>\n",
              "      <th>Count</th>\n",
              "      <th>Count_per_country</th>\n",
              "      <th>n_countries</th>\n",
              "      <th>1dim_cluster</th>\n",
              "      <th>diff_avg</th>\n",
              "      <th>positive</th>\n",
              "    </tr>\n",
              "  </thead>\n",
              "  <tbody>\n",
              "    <tr>\n",
              "      <th>0</th>\n",
              "      <td>1</td>\n",
              "      <td>Cold/Heat Wave</td>\n",
              "      <td>2012</td>\n",
              "      <td>4.0</td>\n",
              "      <td>0.137931</td>\n",
              "      <td>29</td>\n",
              "      <td>-16.241631</td>\n",
              "      <td>29.411336</td>\n",
              "      <td>1</td>\n",
              "    </tr>\n",
              "    <tr>\n",
              "      <th>1</th>\n",
              "      <td>1</td>\n",
              "      <td>Cold/Heat Wave</td>\n",
              "      <td>2022</td>\n",
              "      <td>4.0</td>\n",
              "      <td>0.137931</td>\n",
              "      <td>29</td>\n",
              "      <td>13.169705</td>\n",
              "      <td>29.411336</td>\n",
              "      <td>1</td>\n",
              "    </tr>\n",
              "    <tr>\n",
              "      <th>2</th>\n",
              "      <td>1</td>\n",
              "      <td>Drought</td>\n",
              "      <td>2012</td>\n",
              "      <td>20.0</td>\n",
              "      <td>0.689655</td>\n",
              "      <td>29</td>\n",
              "      <td>-16.241631</td>\n",
              "      <td>29.411336</td>\n",
              "      <td>1</td>\n",
              "    </tr>\n",
              "    <tr>\n",
              "      <th>3</th>\n",
              "      <td>1</td>\n",
              "      <td>Drought</td>\n",
              "      <td>2022</td>\n",
              "      <td>20.0</td>\n",
              "      <td>0.689655</td>\n",
              "      <td>29</td>\n",
              "      <td>13.169705</td>\n",
              "      <td>29.411336</td>\n",
              "      <td>1</td>\n",
              "    </tr>\n",
              "    <tr>\n",
              "      <th>4</th>\n",
              "      <td>1</td>\n",
              "      <td>Fire</td>\n",
              "      <td>2012</td>\n",
              "      <td>8.0</td>\n",
              "      <td>0.275862</td>\n",
              "      <td>29</td>\n",
              "      <td>-16.241631</td>\n",
              "      <td>29.411336</td>\n",
              "      <td>1</td>\n",
              "    </tr>\n",
              "    <tr>\n",
              "      <th>...</th>\n",
              "      <td>...</td>\n",
              "      <td>...</td>\n",
              "      <td>...</td>\n",
              "      <td>...</td>\n",
              "      <td>...</td>\n",
              "      <td>...</td>\n",
              "      <td>...</td>\n",
              "      <td>...</td>\n",
              "      <td>...</td>\n",
              "    </tr>\n",
              "    <tr>\n",
              "      <th>79</th>\n",
              "      <td>6</td>\n",
              "      <td>Severe Local Storm</td>\n",
              "      <td>2022</td>\n",
              "      <td>5.0</td>\n",
              "      <td>0.277778</td>\n",
              "      <td>18</td>\n",
              "      <td>-27.147355</td>\n",
              "      <td>0.766087</td>\n",
              "      <td>1</td>\n",
              "    </tr>\n",
              "    <tr>\n",
              "      <th>80</th>\n",
              "      <td>6</td>\n",
              "      <td>Total</td>\n",
              "      <td>2012</td>\n",
              "      <td>192.0</td>\n",
              "      <td>10.666667</td>\n",
              "      <td>18</td>\n",
              "      <td>-27.913441</td>\n",
              "      <td>0.766087</td>\n",
              "      <td>1</td>\n",
              "    </tr>\n",
              "    <tr>\n",
              "      <th>81</th>\n",
              "      <td>6</td>\n",
              "      <td>Total</td>\n",
              "      <td>2022</td>\n",
              "      <td>192.0</td>\n",
              "      <td>10.666667</td>\n",
              "      <td>18</td>\n",
              "      <td>-27.147355</td>\n",
              "      <td>0.766087</td>\n",
              "      <td>1</td>\n",
              "    </tr>\n",
              "    <tr>\n",
              "      <th>82</th>\n",
              "      <td>6</td>\n",
              "      <td>Tropical Cyclone</td>\n",
              "      <td>2012</td>\n",
              "      <td>64.0</td>\n",
              "      <td>3.555556</td>\n",
              "      <td>18</td>\n",
              "      <td>-27.913441</td>\n",
              "      <td>0.766087</td>\n",
              "      <td>1</td>\n",
              "    </tr>\n",
              "    <tr>\n",
              "      <th>83</th>\n",
              "      <td>6</td>\n",
              "      <td>Tropical Cyclone</td>\n",
              "      <td>2022</td>\n",
              "      <td>64.0</td>\n",
              "      <td>3.555556</td>\n",
              "      <td>18</td>\n",
              "      <td>-27.147355</td>\n",
              "      <td>0.766087</td>\n",
              "      <td>1</td>\n",
              "    </tr>\n",
              "  </tbody>\n",
              "</table>\n",
              "<p>84 rows × 9 columns</p>\n",
              "</div>\n",
              "      <button class=\"colab-df-convert\" onclick=\"convertToInteractive('df-30121675-e30e-4466-949a-aab7158cec66')\"\n",
              "              title=\"Convert this dataframe to an interactive table.\"\n",
              "              style=\"display:none;\">\n",
              "        \n",
              "  <svg xmlns=\"http://www.w3.org/2000/svg\" height=\"24px\"viewBox=\"0 0 24 24\"\n",
              "       width=\"24px\">\n",
              "    <path d=\"M0 0h24v24H0V0z\" fill=\"none\"/>\n",
              "    <path d=\"M18.56 5.44l.94 2.06.94-2.06 2.06-.94-2.06-.94-.94-2.06-.94 2.06-2.06.94zm-11 1L8.5 8.5l.94-2.06 2.06-.94-2.06-.94L8.5 2.5l-.94 2.06-2.06.94zm10 10l.94 2.06.94-2.06 2.06-.94-2.06-.94-.94-2.06-.94 2.06-2.06.94z\"/><path d=\"M17.41 7.96l-1.37-1.37c-.4-.4-.92-.59-1.43-.59-.52 0-1.04.2-1.43.59L10.3 9.45l-7.72 7.72c-.78.78-.78 2.05 0 2.83L4 21.41c.39.39.9.59 1.41.59.51 0 1.02-.2 1.41-.59l7.78-7.78 2.81-2.81c.8-.78.8-2.07 0-2.86zM5.41 20L4 18.59l7.72-7.72 1.47 1.35L5.41 20z\"/>\n",
              "  </svg>\n",
              "      </button>\n",
              "      \n",
              "  <style>\n",
              "    .colab-df-container {\n",
              "      display:flex;\n",
              "      flex-wrap:wrap;\n",
              "      gap: 12px;\n",
              "    }\n",
              "\n",
              "    .colab-df-convert {\n",
              "      background-color: #E8F0FE;\n",
              "      border: none;\n",
              "      border-radius: 50%;\n",
              "      cursor: pointer;\n",
              "      display: none;\n",
              "      fill: #1967D2;\n",
              "      height: 32px;\n",
              "      padding: 0 0 0 0;\n",
              "      width: 32px;\n",
              "    }\n",
              "\n",
              "    .colab-df-convert:hover {\n",
              "      background-color: #E2EBFA;\n",
              "      box-shadow: 0px 1px 2px rgba(60, 64, 67, 0.3), 0px 1px 3px 1px rgba(60, 64, 67, 0.15);\n",
              "      fill: #174EA6;\n",
              "    }\n",
              "\n",
              "    [theme=dark] .colab-df-convert {\n",
              "      background-color: #3B4455;\n",
              "      fill: #D2E3FC;\n",
              "    }\n",
              "\n",
              "    [theme=dark] .colab-df-convert:hover {\n",
              "      background-color: #434B5C;\n",
              "      box-shadow: 0px 1px 3px 1px rgba(0, 0, 0, 0.15);\n",
              "      filter: drop-shadow(0px 1px 2px rgba(0, 0, 0, 0.3));\n",
              "      fill: #FFFFFF;\n",
              "    }\n",
              "  </style>\n",
              "\n",
              "      <script>\n",
              "        const buttonEl =\n",
              "          document.querySelector('#df-30121675-e30e-4466-949a-aab7158cec66 button.colab-df-convert');\n",
              "        buttonEl.style.display =\n",
              "          google.colab.kernel.accessAllowed ? 'block' : 'none';\n",
              "\n",
              "        async function convertToInteractive(key) {\n",
              "          const element = document.querySelector('#df-30121675-e30e-4466-949a-aab7158cec66');\n",
              "          const dataTable =\n",
              "            await google.colab.kernel.invokeFunction('convertToInteractive',\n",
              "                                                     [key], {});\n",
              "          if (!dataTable) return;\n",
              "\n",
              "          const docLinkHtml = 'Like what you see? Visit the ' +\n",
              "            '<a target=\"_blank\" href=https://colab.research.google.com/notebooks/data_table.ipynb>data table notebook</a>'\n",
              "            + ' to learn more about interactive tables.';\n",
              "          element.innerHTML = '';\n",
              "          dataTable['output_type'] = 'display_data';\n",
              "          await google.colab.output.renderOutput(dataTable, element);\n",
              "          const docLink = document.createElement('div');\n",
              "          docLink.innerHTML = docLinkHtml;\n",
              "          element.appendChild(docLink);\n",
              "        }\n",
              "      </script>\n",
              "    </div>\n",
              "  </div>\n",
              "  "
            ]
          },
          "metadata": {},
          "execution_count": 47
        }
      ]
    },
    {
      "cell_type": "code",
      "source": [
        "#issue with final graph since cluster 6 and 5 had exact same fires per country, marginal change (0.0000001 increase)\n",
        "# to fix this\n",
        "df_gap_cluster_super_complete.at[74, 'Count_per_country'] = 0.1111112\n",
        "df_gap_cluster_super_complete.at[75, 'Count_per_country'] = 0.1111112"
      ],
      "metadata": {
        "id": "rmfnSN6aky-8"
      },
      "execution_count": 48,
      "outputs": []
    },
    {
      "cell_type": "code",
      "source": [
        "#export dataset for use in vega-lite\n",
        "import json\n",
        "exported_values = list(df_gap_cluster_super_complete.T.to_dict().values())\n",
        "open('dis_epi_clustered_compare.json', \"w\").write(json.dumps(exported_values))"
      ],
      "metadata": {
        "colab": {
          "base_uri": "https://localhost:8080/"
        },
        "id": "61NM7Wfw0cJY",
        "outputId": "7b02aec4-4c79-42b9-d2a3-c6031364ce10"
      },
      "execution_count": 50,
      "outputs": [
        {
          "output_type": "execute_result",
          "data": {
            "text/plain": [
              "17448"
            ]
          },
          "metadata": {},
          "execution_count": 50
        }
      ]
    }
  ]
}